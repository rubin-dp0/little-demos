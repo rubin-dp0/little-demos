{
 "cells": [
  {
   "cell_type": "markdown",
   "id": "749b0ddf",
   "metadata": {},
   "source": [
    "<img align=\"left\" src = https://project.lsst.org/sites/default/files/Rubin-O-Logo_0.png width=250 style=\"padding: 10px\"> \n",
    "<b>CST Template Notebook</b> <br>\n",
    "Contact author(s): <i>Christina Williams, Leanne Guy</i> <br>\n",
    "Last verified to run: <i>2023-09-12</i> <br>\n",
    "LSST Science Piplines version: Weekly <i>yyyy_xx</i> <br>\n",
    "Container Size: <i>medium</i> <br>\n",
    "Targeted learning level: <i>beginner</i> <br>"
   ]
  },
  {
   "cell_type": "markdown",
   "id": "9da1a210-d858-42fe-8591-570965b8be1a",
   "metadata": {},
   "source": [
    "**Description:** _Demonstration of how to use the cutout tool for calexp and deepCoadds_"
   ]
  },
  {
   "cell_type": "markdown",
   "id": "cfc73be0",
   "metadata": {},
   "source": [
    "## 1. Introduction\n",
    "\n",
    "This is a brief demonstration of how to use the cutout tool. The calls to the cutout tool are embedded in the `make_image_cutout` function."
   ]
  },
  {
   "cell_type": "markdown",
   "id": "dc36f107",
   "metadata": {},
   "source": [
    "### 1.1 Package Imports\n"
   ]
  },
  {
   "cell_type": "code",
   "execution_count": null,
   "id": "cddc1458",
   "metadata": {
    "tags": []
   },
   "outputs": [],
   "source": [
    "# LSST package for Butler queries\n",
    "import lsst.daf.butler as dafButler\n",
    "\n",
    "# LSST package for image display\n",
    "import lsst.afw.display as afwDisplay\n",
    "\n",
    "# Import general python packages\n",
    "import numpy as np\n",
    "import pandas\n",
    "from pandas.testing import assert_frame_equal\n",
    "import uuid\n",
    "import matplotlib.pyplot as plt\n",
    "plt.style.use('tableau-colorblind10')\n",
    "\n",
    "# Science Pipelines imports\n",
    "from lsst.daf.butler import Butler, DatasetType, CollectionType\n",
    "import lsst.geom as geom\n",
    "import lsst.resources\n",
    "from lsst.afw.image import Image, ImageF\n",
    "from lsst.afw.image import Exposure, ExposureF\n",
    "\n",
    "# Plotting with MPL\n",
    "import matplotlib.pyplot as plt\n",
    "\n",
    "# Import the Rubin TAP service utilities\n",
    "from lsst.rsp import get_tap_service\n",
    "\n",
    "# PyVO packages\n",
    "import pyvo\n",
    "from pyvo.dal.adhoc import DatalinkResults, SodaQuery\n",
    "\n",
    "# Astropy\n",
    "from astropy import units as u\n"
   ]
  },
  {
   "cell_type": "markdown",
   "id": "c217adff-25ed-4fce-95e7-8aa04630f6cc",
   "metadata": {},
   "source": [
    "### 1.2 Define Functions and Parameters\n",
    "\n",
    "Two functions are provided here. `make_image_cutout` provides the cutout service for either calexp or deepCoadds, and `plotImage` is simply for convenience of plotting the output."
   ]
  },
  {
   "cell_type": "code",
   "execution_count": null,
   "id": "8503823e-780f-4dbe-9209-d582b3acf538",
   "metadata": {},
   "outputs": [],
   "source": [
    "def plotImage(exposure: ExposureF, img_opt: dict = None):\n",
    "    \"\"\"Plot and image using matplotlib\n",
    "   \n",
    "   Parameters\n",
    "    ----------\n",
    "    image : `Exposure`\n",
    "        the image to plot\n",
    "        \n",
    "    opts : ``\n",
    "   \n",
    "   Returns\n",
    "    -------\n",
    "    title : `str` (only if result is not `None`)\n",
    "        Plot title from string\n",
    "    \"\"\"\n",
    "    \n",
    "    fig, ax = plt.subplots()\n",
    "    display = afwDisplay.Display(frame=fig)\n",
    "    display.scale('asinh', 'zscale')\n",
    "    display.mtv(exposure.image)\n",
    "    plt.show()\n"
   ]
  },
  {
   "cell_type": "code",
   "execution_count": null,
   "id": "66431945-0740-475d-9256-492f6a7b633c",
   "metadata": {
    "tags": []
   },
   "outputs": [],
   "source": [
    "def make_image_cutout(tap_service, ra, dec, cutout_size=0.01, \n",
    "                      imtype=None, dataId=None, filename=None): \n",
    "    \"\"\"Make a cutout using the cutout tool\n",
    "   \n",
    "   Parameters\n",
    "    ----------\n",
    "    # cutout_size is in degrees\n",
    "    # if imtype None, assumes deepCoadd. dataId must correspond to that for provided imtype\n",
    "    # for deepCoadd, dataId should have format {'band':'band', 'tract':tract, 'patch':patch} (band optional)\n",
    "    # for calexp, dataId should have format {'visit':visitId, 'detector':detector}\n",
    "   Returns\n",
    "    -------\n",
    "    \n",
    "    \"\"\"\n",
    "\n",
    "    spherePoint = geom.SpherePoint(ra*geom.degrees, dec*geom.degrees)\n",
    "    \n",
    "    if imtype == 'calexp':\n",
    "        \n",
    "        query = \"SELECT access_format, access_url, dataproduct_subtype, lsst_visit, lsst_detector, \" + \\\n",
    "            \"lsst_band, s_ra, s_dec FROM ivoa.ObsCore WHERE dataproduct_type = 'image' \" + \\\n",
    "            \"AND obs_collection = 'LSST.DP02' \" + \\\n",
    "            \"AND dataproduct_subtype = 'lsst.calexp' \" + \\\n",
    "            \"AND lsst_visit = \" + str(dataId[\"visit\"]) + \" \" + \\\n",
    "            \"AND lsst_detector = \" + str(dataId[\"detector\"])\n",
    "        results = tap_service.search(query) # THIS IS TAP SERVICE\n",
    "\n",
    "    else:\n",
    "        # Find the tract and patch that contain this point\n",
    "        # this is how its done using butler:\n",
    "        tract = dataId[\"tract\"]\n",
    "        patch = dataId[\"patch\"]\n",
    "        \n",
    "        # add optional default band if it is not contained in the dataId\n",
    "        if 'band' in dataId:\n",
    "            band = dataId[\"band\"]\n",
    "        else:\n",
    "            band = 'z'\n",
    "\n",
    "        query = \"SELECT access_format, access_url, dataproduct_subtype, lsst_patch, lsst_tract, \" + \\\n",
    "            \"lsst_band, s_ra, s_dec FROM ivoa.ObsCore WHERE dataproduct_type = 'image' \" + \\\n",
    "            \"AND obs_collection = 'LSST.DP02' \" + \\\n",
    "            \"AND dataproduct_subtype = 'lsst.deepCoadd_calexp' \" + \\\n",
    "            \"AND lsst_tract = \" + str(tract) + \" \" + \\\n",
    "            \"AND lsst_patch = \" + str(patch) + \" \" + \\\n",
    "            \"AND lsst_band = \" + \"'\" + str(band) + \"' \"\n",
    "        results = tap_service.search(query) \n",
    "\n",
    "    #Get datalink\n",
    "    dataLinkUrl = results[0].getdataurl()\n",
    "    f\"Datalink link service url: {dataLinkUrl}\"\n",
    "    auth_session = service._session\n",
    "    dl_results = DatalinkResults.from_result_url(dataLinkUrl,session=auth_session)\n",
    "    f\"{dl_results.status}\"\n",
    "\n",
    "    # from_resource: creates a instance from a number of records and a Datalink Resource.\n",
    "    sq = SodaQuery.from_resource(dl_results, dl_results.get_adhocservice_by_id(\"cutout-sync\"), \n",
    "                                 session=auth_session)\n",
    "\n",
    "    sq.circle = (spherePoint.getRa().asDegrees()* u.deg,\n",
    "                 spherePoint.getDec().asDegrees()*u.deg, \n",
    "                 cutout_size* u.deg)\n",
    "\n",
    "    if filename:\n",
    "        sodaCutout = 'cutouts/'+filename\n",
    "        \n",
    "    else:\n",
    "        sodaCutout = os.path.join(os.getenv('HOME'), 'DATA/soda-cutout.fits')\n",
    "\n",
    "    with open(sodaCutout, 'bw') as f:\n",
    "        f.write(sq.execute_stream().read())\n",
    "        \n",
    "    #sodaCutout is just the filename...\n",
    "    return sodaCutout\n"
   ]
  },
  {
   "cell_type": "markdown",
   "id": "ec51ac0b",
   "metadata": {
    "tags": []
   },
   "source": [
    "## 2. Generating an image cutout using the cutout tool\n",
    "\n",
    "First, demonstrate a simple example retrieving a cutout of a deepCoadd."
   ]
  },
  {
   "cell_type": "code",
   "execution_count": null,
   "id": "81b8cd59-1ba3-4eaa-846f-6478ed0c3cf5",
   "metadata": {},
   "outputs": [],
   "source": [
    "# Set afw display backend to matplotlib\n",
    "afwDisplay.setDefaultBackend('matplotlib')\n",
    "\n",
    "# Set the maximum number of rows to display from pandas\n",
    "pandas.set_option('display.max_rows', 20)"
   ]
  },
  {
   "cell_type": "code",
   "execution_count": null,
   "id": "8e2c2786-f021-46df-a967-79084572a1cc",
   "metadata": {},
   "outputs": [],
   "source": [
    "# use this to query for the deepCoadd's patch and tract\n",
    "butler = Butler('dp02', collections='2.2i/runs/DP0.2')\n",
    "registry = butler.registry\n"
   ]
  },
  {
   "cell_type": "code",
   "execution_count": null,
   "id": "f632c1bc-44dd-4dff-9f29-3e63bf89428d",
   "metadata": {},
   "outputs": [],
   "source": [
    "# this will be fed to make_image_cutout to allow cutout tool to find appropriate info\n",
    "service = get_tap_service(\"tap\")"
   ]
  },
  {
   "cell_type": "code",
   "execution_count": null,
   "id": "cdc11b12-7c0b-4ab8-88b0-06787ffd9fe8",
   "metadata": {
    "tags": []
   },
   "outputs": [],
   "source": [
    "# galaxy cluster:\n",
    "#ra = 55.7467 \n",
    "#dec = -32.2862\n",
    "\n",
    "# random DIAobject \n",
    "ra = 72.5383603\n",
    "dec = -44.4248533\n",
    "\n",
    "# Define a spatial point\n",
    "spherePoint = lsst.geom.SpherePoint(ra*geom.degrees, dec*geom.degrees)\n",
    "\n",
    "# Find the tract and patch that contain this point\n",
    "skymap = butler.get('skyMap') # skymap is used for coadd projection\n",
    "tract = skymap.findTract(spherePoint)\n",
    "patch = tract.findPatch(spherePoint)\n",
    "\n",
    "# Now create a dataId from the tract, patch and filter information\n",
    "dataId = {'band':'i', 'tract':tract.tract_id, 'patch': patch.getSequentialIndex()}\n",
    "\n"
   ]
  },
  {
   "cell_type": "markdown",
   "id": "c53ba0bc-91c2-4576-8014-4e008929d50c",
   "metadata": {},
   "source": [
    "### 2.1 Call the function \"make_image_cutout\" defined above on a deepCoadd data ID"
   ]
  },
  {
   "cell_type": "code",
   "execution_count": null,
   "id": "dd1a68b4-5524-4016-a743-88b34e1d661a",
   "metadata": {
    "tags": []
   },
   "outputs": [],
   "source": [
    "imtype = 'deepCoadd' # this is the default, imtype=None will assume deepCoadd\n",
    "\n",
    "test = make_image_cutout(service, ra, dec, dataId=dataId, imtype=imtype, cutout_size=0.005)\n",
    "plotImage(ExposureF(test))\n"
   ]
  },
  {
   "cell_type": "markdown",
   "id": "6f5111d5-82a2-43ec-b4a8-daafdda10e72",
   "metadata": {},
   "source": [
    "### 2.2 Example of cutout for calexp files, using a diaObject\n"
   ]
  },
  {
   "cell_type": "code",
   "execution_count": null,
   "id": "0bdf25f3-f97d-44fa-91e3-8f66f18d6953",
   "metadata": {
    "tags": []
   },
   "outputs": [],
   "source": [
    "diaObjectId = 1253478440036730088\n",
    "\n",
    "ccdquery = \"SELECT TOP 10 dia.coord_ra, dia.coord_dec, \" + \\\n",
    "                        \"dia.diaObjectId,  dia.ccdVisitId, dia.band, \" + \\\n",
    "                        \"cv.visitId, cv.physical_filter, cv.detector, cv.obsStartMJD, \" + \\\n",
    "                         \"cv.expMidptMJD \" + \\\n",
    "                         \"FROM dp02_dc2_catalogs.ForcedSourceOnDiaObject as dia \" + \\\n",
    "                         \"JOIN dp02_dc2_catalogs.CcdVisit as cv ON cv.ccdVisitId = dia.ccdVisitId \" + \\\n",
    "                         \"WHERE dia.diaObjectId = \"+str(diaObjectId)+\" AND cv.band = 'i'\"\n",
    "    \n",
    "diaccdsearch = service.search(ccdquery)\n",
    "forcedSrc = diaccdsearch.to_table()\n",
    "del diaccdsearch"
   ]
  },
  {
   "cell_type": "code",
   "execution_count": null,
   "id": "05226e70-d21e-4a2b-972b-2ffc09daa1d4",
   "metadata": {
    "tags": []
   },
   "outputs": [],
   "source": [
    "wh = np.argsort(forcedSrc['obsStartMJD'])\n",
    "forcedSrc[wh]"
   ]
  },
  {
   "cell_type": "code",
   "execution_count": null,
   "id": "6a5bdf81-8438-4cb8-806b-d4e0778da92c",
   "metadata": {
    "tags": []
   },
   "outputs": [],
   "source": [
    "# This cell plots the cutouts for calexps returned by the search above, in order of MJD \n",
    "nplots = 1\n",
    "for i in range(nplots):\n",
    "    dataId_calexp = {'visit':forcedSrc['visitId'][wh][i], 'detector':forcedSrc['detector'][wh][i]}\n",
    "    test = make_image_cutout(service, ra, dec, cutout_size=0.005,imtype='calexp', dataId=dataId_calexp,\n",
    "                             filename='cutout_'+str(i)+'.fits')\n",
    "\n",
    "    plotImage(ExposureF(test))\n",
    "\n",
    "\n"
   ]
  }
 ],
 "metadata": {
  "kernelspec": {
   "display_name": "LSST",
   "language": "python",
   "name": "lsst"
  },
  "language_info": {
   "codemirror_mode": {
    "name": "ipython",
    "version": 3
   },
   "file_extension": ".py",
   "mimetype": "text/x-python",
   "name": "python",
   "nbconvert_exporter": "python",
   "pygments_lexer": "ipython3",
   "version": "3.10.10"
  },
  "toc-autonumbering": false
 },
 "nbformat": 4,
 "nbformat_minor": 5
}
