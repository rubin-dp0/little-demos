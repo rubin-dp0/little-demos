{
 "cells": [
  {
   "cell_type": "markdown",
   "metadata": {},
   "source": [
    "<img align=\"left\" src = https://project.lsst.org/sites/default/files/Rubin-O-Logo_0.png width=250 style=\"padding: 10px\"> \n",
    "<b>Little Demo: Catalog Queries with TAP </b> <br>\n",
    "Contact authors: Gloria Fonseca Alvarez <br>\n",
    "Last verified to run: 2024-08-12 <br>\n",
    "LSST Science Pipelines version: Weekly  <br>\n",
    "Container Size: medium <br>"
   ]
  },
  {
   "cell_type": "markdown",
   "metadata": {},
   "source": [
    "This little demo shows how to query the DP0.2 catalogs using the TAP service. It is based on DP0.2 notebooks 02a and 02b. "
   ]
  },
  {
   "cell_type": "markdown",
   "metadata": {
    "execution": {
     "iopub.execute_input": "2024-07-31T02:19:16.825310Z",
     "iopub.status.busy": "2024-07-31T02:19:16.825005Z",
     "iopub.status.idle": "2024-07-31T02:19:16.828750Z",
     "shell.execute_reply": "2024-07-31T02:19:16.827890Z",
     "shell.execute_reply.started": "2024-07-31T02:19:16.825285Z"
    }
   },
   "source": [
    "## 1. Set up"
   ]
  },
  {
   "cell_type": "markdown",
   "metadata": {},
   "source": [
    "Import python packages and the Rubin Science Platform TAP service."
   ]
  },
  {
   "cell_type": "code",
   "execution_count": 1,
   "metadata": {
    "execution": {
     "iopub.execute_input": "2024-08-12T23:12:16.161698Z",
     "iopub.status.busy": "2024-08-12T23:12:16.161449Z",
     "iopub.status.idle": "2024-08-12T23:12:17.176331Z",
     "shell.execute_reply": "2024-08-12T23:12:17.175570Z",
     "shell.execute_reply.started": "2024-08-12T23:12:16.161682Z"
    }
   },
   "outputs": [],
   "source": [
    "import pandas\n",
    "import numpy as np\n",
    "import matplotlib.pyplot as plt\n",
    "\n",
    "from lsst.rsp import get_tap_service, retrieve_query\n",
    "\n",
    "pandas.set_option('display.max_rows', 20)"
   ]
  },
  {
   "cell_type": "markdown",
   "metadata": {},
   "source": [
    "Instantiate the TAP service."
   ]
  },
  {
   "cell_type": "code",
   "execution_count": 2,
   "metadata": {
    "execution": {
     "iopub.execute_input": "2024-08-12T23:12:17.177564Z",
     "iopub.status.busy": "2024-08-12T23:12:17.177149Z",
     "iopub.status.idle": "2024-08-12T23:12:17.233490Z",
     "shell.execute_reply": "2024-08-12T23:12:17.232652Z",
     "shell.execute_reply.started": "2024-08-12T23:12:17.177545Z"
    }
   },
   "outputs": [],
   "source": [
    "service = get_tap_service(\"tap\")"
   ]
  },
  {
   "cell_type": "markdown",
   "metadata": {},
   "source": [
    "## 2. Explore the TAP schema and table columns."
   ]
  },
  {
   "cell_type": "markdown",
   "metadata": {},
   "source": [
    "Create a query to list all of the catalogs in the TAP schema."
   ]
  },
  {
   "cell_type": "code",
   "execution_count": 3,
   "metadata": {
    "execution": {
     "iopub.execute_input": "2024-08-12T23:12:17.234723Z",
     "iopub.status.busy": "2024-08-12T23:12:17.234342Z",
     "iopub.status.idle": "2024-08-12T23:12:17.237257Z",
     "shell.execute_reply": "2024-08-12T23:12:17.236788Z",
     "shell.execute_reply.started": "2024-08-12T23:12:17.234704Z"
    }
   },
   "outputs": [],
   "source": [
    "query = 'SELECT * FROM tap_schema.schemas'"
   ]
  },
  {
   "cell_type": "markdown",
   "metadata": {},
   "source": [
    "Run the query."
   ]
  },
  {
   "cell_type": "code",
   "execution_count": 4,
   "metadata": {
    "execution": {
     "iopub.execute_input": "2024-08-12T23:12:17.238117Z",
     "iopub.status.busy": "2024-08-12T23:12:17.237920Z",
     "iopub.status.idle": "2024-08-12T23:12:17.335924Z",
     "shell.execute_reply": "2024-08-12T23:12:17.335335Z",
     "shell.execute_reply.started": "2024-08-12T23:12:17.238102Z"
    }
   },
   "outputs": [],
   "source": [
    "results = service.search(query)"
   ]
  },
  {
   "cell_type": "code",
   "execution_count": 5,
   "metadata": {
    "execution": {
     "iopub.execute_input": "2024-08-12T23:12:17.336879Z",
     "iopub.status.busy": "2024-08-12T23:12:17.336679Z",
     "iopub.status.idle": "2024-08-12T23:12:17.343525Z",
     "shell.execute_reply": "2024-08-12T23:12:17.343017Z",
     "shell.execute_reply.started": "2024-08-12T23:12:17.336863Z"
    }
   },
   "outputs": [
    {
     "data": {
      "text/plain": [
       "<DALResultsTable length=5>\n",
       "                                                                                                              description                                                                                                               ...\n",
       "                                                                                                                 str512                                                                                                                 ...\n",
       "--------------------------------------------------------------------------------------------------------------------------------------------------------------------------------------------------------------------------------------- ...\n",
       "             Data Preview 0.1 includes five tables based on the DESC's Data Challenge 2 simulation of 300 square degrees of the wide-fast-deep LSST survey region after 5 years. All tables contain objects detected in coadded images. ...\n",
       "Data Preview 0.2 contains the image and catalog products of the Rubin Science Pipelines v23 processing of the DESC Data Challenge 2 simulation, which covered 300 square degrees of the wide-fast-deep LSST survey region over 5 years. ...\n",
       "                                                                                                                                                                                          ObsCore v1.1 attributes in ObsTAP realization ...\n",
       "                                                                                                                                                              A TAP-standard-mandated schema to describe tablesets in a TAP 1.1 service ...\n",
       "                                                                                                                                                                                                                           UWS Metadata ..."
      ]
     },
     "execution_count": 5,
     "metadata": {},
     "output_type": "execute_result"
    }
   ],
   "source": [
    "results"
   ]
  },
  {
   "cell_type": "markdown",
   "metadata": {},
   "source": [
    "Store the results in an astropy table. "
   ]
  },
  {
   "cell_type": "code",
   "execution_count": 6,
   "metadata": {
    "execution": {
     "iopub.execute_input": "2024-08-12T23:12:17.344391Z",
     "iopub.status.busy": "2024-08-12T23:12:17.344206Z",
     "iopub.status.idle": "2024-08-12T23:12:17.454069Z",
     "shell.execute_reply": "2024-08-12T23:12:17.453527Z",
     "shell.execute_reply.started": "2024-08-12T23:12:17.344376Z"
    }
   },
   "outputs": [
    {
     "data": {
      "text/html": [
       "<div><i>Table length=5</i>\n",
       "<table id=\"table137385258991376\" class=\"table-striped table-bordered table-condensed\">\n",
       "<thead><tr><th>description</th><th>schema_index</th><th>schema_name</th><th>utype</th></tr></thead>\n",
       "<thead><tr><th>str512</th><th>int32</th><th>str64</th><th>str512</th></tr></thead>\n",
       "<tr><td>Data Preview 0.1 includes five tables based on the DESC&apos;s Data Challenge 2 simulation of 300 square degrees of the wide-fast-deep LSST survey region after 5 years. All tables contain objects detected in coadded images.</td><td>1</td><td>dp01_dc2_catalogs</td><td></td></tr>\n",
       "<tr><td>Data Preview 0.2 contains the image and catalog products of the Rubin Science Pipelines v23 processing of the DESC Data Challenge 2 simulation, which covered 300 square degrees of the wide-fast-deep LSST survey region over 5 years.</td><td>0</td><td>dp02_dc2_catalogs</td><td></td></tr>\n",
       "<tr><td>ObsCore v1.1 attributes in ObsTAP realization</td><td>2</td><td>ivoa</td><td></td></tr>\n",
       "<tr><td>A TAP-standard-mandated schema to describe tablesets in a TAP 1.1 service</td><td>100000</td><td>tap_schema</td><td></td></tr>\n",
       "<tr><td>UWS Metadata</td><td>120000</td><td>uws</td><td></td></tr>\n",
       "</table></div>"
      ],
      "text/plain": [
       "<Table length=5>\n",
       "                                                                                                              description                                                                                                               ...\n",
       "                                                                                                                 str512                                                                                                                 ...\n",
       "--------------------------------------------------------------------------------------------------------------------------------------------------------------------------------------------------------------------------------------- ...\n",
       "             Data Preview 0.1 includes five tables based on the DESC's Data Challenge 2 simulation of 300 square degrees of the wide-fast-deep LSST survey region after 5 years. All tables contain objects detected in coadded images. ...\n",
       "Data Preview 0.2 contains the image and catalog products of the Rubin Science Pipelines v23 processing of the DESC Data Challenge 2 simulation, which covered 300 square degrees of the wide-fast-deep LSST survey region over 5 years. ...\n",
       "                                                                                                                                                                                          ObsCore v1.1 attributes in ObsTAP realization ...\n",
       "                                                                                                                                                              A TAP-standard-mandated schema to describe tablesets in a TAP 1.1 service ...\n",
       "                                                                                                                                                                                                                           UWS Metadata ..."
      ]
     },
     "execution_count": 6,
     "metadata": {},
     "output_type": "execute_result"
    }
   ],
   "source": [
    "results = service.search(query).to_table()\n",
    "results"
   ]
  },
  {
   "cell_type": "markdown",
   "metadata": {},
   "source": [
    "List the tables in the DP0.2 catalogs."
   ]
  },
  {
   "cell_type": "code",
   "execution_count": 7,
   "metadata": {
    "execution": {
     "iopub.execute_input": "2024-08-12T23:12:17.455364Z",
     "iopub.status.busy": "2024-08-12T23:12:17.454830Z",
     "iopub.status.idle": "2024-08-12T23:12:17.546886Z",
     "shell.execute_reply": "2024-08-12T23:12:17.546240Z",
     "shell.execute_reply.started": "2024-08-12T23:12:17.455346Z"
    }
   },
   "outputs": [],
   "source": [
    "query = \"SELECT * FROM tap_schema.tables \" \\\n",
    "        \"WHERE tap_schema.tables.schema_name = 'dp02_dc2_catalogs'\" \\\n",
    "        \"ORDER BY table_index ASC\"\n",
    "results = service.search(query).to_table()"
   ]
  },
  {
   "cell_type": "code",
   "execution_count": 8,
   "metadata": {
    "execution": {
     "iopub.execute_input": "2024-08-12T23:12:17.548287Z",
     "iopub.status.busy": "2024-08-12T23:12:17.547690Z",
     "iopub.status.idle": "2024-08-12T23:12:17.555925Z",
     "shell.execute_reply": "2024-08-12T23:12:17.555417Z",
     "shell.execute_reply.started": "2024-08-12T23:12:17.548261Z"
    }
   },
   "outputs": [
    {
     "data": {
      "text/html": [
       "<div><i>Table length=11</i>\n",
       "<table id=\"table137385255779664\" class=\"table-striped table-bordered table-condensed\">\n",
       "<thead><tr><th>description</th><th>schema_name</th><th>table_index</th><th>table_name</th><th>table_type</th><th>utype</th></tr></thead>\n",
       "<thead><tr><th>str512</th><th>str512</th><th>int32</th><th>str64</th><th>str8</th><th>str512</th></tr></thead>\n",
       "<tr><td>Properties of the astronomical objects detected and measured on the deep coadded images.</td><td>dp02_dc2_catalogs</td><td>1</td><td>dp02_dc2_catalogs.Object</td><td>table</td><td></td></tr>\n",
       "<tr><td>Properties of detections on the single-epoch visit images, performed independently of the Object detections on coadded images.</td><td>dp02_dc2_catalogs</td><td>2</td><td>dp02_dc2_catalogs.Source</td><td>table</td><td></td></tr>\n",
       "<tr><td>Forced-photometry measurements on individual single-epoch visit images and difference images, based on and linked to the entries in the Object table. Point-source PSF photometry is performed, based on coordinates from a reference band chosen for each Object and reported in the Object.refBand column.</td><td>dp02_dc2_catalogs</td><td>3</td><td>dp02_dc2_catalogs.ForcedSource</td><td>table</td><td></td></tr>\n",
       "<tr><td>Properties of time-varying astronomical objects based on association of data from one or more spatially-related DiaSource detections on individual single-epoch difference images.</td><td>dp02_dc2_catalogs</td><td>4</td><td>dp02_dc2_catalogs.DiaObject</td><td>table</td><td></td></tr>\n",
       "<tr><td>Properties of transient-object detections on the single-epoch difference images.</td><td>dp02_dc2_catalogs</td><td>5</td><td>dp02_dc2_catalogs.DiaSource</td><td>table</td><td></td></tr>\n",
       "<tr><td>Point-source forced-photometry measurements on individual single-epoch visit images and difference images, based on and linked to the entries in the DiaObject table.</td><td>dp02_dc2_catalogs</td><td>6</td><td>dp02_dc2_catalogs.ForcedSourceOnDiaObject</td><td>table</td><td></td></tr>\n",
       "<tr><td>Metadata about the pointings of the DC2 simulated survey, largely associated with the boresight of the entire focal plane.</td><td>dp02_dc2_catalogs</td><td>7</td><td>dp02_dc2_catalogs.Visit</td><td>table</td><td></td></tr>\n",
       "<tr><td>Metadata about the 189 individual CCD images for each Visit in the DC2 simulated survey.</td><td>dp02_dc2_catalogs</td><td>8</td><td>dp02_dc2_catalogs.CcdVisit</td><td>table</td><td></td></tr>\n",
       "<tr><td>Static information about the subset of tracts and patches from the standard LSST skymap that apply to coadds in these catalogs</td><td>dp02_dc2_catalogs</td><td>9</td><td>dp02_dc2_catalogs.CoaddPatches</td><td>table</td><td></td></tr>\n",
       "<tr><td>Summary properties of objects from the DESC DC2 truth catalog, as described in arXiv:2101.04855. Includes the noiseless astrometric and photometric parameters.</td><td>dp02_dc2_catalogs</td><td>10</td><td>dp02_dc2_catalogs.TruthSummary</td><td>table</td><td></td></tr>\n",
       "<tr><td>Match information for TruthSummary objects.</td><td>dp02_dc2_catalogs</td><td>11</td><td>dp02_dc2_catalogs.MatchesTruth</td><td>table</td><td></td></tr>\n",
       "</table></div>"
      ],
      "text/plain": [
       "<Table length=11>\n",
       "                                                                                                                                                description                                                                                                                                                  ...\n",
       "                                                                                                                                                   str512                                                                                                                                                    ...\n",
       "------------------------------------------------------------------------------------------------------------------------------------------------------------------------------------------------------------------------------------------------------------------------------------------------------------ ...\n",
       "                                                                                                                                                                                                                    Properties of the astronomical objects detected and measured on the deep coadded images. ...\n",
       "                                                                                                                                                                              Properties of detections on the single-epoch visit images, performed independently of the Object detections on coadded images. ...\n",
       "Forced-photometry measurements on individual single-epoch visit images and difference images, based on and linked to the entries in the Object table. Point-source PSF photometry is performed, based on coordinates from a reference band chosen for each Object and reported in the Object.refBand column. ...\n",
       "                                                                                                                          Properties of time-varying astronomical objects based on association of data from one or more spatially-related DiaSource detections on individual single-epoch difference images. ...\n",
       "                                                                                                                                                                                                                            Properties of transient-object detections on the single-epoch difference images. ...\n",
       "                                                                                                                                       Point-source forced-photometry measurements on individual single-epoch visit images and difference images, based on and linked to the entries in the DiaObject table. ...\n",
       "                                                                                                                                                                                  Metadata about the pointings of the DC2 simulated survey, largely associated with the boresight of the entire focal plane. ...\n",
       "                                                                                                                                                                                                                    Metadata about the 189 individual CCD images for each Visit in the DC2 simulated survey. ...\n",
       "                                                                                                                                                                              Static information about the subset of tracts and patches from the standard LSST skymap that apply to coadds in these catalogs ...\n",
       "                                                                                                                                             Summary properties of objects from the DESC DC2 truth catalog, as described in arXiv:2101.04855. Includes the noiseless astrometric and photometric parameters. ...\n",
       "                                                                                                                                                                                                                                                                 Match information for TruthSummary objects. ..."
      ]
     },
     "execution_count": 8,
     "metadata": {},
     "output_type": "execute_result"
    }
   ],
   "source": [
    "results"
   ]
  },
  {
   "cell_type": "markdown",
   "metadata": {},
   "source": [
    "List all the columns in the Object table."
   ]
  },
  {
   "cell_type": "code",
   "execution_count": 9,
   "metadata": {
    "execution": {
     "iopub.execute_input": "2024-08-12T23:12:17.556872Z",
     "iopub.status.busy": "2024-08-12T23:12:17.556616Z",
     "iopub.status.idle": "2024-08-12T23:12:17.655498Z",
     "shell.execute_reply": "2024-08-12T23:12:17.654835Z",
     "shell.execute_reply.started": "2024-08-12T23:12:17.556857Z"
    }
   },
   "outputs": [],
   "source": [
    "query = \"SELECT column_name, datatype, description, unit \" \\\n",
    "        \"FROM tap_schema.columns \" \\\n",
    "        \"WHERE table_name = 'dp02_dc2_catalogs.Object'\"\n",
    "results = service.search(query).to_table()"
   ]
  },
  {
   "cell_type": "code",
   "execution_count": 10,
   "metadata": {
    "execution": {
     "iopub.execute_input": "2024-08-12T23:12:17.656490Z",
     "iopub.status.busy": "2024-08-12T23:12:17.656288Z",
     "iopub.status.idle": "2024-08-12T23:12:17.664098Z",
     "shell.execute_reply": "2024-08-12T23:12:17.663554Z",
     "shell.execute_reply.started": "2024-08-12T23:12:17.656475Z"
    }
   },
   "outputs": [
    {
     "data": {
      "text/html": [
       "<div><i>Table length=991</i>\n",
       "<table id=\"table137385478237648\" class=\"table-striped table-bordered table-condensed\">\n",
       "<thead><tr><th>column_name</th><th>datatype</th><th>description</th><th>unit</th></tr></thead>\n",
       "<thead><tr><th>str64</th><th>str64</th><th>str512</th><th>str64</th></tr></thead>\n",
       "<tr><td>coord_dec</td><td>double</td><td>Fiducial ICRS Declination of centroid used for database indexing</td><td>deg</td></tr>\n",
       "<tr><td>coord_ra</td><td>double</td><td>Fiducial ICRS Right Ascension of centroid used for database indexing</td><td>deg</td></tr>\n",
       "<tr><td>deblend_nChild</td><td>int</td><td>Number of children this object has (defaults to 0)</td><td></td></tr>\n",
       "<tr><td>deblend_skipped</td><td>boolean</td><td>Deblender skipped this source</td><td></td></tr>\n",
       "<tr><td>detect_fromBlend</td><td>boolean</td><td>This source is deblended from a parent with more than one child.</td><td></td></tr>\n",
       "<tr><td>detect_isDeblendedModelSource</td><td>boolean</td><td>True if source has no children and is in the inner region of a coadd patch and is in the inner region of a coadd tract and is not a sky source and is a deblended child</td><td></td></tr>\n",
       "<tr><td>detect_isDeblendedSource</td><td>boolean</td><td>True if source has no children and is in the inner region of a coadd patch and is in the inner region of a coadd tract and is not a sky source and is either an unblended isolated source or a deblended child from a parent with</td><td></td></tr>\n",
       "<tr><td>detect_isIsolated</td><td>boolean</td><td>This source is not a part of a blend.</td><td></td></tr>\n",
       "<tr><td>detect_isPatchInner</td><td>boolean</td><td>True if source is in the inner region of a coadd patch</td><td></td></tr>\n",
       "<tr><td>detect_isPrimary</td><td>boolean</td><td>True if source has no children and is in the inner region of a coadd patch and is in the inner region of a coadd tract and is not a sky source</td><td></td></tr>\n",
       "<tr><td>...</td><td>...</td><td>...</td><td>...</td></tr>\n",
       "<tr><td>z_pixelFlags_suspect</td><td>boolean</td><td>Source&apos;s footprint includes suspect pixels. Measured on z-band.</td><td></td></tr>\n",
       "<tr><td>z_pixelFlags_suspectCenter</td><td>boolean</td><td>Source&apos;s center is close to suspect pixels. Measured on z-band.</td><td></td></tr>\n",
       "<tr><td>z_psfFlux</td><td>double</td><td>Flux derived from linear least-squares fit of PSF model. Forced on z-band.</td><td>nJy</td></tr>\n",
       "<tr><td>z_psfFlux_area</td><td>float</td><td>Effective area of PSF. Forced on z-band.</td><td>pixel</td></tr>\n",
       "<tr><td>z_psfFlux_flag</td><td>boolean</td><td>General Failure Flag. Forced on z-band.</td><td></td></tr>\n",
       "<tr><td>z_psfFlux_flag_apCorr</td><td>boolean</td><td>Set if unable to aperture correct base_PsfFlux. Forced on z-band.</td><td></td></tr>\n",
       "<tr><td>z_psfFlux_flag_edge</td><td>boolean</td><td>Object was too close to the edge of the image to use the full PSF model. Forced on z-band.</td><td></td></tr>\n",
       "<tr><td>z_psfFlux_flag_noGoodPixels</td><td>boolean</td><td>Not enough non-rejected pixels in data to attempt the fit. Forced on z-band.</td><td></td></tr>\n",
       "<tr><td>z_psfFluxErr</td><td>double</td><td>Flux uncertainty derived from linear least-squares fit of PSF model. Forced on z-band.</td><td>nJy</td></tr>\n",
       "<tr><td>z_ra</td><td>double</td><td>Position in Right Ascension. Measured on z-band.</td><td>deg</td></tr>\n",
       "</table></div>"
      ],
      "text/plain": [
       "<Table length=991>\n",
       "         column_name          datatype ...  unit\n",
       "            str64              str64   ... str64\n",
       "----------------------------- -------- ... -----\n",
       "                    coord_dec   double ...   deg\n",
       "                     coord_ra   double ...   deg\n",
       "               deblend_nChild      int ...      \n",
       "              deblend_skipped  boolean ...      \n",
       "             detect_fromBlend  boolean ...      \n",
       "detect_isDeblendedModelSource  boolean ...      \n",
       "     detect_isDeblendedSource  boolean ...      \n",
       "            detect_isIsolated  boolean ...      \n",
       "          detect_isPatchInner  boolean ...      \n",
       "             detect_isPrimary  boolean ...      \n",
       "                          ...      ... ...   ...\n",
       "         z_pixelFlags_suspect  boolean ...      \n",
       "   z_pixelFlags_suspectCenter  boolean ...      \n",
       "                    z_psfFlux   double ...   nJy\n",
       "               z_psfFlux_area    float ... pixel\n",
       "               z_psfFlux_flag  boolean ...      \n",
       "        z_psfFlux_flag_apCorr  boolean ...      \n",
       "          z_psfFlux_flag_edge  boolean ...      \n",
       "  z_psfFlux_flag_noGoodPixels  boolean ...      \n",
       "                 z_psfFluxErr   double ...   nJy\n",
       "                         z_ra   double ...   deg"
      ]
     },
     "execution_count": 10,
     "metadata": {},
     "output_type": "execute_result"
    }
   ],
   "source": [
    "results"
   ]
  },
  {
   "cell_type": "markdown",
   "metadata": {},
   "source": [
    "List all the columns in the ForcedSource table."
   ]
  },
  {
   "cell_type": "code",
   "execution_count": 11,
   "metadata": {
    "execution": {
     "iopub.execute_input": "2024-08-12T23:12:17.665122Z",
     "iopub.status.busy": "2024-08-12T23:12:17.664868Z",
     "iopub.status.idle": "2024-08-12T23:12:17.766442Z",
     "shell.execute_reply": "2024-08-12T23:12:17.765841Z",
     "shell.execute_reply.started": "2024-08-12T23:12:17.665106Z"
    }
   },
   "outputs": [],
   "source": [
    "query = \"SELECT column_name, datatype, description, unit \" \\\n",
    "        \"FROM tap_schema.columns \" \\\n",
    "        \"WHERE table_name = 'dp02_dc2_catalogs.ForcedSource'\"\n",
    "results = service.search(query).to_table()"
   ]
  },
  {
   "cell_type": "code",
   "execution_count": 12,
   "metadata": {
    "execution": {
     "iopub.execute_input": "2024-08-12T23:12:17.767652Z",
     "iopub.status.busy": "2024-08-12T23:12:17.767257Z",
     "iopub.status.idle": "2024-08-12T23:12:17.774989Z",
     "shell.execute_reply": "2024-08-12T23:12:17.774504Z",
     "shell.execute_reply.started": "2024-08-12T23:12:17.767633Z"
    }
   },
   "outputs": [
    {
     "data": {
      "text/html": [
       "<div><i>Table length=39</i>\n",
       "<table id=\"table137385255912528\" class=\"table-striped table-bordered table-condensed\">\n",
       "<thead><tr><th>column_name</th><th>datatype</th><th>description</th><th>unit</th></tr></thead>\n",
       "<thead><tr><th>str64</th><th>str64</th><th>str512</th><th>str64</th></tr></thead>\n",
       "<tr><td>band</td><td>char</td><td>Abstract filter that is not associated with a particular instrument</td><td></td></tr>\n",
       "<tr><td>ccdVisitId</td><td>long</td><td>Unique ID of visit and detector for which forced photometry was performed. Primary Key of the CcdVisit Table.</td><td></td></tr>\n",
       "<tr><td>coord_dec</td><td>double</td><td>Fiducial ICRS Declination of Object centroid used for database indexing</td><td>deg</td></tr>\n",
       "<tr><td>coord_ra</td><td>double</td><td>Fiducial ICRS Right Ascension of Object centroid used for database indexing</td><td>deg</td></tr>\n",
       "<tr><td>detect_isPatchInner</td><td>boolean</td><td>True if Object seed is in the inner region of a coadd patch</td><td></td></tr>\n",
       "<tr><td>detect_isPrimary</td><td>boolean</td><td>True if Object seed has no children and is in the inner region of a coadd patch and is in the inner region of a coadd tract and is not a sky object</td><td></td></tr>\n",
       "<tr><td>detect_isTractInner</td><td>boolean</td><td>True if Object seed is in the inner region of a coadd tract</td><td></td></tr>\n",
       "<tr><td>forcedSourceId</td><td>long</td><td>Unique ID of forced source. Primary Key.</td><td></td></tr>\n",
       "<tr><td>localBackground_instFlux</td><td>double</td><td>Background in annulus around source</td><td>count</td></tr>\n",
       "<tr><td>localBackground_instFluxErr</td><td>double</td><td>1-sigma uncertainty on the background in an annulus around source</td><td>count</td></tr>\n",
       "<tr><td>...</td><td>...</td><td>...</td><td>...</td></tr>\n",
       "<tr><td>pixelFlags_suspect</td><td>boolean</td><td>Source&apos;s footprint includes suspect pixels</td><td></td></tr>\n",
       "<tr><td>pixelFlags_suspectCenter</td><td>boolean</td><td>Source&apos;s center is close to suspect pixels</td><td></td></tr>\n",
       "<tr><td>psfDiffFlux</td><td>double</td><td>Flux derived from linear least-squares fit of psf model forced on the image difference</td><td>nJy</td></tr>\n",
       "<tr><td>psfDiffFlux_flag</td><td>boolean</td><td>Failure to derive linear least-squares fit of psf model forced on the image difference</td><td></td></tr>\n",
       "<tr><td>psfDiffFluxErr</td><td>double</td><td>Uncertainty on the flux derived from linear least-squares fit of psf model forced on the image difference</td><td>nJy</td></tr>\n",
       "<tr><td>psfFlux</td><td>double</td><td>Flux derived from linear least-squares fit of psf model forced on the calexp</td><td>nJy</td></tr>\n",
       "<tr><td>psfFlux_flag</td><td>boolean</td><td>Failure to derive linear least-squares fit of psf model forced on the calexp</td><td></td></tr>\n",
       "<tr><td>psfFluxErr</td><td>double</td><td>Uncertainty on the flux derived from linear least-squares fit of psf model forced on the calexp</td><td>nJy</td></tr>\n",
       "<tr><td>skymap</td><td>char</td><td>Name of skymap used for coadd projection</td><td></td></tr>\n",
       "<tr><td>tract</td><td>long</td><td>Skymap tract ID</td><td></td></tr>\n",
       "</table></div>"
      ],
      "text/plain": [
       "<Table length=39>\n",
       "        column_name         datatype ...  unit\n",
       "           str64             str64   ... str64\n",
       "--------------------------- -------- ... -----\n",
       "                       band     char ...      \n",
       "                 ccdVisitId     long ...      \n",
       "                  coord_dec   double ...   deg\n",
       "                   coord_ra   double ...   deg\n",
       "        detect_isPatchInner  boolean ...      \n",
       "           detect_isPrimary  boolean ...      \n",
       "        detect_isTractInner  boolean ...      \n",
       "             forcedSourceId     long ...      \n",
       "   localBackground_instFlux   double ... count\n",
       "localBackground_instFluxErr   double ... count\n",
       "                        ...      ... ...   ...\n",
       "         pixelFlags_suspect  boolean ...      \n",
       "   pixelFlags_suspectCenter  boolean ...      \n",
       "                psfDiffFlux   double ...   nJy\n",
       "           psfDiffFlux_flag  boolean ...      \n",
       "             psfDiffFluxErr   double ...   nJy\n",
       "                    psfFlux   double ...   nJy\n",
       "               psfFlux_flag  boolean ...      \n",
       "                 psfFluxErr   double ...   nJy\n",
       "                     skymap     char ...      \n",
       "                      tract     long ...      "
      ]
     },
     "execution_count": 12,
     "metadata": {},
     "output_type": "execute_result"
    }
   ],
   "source": [
    "results"
   ]
  },
  {
   "cell_type": "markdown",
   "metadata": {},
   "source": [
    "## 3. Query the Object table."
   ]
  },
  {
   "cell_type": "markdown",
   "metadata": {},
   "source": [
    "Define the coordinates and radius for a spatial search. "
   ]
  },
  {
   "cell_type": "code",
   "execution_count": 13,
   "metadata": {
    "execution": {
     "iopub.execute_input": "2024-08-12T23:12:17.775975Z",
     "iopub.status.busy": "2024-08-12T23:12:17.775734Z",
     "iopub.status.idle": "2024-08-12T23:12:17.784456Z",
     "shell.execute_reply": "2024-08-12T23:12:17.783857Z",
     "shell.execute_reply.started": "2024-08-12T23:12:17.775960Z"
    }
   },
   "outputs": [],
   "source": [
    "center_ra = 62\n",
    "center_dec = -37\n",
    "radius = 0.01\n",
    "\n",
    "str_center_coords = str(center_ra) + \", \" + str(center_dec)\n",
    "str_radius = str(radius)"
   ]
  },
  {
   "cell_type": "code",
   "execution_count": 14,
   "metadata": {
    "execution": {
     "iopub.execute_input": "2024-08-12T23:12:17.785506Z",
     "iopub.status.busy": "2024-08-12T23:12:17.785259Z",
     "iopub.status.idle": "2024-08-12T23:12:17.797668Z",
     "shell.execute_reply": "2024-08-12T23:12:17.796906Z",
     "shell.execute_reply.started": "2024-08-12T23:12:17.785491Z"
    }
   },
   "outputs": [],
   "source": [
    "query = \"SELECT objectId, coord_ra, coord_dec, g_cModelFlux, g_cModelFluxErr \"\\\n",
    "        \"FROM dp02_dc2_catalogs.Object \"\\\n",
    "        \"WHERE CONTAINS(POINT('ICRS', coord_ra, coord_dec), \"\\\n",
    "        \"CIRCLE('ICRS', \" + str_center_coords + \", \" + str_radius + \")) = 1 \"\\\n",
    "        \"AND detect_isPrimary = 1\""
   ]
  },
  {
   "cell_type": "code",
   "execution_count": 15,
   "metadata": {
    "execution": {
     "iopub.execute_input": "2024-08-12T23:12:17.798645Z",
     "iopub.status.busy": "2024-08-12T23:12:17.798445Z",
     "iopub.status.idle": "2024-08-12T23:12:18.295664Z",
     "shell.execute_reply": "2024-08-12T23:12:18.294947Z",
     "shell.execute_reply.started": "2024-08-12T23:12:17.798629Z"
    }
   },
   "outputs": [
    {
     "data": {
      "text/html": [
       "<div><i>Table length=173</i>\n",
       "<table id=\"table137385256053904\" class=\"table-striped table-bordered table-condensed\">\n",
       "<thead><tr><th>objectId</th><th>coord_ra</th><th>coord_dec</th><th>g_cModelFlux</th><th>g_cModelFluxErr</th></tr></thead>\n",
       "<thead><tr><th></th><th>deg</th><th>deg</th><th>nJy</th><th>nJy</th></tr></thead>\n",
       "<thead><tr><th>int64</th><th>float64</th><th>float64</th><th>float64</th><th>float64</th></tr></thead>\n",
       "<tr><td>1651228970407963050</td><td>61.9892581</td><td>-37.0051185</td><td>326.5138376</td><td>14.2705104</td></tr>\n",
       "<tr><td>1651220174314940169</td><td>61.9974384</td><td>-37.0057962</td><td>514.36525</td><td>18.512609</td></tr>\n",
       "<tr><td>1651220174314940145</td><td>62.0032855</td><td>-37.0062479</td><td>199.6395648</td><td>20.4148871</td></tr>\n",
       "<tr><td>1651220174314940105</td><td>61.9982376</td><td>-37.0071231</td><td>190.5018125</td><td>13.5239014</td></tr>\n",
       "<tr><td>1651220174314940327</td><td>62.0033408</td><td>-37.0025362</td><td>259.3417025</td><td>13.4338853</td></tr>\n",
       "<tr><td>1651220174314940222</td><td>62.0087858</td><td>-37.0048004</td><td>261.1045021</td><td>17.07974</td></tr>\n",
       "<tr><td>1651220174314940054</td><td>62.0067606</td><td>-37.008115</td><td>67.2192719</td><td>15.9486801</td></tr>\n",
       "<tr><td>1651220174314943124</td><td>61.9996415</td><td>-37.0073422</td><td>62.1849027</td><td>12.8999188</td></tr>\n",
       "<tr><td>1651220174314943107</td><td>62.0054597</td><td>-37.0085692</td><td>139.6506102</td><td>18.1343425</td></tr>\n",
       "<tr><td>...</td><td>...</td><td>...</td><td>...</td><td>...</td></tr>\n",
       "<tr><td>1651290543059137283</td><td>61.9902818</td><td>-36.9991695</td><td>40.6706139</td><td>11.5559482</td></tr>\n",
       "<tr><td>1651290543059137292</td><td>61.9884085</td><td>-36.9989681</td><td>79.099631</td><td>12.1650624</td></tr>\n",
       "<tr><td>1651290543059136899</td><td>61.988612</td><td>-37.0015165</td><td>75.7321114</td><td>11.3031657</td></tr>\n",
       "<tr><td>1651290543059137897</td><td>61.9919469</td><td>-36.992835</td><td>76.519235</td><td>11.8234773</td></tr>\n",
       "<tr><td>1651290543059137898</td><td>61.9913403</td><td>-36.9929115</td><td>66.6815149</td><td>11.8812009</td></tr>\n",
       "<tr><td>1651290543059137543</td><td>61.990251</td><td>-36.9963471</td><td>63.1877155</td><td>17.6996803</td></tr>\n",
       "<tr><td>1651290543059137541</td><td>61.9892604</td><td>-36.995563</td><td>387.392401</td><td>17.7446865</td></tr>\n",
       "<tr><td>1651290543059137542</td><td>61.9901842</td><td>-36.9955663</td><td>144.9084698</td><td>13.9142838</td></tr>\n",
       "<tr><td>1651290543059137427</td><td>61.9926851</td><td>-36.9984261</td><td>106.1160433</td><td>14.1214629</td></tr>\n",
       "<tr><td>1651290543059137426</td><td>61.9922095</td><td>-36.9984562</td><td>19.137912</td><td>14.0784713</td></tr>\n",
       "</table></div>"
      ],
      "text/plain": [
       "<Table length=173>\n",
       "      objectId       coord_ra   coord_dec  g_cModelFlux g_cModelFluxErr\n",
       "                       deg         deg         nJy            nJy      \n",
       "       int64         float64     float64     float64        float64    \n",
       "------------------- ---------- ----------- ------------ ---------------\n",
       "1651228970407963050 61.9892581 -37.0051185  326.5138376      14.2705104\n",
       "1651220174314940169 61.9974384 -37.0057962    514.36525       18.512609\n",
       "1651220174314940145 62.0032855 -37.0062479  199.6395648      20.4148871\n",
       "1651220174314940105 61.9982376 -37.0071231  190.5018125      13.5239014\n",
       "1651220174314940327 62.0033408 -37.0025362  259.3417025      13.4338853\n",
       "1651220174314940222 62.0087858 -37.0048004  261.1045021        17.07974\n",
       "1651220174314940054 62.0067606  -37.008115   67.2192719      15.9486801\n",
       "1651220174314943124 61.9996415 -37.0073422   62.1849027      12.8999188\n",
       "1651220174314943107 62.0054597 -37.0085692  139.6506102      18.1343425\n",
       "                ...        ...         ...          ...             ...\n",
       "1651290543059137283 61.9902818 -36.9991695   40.6706139      11.5559482\n",
       "1651290543059137292 61.9884085 -36.9989681    79.099631      12.1650624\n",
       "1651290543059136899  61.988612 -37.0015165   75.7321114      11.3031657\n",
       "1651290543059137897 61.9919469  -36.992835    76.519235      11.8234773\n",
       "1651290543059137898 61.9913403 -36.9929115   66.6815149      11.8812009\n",
       "1651290543059137543  61.990251 -36.9963471   63.1877155      17.6996803\n",
       "1651290543059137541 61.9892604  -36.995563   387.392401      17.7446865\n",
       "1651290543059137542 61.9901842 -36.9955663  144.9084698      13.9142838\n",
       "1651290543059137427 61.9926851 -36.9984261  106.1160433      14.1214629\n",
       "1651290543059137426 61.9922095 -36.9984562    19.137912      14.0784713"
      ]
     },
     "execution_count": 15,
     "metadata": {},
     "output_type": "execute_result"
    }
   ],
   "source": [
    "results = service.search(query).to_table()\n",
    "results"
   ]
  },
  {
   "cell_type": "markdown",
   "metadata": {},
   "source": [
    "Increase the search radius and run an asynchronous query."
   ]
  },
  {
   "cell_type": "code",
   "execution_count": 16,
   "metadata": {
    "execution": {
     "iopub.execute_input": "2024-08-12T23:12:18.296597Z",
     "iopub.status.busy": "2024-08-12T23:12:18.296406Z",
     "iopub.status.idle": "2024-08-12T23:12:18.299267Z",
     "shell.execute_reply": "2024-08-12T23:12:18.298680Z",
     "shell.execute_reply.started": "2024-08-12T23:12:18.296583Z"
    }
   },
   "outputs": [],
   "source": [
    "del results"
   ]
  },
  {
   "cell_type": "code",
   "execution_count": 17,
   "metadata": {
    "execution": {
     "iopub.execute_input": "2024-08-12T23:12:18.300162Z",
     "iopub.status.busy": "2024-08-12T23:12:18.299967Z",
     "iopub.status.idle": "2024-08-12T23:12:18.312777Z",
     "shell.execute_reply": "2024-08-12T23:12:18.312122Z",
     "shell.execute_reply.started": "2024-08-12T23:12:18.300147Z"
    }
   },
   "outputs": [],
   "source": [
    "center_ra = 62\n",
    "center_dec = -37\n",
    "radius = 0.5\n",
    "\n",
    "str_center_coords = str(center_ra) + \", \" + str(center_dec)\n",
    "str_radius = str(radius)"
   ]
  },
  {
   "cell_type": "code",
   "execution_count": 18,
   "metadata": {
    "execution": {
     "iopub.execute_input": "2024-08-12T23:12:18.313924Z",
     "iopub.status.busy": "2024-08-12T23:12:18.313565Z",
     "iopub.status.idle": "2024-08-12T23:12:18.325662Z",
     "shell.execute_reply": "2024-08-12T23:12:18.325054Z",
     "shell.execute_reply.started": "2024-08-12T23:12:18.313906Z"
    }
   },
   "outputs": [],
   "source": [
    "query = \"SELECT objectId, coord_ra, coord_dec, g_cModelFlux, g_cModelFluxErr \"\\\n",
    "        \"FROM dp02_dc2_catalogs.Object \"\\\n",
    "        \"WHERE CONTAINS(POINT('ICRS', coord_ra, coord_dec), \"\\\n",
    "        \"CIRCLE('ICRS', \" + str_center_coords + \", \" + str_radius + \")) = 1 \"\\\n",
    "        \"AND detect_isPrimary = 1\""
   ]
  },
  {
   "cell_type": "code",
   "execution_count": 19,
   "metadata": {
    "execution": {
     "iopub.execute_input": "2024-08-12T23:12:18.326608Z",
     "iopub.status.busy": "2024-08-12T23:12:18.326411Z",
     "iopub.status.idle": "2024-08-12T23:12:33.590230Z",
     "shell.execute_reply": "2024-08-12T23:12:33.589642Z",
     "shell.execute_reply.started": "2024-08-12T23:12:18.326594Z"
    }
   },
   "outputs": [
    {
     "name": "stdout",
     "output_type": "stream",
     "text": [
      "Job phase is COMPLETED\n"
     ]
    }
   ],
   "source": [
    "job = service.submit_job(query)\n",
    "job.run()\n",
    "job.wait(phases=['COMPLETED', 'ERROR'])\n",
    "print('Job phase is', job.phase)\n",
    "#job.raise_if_error()"
   ]
  },
  {
   "cell_type": "code",
   "execution_count": 20,
   "metadata": {
    "execution": {
     "iopub.execute_input": "2024-08-12T23:12:33.591457Z",
     "iopub.status.busy": "2024-08-12T23:12:33.591000Z",
     "iopub.status.idle": "2024-08-12T23:12:40.116897Z",
     "shell.execute_reply": "2024-08-12T23:12:40.116386Z",
     "shell.execute_reply.started": "2024-08-12T23:12:33.591433Z"
    }
   },
   "outputs": [
    {
     "data": {
      "text/html": [
       "<div><i>Table length=400406</i>\n",
       "<table id=\"table137385259721744\" class=\"table-striped table-bordered table-condensed\">\n",
       "<thead><tr><th>objectId</th><th>coord_ra</th><th>coord_dec</th><th>g_cModelFlux</th><th>g_cModelFluxErr</th></tr></thead>\n",
       "<thead><tr><th></th><th>deg</th><th>deg</th><th>nJy</th><th>nJy</th></tr></thead>\n",
       "<thead><tr><th>int64</th><th>float64</th><th>float64</th><th>float64</th><th>float64</th></tr></thead>\n",
       "<tr><td>1651413688361452486</td><td>61.9633337</td><td>-36.5130381</td><td>87.0327531</td><td>11.427506</td></tr>\n",
       "<tr><td>1651413688361453181</td><td>61.8924527</td><td>-36.507808</td><td>30.5953283</td><td>13.6635788</td></tr>\n",
       "<tr><td>1651413688361452920</td><td>61.8884207</td><td>-36.5091517</td><td>33.0829193</td><td>11.0448069</td></tr>\n",
       "<tr><td>1651413688361452919</td><td>61.8877113</td><td>-36.5090904</td><td>195.5987974</td><td>15.9109814</td></tr>\n",
       "<tr><td>1651413688361452918</td><td>61.8870687</td><td>-36.5091254</td><td>150.4294078</td><td>13.244513</td></tr>\n",
       "<tr><td>1651413688361452889</td><td>61.9196129</td><td>-36.5086578</td><td>11.6068281</td><td>12.7490609</td></tr>\n",
       "<tr><td>1651413688361452888</td><td>61.9195084</td><td>-36.5091561</td><td>276.7016293</td><td>15.5864475</td></tr>\n",
       "<tr><td>1651413688361452887</td><td>61.9173006</td><td>-36.5112305</td><td>130.0196026</td><td>12.2823882</td></tr>\n",
       "<tr><td>1651413688361452886</td><td>61.9187458</td><td>-36.5101619</td><td>263.0493591</td><td>14.44147</td></tr>\n",
       "<tr><td>...</td><td>...</td><td>...</td><td>...</td><td>...</td></tr>\n",
       "<tr><td>1651272950873077871</td><td>62.4144583</td><td>-36.787693</td><td>85.302217</td><td>15.5312089</td></tr>\n",
       "<tr><td>1651272950873074292</td><td>62.3302137</td><td>-36.984997</td><td>25.196287</td><td>11.1598049</td></tr>\n",
       "<tr><td>1651272950873074296</td><td>62.3222519</td><td>-36.9845495</td><td>76.2427562</td><td>11.28498</td></tr>\n",
       "<tr><td>1651272950873075563</td><td>62.4084096</td><td>-36.8756736</td><td>25.5017261</td><td>15.2400521</td></tr>\n",
       "<tr><td>1651272950873077675</td><td>62.4292964</td><td>-36.8249373</td><td>63.9766217</td><td>11.3671908</td></tr>\n",
       "<tr><td>1651272950873077908</td><td>62.4027672</td><td>-36.7823709</td><td>156.7834363</td><td>19.9906197</td></tr>\n",
       "<tr><td>1651272950873075516</td><td>62.3286964</td><td>-36.8797186</td><td>71.1628276</td><td>11.1632337</td></tr>\n",
       "<tr><td>1651272950873104778</td><td>62.3864544</td><td>-36.8676444</td><td>1574.051611</td><td>21.573406</td></tr>\n",
       "<tr><td>1651272950873077669</td><td>62.2882911</td><td>-36.8262734</td><td>101.865047</td><td>15.9344987</td></tr>\n",
       "<tr><td>1651272950873106000</td><td>62.4154351</td><td>-36.8539966</td><td>39.1690419</td><td>11.9969863</td></tr>\n",
       "</table></div>"
      ],
      "text/plain": [
       "<Table length=400406>\n",
       "      objectId       coord_ra   coord_dec  g_cModelFlux g_cModelFluxErr\n",
       "                       deg         deg         nJy            nJy      \n",
       "       int64         float64     float64     float64        float64    \n",
       "------------------- ---------- ----------- ------------ ---------------\n",
       "1651413688361452486 61.9633337 -36.5130381   87.0327531       11.427506\n",
       "1651413688361453181 61.8924527  -36.507808   30.5953283      13.6635788\n",
       "1651413688361452920 61.8884207 -36.5091517   33.0829193      11.0448069\n",
       "1651413688361452919 61.8877113 -36.5090904  195.5987974      15.9109814\n",
       "1651413688361452918 61.8870687 -36.5091254  150.4294078       13.244513\n",
       "1651413688361452889 61.9196129 -36.5086578   11.6068281      12.7490609\n",
       "1651413688361452888 61.9195084 -36.5091561  276.7016293      15.5864475\n",
       "1651413688361452887 61.9173006 -36.5112305  130.0196026      12.2823882\n",
       "1651413688361452886 61.9187458 -36.5101619  263.0493591        14.44147\n",
       "                ...        ...         ...          ...             ...\n",
       "1651272950873077871 62.4144583  -36.787693    85.302217      15.5312089\n",
       "1651272950873074292 62.3302137  -36.984997    25.196287      11.1598049\n",
       "1651272950873074296 62.3222519 -36.9845495   76.2427562        11.28498\n",
       "1651272950873075563 62.4084096 -36.8756736   25.5017261      15.2400521\n",
       "1651272950873077675 62.4292964 -36.8249373   63.9766217      11.3671908\n",
       "1651272950873077908 62.4027672 -36.7823709  156.7834363      19.9906197\n",
       "1651272950873075516 62.3286964 -36.8797186   71.1628276      11.1632337\n",
       "1651272950873104778 62.3864544 -36.8676444  1574.051611       21.573406\n",
       "1651272950873077669 62.2882911 -36.8262734   101.865047      15.9344987\n",
       "1651272950873106000 62.4154351 -36.8539966   39.1690419      11.9969863"
      ]
     },
     "execution_count": 20,
     "metadata": {},
     "output_type": "execute_result"
    }
   ],
   "source": [
    "results = job.fetch_result().to_table()\n",
    "results"
   ]
  },
  {
   "cell_type": "markdown",
   "metadata": {},
   "source": [
    "Convert fluxes to magnitudes using the function scisql_nanojanskyToAbMab and scisql_nanojanskyToAbMagSigma."
   ]
  },
  {
   "cell_type": "code",
   "execution_count": 21,
   "metadata": {
    "execution": {
     "iopub.execute_input": "2024-08-12T23:12:40.121581Z",
     "iopub.status.busy": "2024-08-12T23:12:40.121341Z",
     "iopub.status.idle": "2024-08-12T23:12:40.124575Z",
     "shell.execute_reply": "2024-08-12T23:12:40.124071Z",
     "shell.execute_reply.started": "2024-08-12T23:12:40.121565Z"
    }
   },
   "outputs": [],
   "source": [
    "query = \"SELECT coord_ra, coord_dec, \"\\\n",
    "        \"-2.5 * LOG10(g_cModelFlux) + 31.4 AS gmag1, \"\\\n",
    "        \"scisql_nanojanskyToAbMag(g_cModelFlux) AS gmag2, \"\\\n",
    "        \"scisql_nanojanskyToAbMagSigma(g_cModelFlux, g_cModelFluxErr) AS gmag2err \"\\\n",
    "        \"FROM dp02_dc2_catalogs.Object \"\\\n",
    "        \"WHERE CONTAINS(POINT('ICRS', coord_ra, coord_dec), \"\\\n",
    "        \"CIRCLE('ICRS', \" + str_center_coords + \", \" + str_radius + \")) = 1 \"\\\n",
    "        \"AND detect_isPrimary = 1\""
   ]
  },
  {
   "cell_type": "code",
   "execution_count": 22,
   "metadata": {
    "execution": {
     "iopub.execute_input": "2024-08-12T23:12:40.125463Z",
     "iopub.status.busy": "2024-08-12T23:12:40.125271Z",
     "iopub.status.idle": "2024-08-12T23:12:55.404167Z",
     "shell.execute_reply": "2024-08-12T23:12:55.403562Z",
     "shell.execute_reply.started": "2024-08-12T23:12:40.125449Z"
    }
   },
   "outputs": [
    {
     "name": "stdout",
     "output_type": "stream",
     "text": [
      "Job phase is COMPLETED\n"
     ]
    }
   ],
   "source": [
    "job = service.submit_job(query)\n",
    "job.run()\n",
    "job.wait(phases=['COMPLETED', 'ERROR'])\n",
    "print('Job phase is', job.phase)"
   ]
  },
  {
   "cell_type": "code",
   "execution_count": 23,
   "metadata": {
    "execution": {
     "iopub.execute_input": "2024-08-12T23:12:55.405095Z",
     "iopub.status.busy": "2024-08-12T23:12:55.404883Z",
     "iopub.status.idle": "2024-08-12T23:13:02.203673Z",
     "shell.execute_reply": "2024-08-12T23:13:02.203099Z",
     "shell.execute_reply.started": "2024-08-12T23:12:55.405068Z"
    }
   },
   "outputs": [
    {
     "data": {
      "text/html": [
       "<div><i>Table length=400406</i>\n",
       "<table id=\"table137385260765072\" class=\"table-striped table-bordered table-condensed\">\n",
       "<thead><tr><th>coord_ra</th><th>coord_dec</th><th>gmag1</th><th>gmag2</th><th>gmag2err</th></tr></thead>\n",
       "<thead><tr><th>deg</th><th>deg</th><th></th><th></th><th></th></tr></thead>\n",
       "<thead><tr><th>float64</th><th>float64</th><th>float64</th><th>float64</th><th>float64</th></tr></thead>\n",
       "<tr><td>61.9633337</td><td>-36.5130381</td><td>26.5507931956459</td><td>26.5507931956459</td><td>0.1425584800245823</td></tr>\n",
       "<tr><td>61.8924527</td><td>-36.507808</td><td>27.685862205725982</td><td>27.685862205725982</td><td>0.4848793268129645</td></tr>\n",
       "<tr><td>61.8884207</td><td>-36.5091517</td><td>27.600990436134484</td><td>27.600990436134484</td><td>0.36247547011041437</td></tr>\n",
       "<tr><td>61.8877113</td><td>-36.5090904</td><td>25.671584549281953</td><td>25.671584549281953</td><td>0.08831919617524803</td></tr>\n",
       "<tr><td>61.8870687</td><td>-36.5091254</td><td>25.956668135477894</td><td>25.956668135477894</td><td>0.09559332506053851</td></tr>\n",
       "<tr><td>61.9196129</td><td>-36.5086578</td><td>28.738216118800864</td><td>28.738216118800864</td><td>1.1925839580407214</td></tr>\n",
       "<tr><td>61.9195084</td><td>-36.5091561</td><td>25.29497070899695</td><td>25.29497070899695</td><td>0.06115891112431494</td></tr>\n",
       "<tr><td>61.9173006</td><td>-36.5112305</td><td>26.114977914247937</td><td>26.114977914247937</td><td>0.10256479240795674</td></tr>\n",
       "<tr><td>61.9187458</td><td>-36.5101619</td><td>25.34990687997852</td><td>25.34990687997852</td><td>0.05960716605649539</td></tr>\n",
       "<tr><td>...</td><td>...</td><td>...</td><td>...</td><td>...</td></tr>\n",
       "<tr><td>62.4144583</td><td>-36.787693</td><td>26.57259920348933</td><td>26.57259920348933</td><td>0.19768297237094887</td></tr>\n",
       "<tr><td>62.3302137</td><td>-36.984997</td><td>27.896658633583787</td><td>27.896658633583787</td><td>0.4808884824167615</td></tr>\n",
       "<tr><td>62.3222519</td><td>-36.9845495</td><td>26.694503530504115</td><td>26.694503530504115</td><td>0.16070394050066353</td></tr>\n",
       "<tr><td>62.4084096</td><td>-36.8756736</td><td>27.88357605770581</td><td>27.88357605770581</td><td>0.6488453472712251</td></tr>\n",
       "<tr><td>62.4292964</td><td>-36.8249373</td><td>26.88494674166232</td><td>26.88494674166232</td><td>0.1929106331345021</td></tr>\n",
       "<tr><td>62.4027672</td><td>-36.7823709</td><td>25.911749552845208</td><td>25.911749552845208</td><td>0.13843643229193017</td></tr>\n",
       "<tr><td>62.3286964</td><td>-36.8797186</td><td>26.769367009723524</td><td>26.769367009723524</td><td>0.17031823213087238</td></tr>\n",
       "<tr><td>62.3864544</td><td>-36.8676444</td><td>23.407452579553194</td><td>23.407452579553194</td><td>0.014880724234490338</td></tr>\n",
       "<tr><td>62.2882911</td><td>-36.8262734</td><td>26.379937025240807</td><td>26.379937025240807</td><td>0.16983904344795867</td></tr>\n",
       "<tr><td>62.4154351</td><td>-36.8539966</td><td>27.417642628612597</td><td>27.417642628612597</td><td>0.332547382883452</td></tr>\n",
       "</table></div>"
      ],
      "text/plain": [
       "<Table length=400406>\n",
       " coord_ra   coord_dec  ...       gmag2              gmag2err      \n",
       "   deg         deg     ...                                        \n",
       " float64     float64   ...      float64             float64       \n",
       "---------- ----------- ... ------------------ --------------------\n",
       "61.9633337 -36.5130381 ...   26.5507931956459   0.1425584800245823\n",
       "61.8924527  -36.507808 ... 27.685862205725982   0.4848793268129645\n",
       "61.8884207 -36.5091517 ... 27.600990436134484  0.36247547011041437\n",
       "61.8877113 -36.5090904 ... 25.671584549281953  0.08831919617524803\n",
       "61.8870687 -36.5091254 ... 25.956668135477894  0.09559332506053851\n",
       "61.9196129 -36.5086578 ... 28.738216118800864   1.1925839580407214\n",
       "61.9195084 -36.5091561 ...  25.29497070899695  0.06115891112431494\n",
       "61.9173006 -36.5112305 ... 26.114977914247937  0.10256479240795674\n",
       "61.9187458 -36.5101619 ...  25.34990687997852  0.05960716605649539\n",
       "       ...         ... ...                ...                  ...\n",
       "62.4144583  -36.787693 ...  26.57259920348933  0.19768297237094887\n",
       "62.3302137  -36.984997 ... 27.896658633583787   0.4808884824167615\n",
       "62.3222519 -36.9845495 ... 26.694503530504115  0.16070394050066353\n",
       "62.4084096 -36.8756736 ...  27.88357605770581   0.6488453472712251\n",
       "62.4292964 -36.8249373 ...  26.88494674166232   0.1929106331345021\n",
       "62.4027672 -36.7823709 ... 25.911749552845208  0.13843643229193017\n",
       "62.3286964 -36.8797186 ... 26.769367009723524  0.17031823213087238\n",
       "62.3864544 -36.8676444 ... 23.407452579553194 0.014880724234490338\n",
       "62.2882911 -36.8262734 ... 26.379937025240807  0.16983904344795867\n",
       "62.4154351 -36.8539966 ... 27.417642628612597    0.332547382883452"
      ]
     },
     "execution_count": 23,
     "metadata": {},
     "output_type": "execute_result"
    }
   ],
   "source": [
    "results = job.fetch_result().to_table()\n",
    "results"
   ]
  },
  {
   "cell_type": "markdown",
   "metadata": {},
   "source": [
    "Get the g, r, and i magnitudes for point-like sources."
   ]
  },
  {
   "cell_type": "code",
   "execution_count": 24,
   "metadata": {
    "execution": {
     "iopub.execute_input": "2024-08-12T23:13:02.204634Z",
     "iopub.status.busy": "2024-08-12T23:13:02.204434Z",
     "iopub.status.idle": "2024-08-12T23:13:02.207758Z",
     "shell.execute_reply": "2024-08-12T23:13:02.207185Z",
     "shell.execute_reply.started": "2024-08-12T23:13:02.204619Z"
    }
   },
   "outputs": [],
   "source": [
    "query = \"SELECT objectId, \"\\\n",
    "        \"scisql_nanojanskyToAbMag(g_psfFlux) AS gmag, \"\\\n",
    "        \"scisql_nanojanskyToAbMag(r_psfFlux) AS rmag, \"\\\n",
    "        \"scisql_nanojanskyToAbMag(i_psfFlux) AS imag \"\\\n",
    "        \"FROM dp02_dc2_catalogs.Object \"\\\n",
    "        \"WHERE CONTAINS(POINT('ICRS', coord_ra, coord_dec), \"\\\n",
    "        \"CIRCLE('ICRS', \" + str_center_coords + \", \" + str_radius + \")) = 1 \"\\\n",
    "        \"AND detect_isPrimary = 0 \"\\\n",
    "        \"AND g_extendedness = 0 \"\\\n",
    "        \"AND r_extendedness = 0 \"\\\n",
    "        \"AND i_extendedness = 0\""
   ]
  },
  {
   "cell_type": "code",
   "execution_count": 25,
   "metadata": {
    "execution": {
     "iopub.execute_input": "2024-08-12T23:13:02.208693Z",
     "iopub.status.busy": "2024-08-12T23:13:02.208485Z",
     "iopub.status.idle": "2024-08-12T23:13:05.474441Z",
     "shell.execute_reply": "2024-08-12T23:13:05.473806Z",
     "shell.execute_reply.started": "2024-08-12T23:13:02.208677Z"
    }
   },
   "outputs": [
    {
     "name": "stdout",
     "output_type": "stream",
     "text": [
      "Job phase is COMPLETED\n"
     ]
    }
   ],
   "source": [
    "job = service.submit_job(query)\n",
    "job.run()\n",
    "job.wait(phases=['COMPLETED', 'ERROR'])\n",
    "print('Job phase is', job.phase)"
   ]
  },
  {
   "cell_type": "code",
   "execution_count": 26,
   "metadata": {
    "execution": {
     "iopub.execute_input": "2024-08-12T23:13:05.475452Z",
     "iopub.status.busy": "2024-08-12T23:13:05.475238Z",
     "iopub.status.idle": "2024-08-12T23:13:05.982410Z",
     "shell.execute_reply": "2024-08-12T23:13:05.981755Z",
     "shell.execute_reply.started": "2024-08-12T23:13:05.475436Z"
    }
   },
   "outputs": [],
   "source": [
    "results = job.fetch_result().to_table()\n",
    "#results"
   ]
  },
  {
   "cell_type": "markdown",
   "metadata": {},
   "source": [
    "Plot a color-color diagram."
   ]
  },
  {
   "cell_type": "code",
   "execution_count": 27,
   "metadata": {
    "execution": {
     "iopub.execute_input": "2024-08-12T23:13:05.983549Z",
     "iopub.status.busy": "2024-08-12T23:13:05.983281Z",
     "iopub.status.idle": "2024-08-12T23:13:06.149429Z",
     "shell.execute_reply": "2024-08-12T23:13:06.148737Z",
     "shell.execute_reply.started": "2024-08-12T23:13:05.983533Z"
    }
   },
   "outputs": [
    {
     "data": {
      "image/png": "[encoded data removed]",
      "text/plain": [
       "<Figure size 400x300 with 1 Axes>"
      ]
     },
     "metadata": {},
     "output_type": "display_data"
    }
   ],
   "source": [
    "fig = plt.figure(figsize=(4, 3))\n",
    "plt.plot(results['gmag']-results['rmag'], results['rmag']-results['imag'],\n",
    "         'o', mew=0, ms=3, alpha=0.1, color='black')\n",
    "plt.xlim([-1, 2])\n",
    "plt.ylim([-1, 2])\n",
    "plt.xlabel('g-r color')\n",
    "plt.ylabel('r-i color')\n",
    "plt.show()"
   ]
  },
  {
   "cell_type": "code",
   "execution_count": 28,
   "metadata": {
    "execution": {
     "iopub.execute_input": "2024-08-12T23:13:06.150465Z",
     "iopub.status.busy": "2024-08-12T23:13:06.150260Z",
     "iopub.status.idle": "2024-08-12T23:13:06.154073Z",
     "shell.execute_reply": "2024-08-12T23:13:06.153430Z",
     "shell.execute_reply.started": "2024-08-12T23:13:06.150450Z"
    }
   },
   "outputs": [],
   "source": [
    "query = \"SELECT objectId, \"\\\n",
    "        \"scisql_nanojanskyToAbMag(g_psfFlux) AS gmag, \"\\\n",
    "        \"scisql_nanojanskyToAbMag(r_psfFlux) AS rmag, \"\\\n",
    "        \"scisql_nanojanskyToAbMag(i_psfFlux) AS imag \"\\\n",
    "        \"FROM dp02_dc2_catalogs.Object \"\\\n",
    "        \"WHERE CONTAINS(POINT('ICRS', coord_ra, coord_dec), \"\\\n",
    "        \"CIRCLE('ICRS', \" + str_center_coords + \", \" + str_radius + \")) = 1 \"\\\n",
    "        \"AND detect_isPrimary = 0 \"\\\n",
    "        \"AND g_extendedness = 0 \"\\\n",
    "        \"AND r_extendedness = 0 \"\\\n",
    "        \"AND i_extendedness = 0 \"\\\n",
    "        \"AND i_psfFlux/i_psfFluxErr > 5 \"\\\n",
    "        \"AND z_psfFlux/z_psfFluxErr > 5 \"\\\n",
    "        \"AND y_psfFlux/y_psfFluxErr > 5\" "
   ]
  },
  {
   "cell_type": "code",
   "execution_count": 29,
   "metadata": {
    "execution": {
     "iopub.execute_input": "2024-08-12T23:13:06.155222Z",
     "iopub.status.busy": "2024-08-12T23:13:06.154915Z",
     "iopub.status.idle": "2024-08-12T23:13:21.435988Z",
     "shell.execute_reply": "2024-08-12T23:13:21.435344Z",
     "shell.execute_reply.started": "2024-08-12T23:13:06.155203Z"
    }
   },
   "outputs": [
    {
     "name": "stdout",
     "output_type": "stream",
     "text": [
      "Job phase is COMPLETED\n"
     ]
    }
   ],
   "source": [
    "job = service.submit_job(query)\n",
    "job.run()\n",
    "job.wait(phases=['COMPLETED', 'ERROR'])\n",
    "print('Job phase is', job.phase)"
   ]
  },
  {
   "cell_type": "code",
   "execution_count": 30,
   "metadata": {
    "execution": {
     "iopub.execute_input": "2024-08-12T23:13:21.436960Z",
     "iopub.status.busy": "2024-08-12T23:13:21.436764Z",
     "iopub.status.idle": "2024-08-12T23:13:21.567750Z",
     "shell.execute_reply": "2024-08-12T23:13:21.567133Z",
     "shell.execute_reply.started": "2024-08-12T23:13:21.436946Z"
    }
   },
   "outputs": [],
   "source": [
    "results = job.fetch_result().to_table()\n",
    "#results"
   ]
  },
  {
   "cell_type": "code",
   "execution_count": 31,
   "metadata": {
    "execution": {
     "iopub.execute_input": "2024-08-12T23:13:21.568774Z",
     "iopub.status.busy": "2024-08-12T23:13:21.568555Z",
     "iopub.status.idle": "2024-08-12T23:13:21.687678Z",
     "shell.execute_reply": "2024-08-12T23:13:21.687124Z",
     "shell.execute_reply.started": "2024-08-12T23:13:21.568758Z"
    }
   },
   "outputs": [
    {
     "data": {
      "image/png": "[encoded data removed]",
      "text/plain": [
       "<Figure size 400x300 with 1 Axes>"
      ]
     },
     "metadata": {},
     "output_type": "display_data"
    }
   ],
   "source": [
    "fig = plt.figure(figsize=(4, 3))\n",
    "plt.plot(results['gmag']-results['rmag'], results['rmag']-results['imag'],\n",
    "         'o', mew=0, ms=3, alpha=0.1, color='black')\n",
    "plt.xlim([-1, 2])\n",
    "plt.ylim([-1, 2])\n",
    "plt.xlabel('g-r color')\n",
    "plt.ylabel('r-i color')\n",
    "plt.show()"
   ]
  },
  {
   "cell_type": "markdown",
   "metadata": {},
   "source": [
    "## 4. Query the ForcedSource and CCD Visit tables."
   ]
  },
  {
   "cell_type": "markdown",
   "metadata": {},
   "source": [
    "Start with a known objectID. This is a variable star."
   ]
  },
  {
   "cell_type": "code",
   "execution_count": 32,
   "metadata": {
    "execution": {
     "iopub.execute_input": "2024-08-12T23:13:21.688707Z",
     "iopub.status.busy": "2024-08-12T23:13:21.688483Z",
     "iopub.status.idle": "2024-08-12T23:13:21.691385Z",
     "shell.execute_reply": "2024-08-12T23:13:21.690873Z",
     "shell.execute_reply.started": "2024-08-12T23:13:21.688687Z"
    }
   },
   "outputs": [],
   "source": [
    "str_target_objectId = '1651589610221899038'"
   ]
  },
  {
   "cell_type": "markdown",
   "metadata": {},
   "source": [
    "Query using a table join. "
   ]
  },
  {
   "cell_type": "code",
   "execution_count": 33,
   "metadata": {
    "execution": {
     "iopub.execute_input": "2024-08-12T23:13:21.692296Z",
     "iopub.status.busy": "2024-08-12T23:13:21.692098Z",
     "iopub.status.idle": "2024-08-12T23:13:21.705250Z",
     "shell.execute_reply": "2024-08-12T23:13:21.704607Z",
     "shell.execute_reply.started": "2024-08-12T23:13:21.692280Z"
    }
   },
   "outputs": [],
   "source": [
    "query = \"SELECT fs.objectId, fs.forcedSourceID, \"\\\n",
    "        \"cv.ccdVisitId, cv.band \"\\\n",
    "        \"FROM dp02_dc2_catalogs.ForcedSource AS fs \"\\\n",
    "        \"JOIN dp02_dc2_catalogs.CcdVisit AS cv ON fs.ccdVisitId = cv.ccdVisitId \"\\\n",
    "        \"WHERE fs.objectId = \" + str_target_objectId"
   ]
  },
  {
   "cell_type": "code",
   "execution_count": 34,
   "metadata": {
    "execution": {
     "iopub.execute_input": "2024-08-12T23:13:21.706509Z",
     "iopub.status.busy": "2024-08-12T23:13:21.706046Z",
     "iopub.status.idle": "2024-08-12T23:13:22.984018Z",
     "shell.execute_reply": "2024-08-12T23:13:22.983450Z",
     "shell.execute_reply.started": "2024-08-12T23:13:21.706491Z"
    }
   },
   "outputs": [
    {
     "name": "stdout",
     "output_type": "stream",
     "text": [
      "Job phase is COMPLETED\n"
     ]
    }
   ],
   "source": [
    "job = service.submit_job(query)\n",
    "job.run()\n",
    "job.wait(phases=['COMPLETED', 'ERROR'])\n",
    "print('Job phase is', job.phase)"
   ]
  },
  {
   "cell_type": "code",
   "execution_count": 35,
   "metadata": {
    "execution": {
     "iopub.execute_input": "2024-08-12T23:13:22.985225Z",
     "iopub.status.busy": "2024-08-12T23:13:22.984812Z",
     "iopub.status.idle": "2024-08-12T23:13:23.045337Z",
     "shell.execute_reply": "2024-08-12T23:13:23.044790Z",
     "shell.execute_reply.started": "2024-08-12T23:13:22.985207Z"
    }
   },
   "outputs": [
    {
     "data": {
      "text/html": [
       "<div><i>Table length=432</i>\n",
       "<table id=\"table137385256084304\" class=\"table-striped table-bordered table-condensed\">\n",
       "<thead><tr><th>objectId</th><th>forcedSourceID</th><th>ccdVisitId</th><th>band</th></tr></thead>\n",
       "<thead><tr><th>int64</th><th>int64</th><th>int64</th><th>object</th></tr></thead>\n",
       "<tr><td>1651589610221899038</td><td>222726828119327111</td><td>414861046</td><td>r</td></tr>\n",
       "<tr><td>1651589610221899038</td><td>385912535351589577</td><td>718818112</td><td>r</td></tr>\n",
       "<tr><td>1651589610221899038</td><td>506443285447858497</td><td>943324129</td><td>r</td></tr>\n",
       "<tr><td>1651589610221899038</td><td>506443828224344173</td><td>943325140</td><td>r</td></tr>\n",
       "<tr><td>1651589610221899038</td><td>222743471654445561</td><td>414892047</td><td>r</td></tr>\n",
       "<tr><td>1651589610221899038</td><td>387532245365179276</td><td>721835057</td><td>r</td></tr>\n",
       "<tr><td>1651589610221899038</td><td>404589149635508257</td><td>753606017</td><td>r</td></tr>\n",
       "<tr><td>1651589610221899038</td><td>385933419093201114</td><td>718857011</td><td>r</td></tr>\n",
       "<tr><td>1651589610221899038</td><td>506013745768597725</td><td>942524049</td><td>r</td></tr>\n",
       "<tr><td>1651589610221899038</td><td>372694236627237314</td><td>694197112</td><td>r</td></tr>\n",
       "<tr><td>...</td><td>...</td><td>...</td><td>...</td></tr>\n",
       "<tr><td>1651589610221899038</td><td>403815056942320485</td><td>752164157</td><td>i</td></tr>\n",
       "<tr><td>1651589610221899038</td><td>643091377600628605</td><td>1197851035</td><td>i</td></tr>\n",
       "<tr><td>1651589610221899038</td><td>524063868742279755</td><td>976145023</td><td>i</td></tr>\n",
       "<tr><td>1651589610221899038</td><td>226390468508791453</td><td>421685108</td><td>i</td></tr>\n",
       "<tr><td>1651589610221899038</td><td>524051518026972316</td><td>976122018</td><td>i</td></tr>\n",
       "<tr><td>1651589610221899038</td><td>368611849274407524</td><td>686593073</td><td>i</td></tr>\n",
       "<tr><td>1651589610221899038</td><td>625826129298620709</td><td>1165692004</td><td>i</td></tr>\n",
       "<tr><td>1651589610221899038</td><td>625825639135474756</td><td>1165691091</td><td>i</td></tr>\n",
       "<tr><td>1651589610221899038</td><td>368631216892574111</td><td>686629148</td><td>i</td></tr>\n",
       "<tr><td>1651589610221899038</td><td>368631740341720502</td><td>686630123</td><td>i</td></tr>\n",
       "</table></div>"
      ],
      "text/plain": [
       "<Table length=432>\n",
       "      objectId        forcedSourceID   ccdVisitId  band \n",
       "       int64              int64          int64    object\n",
       "------------------- ------------------ ---------- ------\n",
       "1651589610221899038 222726828119327111  414861046      r\n",
       "1651589610221899038 385912535351589577  718818112      r\n",
       "1651589610221899038 506443285447858497  943324129      r\n",
       "1651589610221899038 506443828224344173  943325140      r\n",
       "1651589610221899038 222743471654445561  414892047      r\n",
       "1651589610221899038 387532245365179276  721835057      r\n",
       "1651589610221899038 404589149635508257  753606017      r\n",
       "1651589610221899038 385933419093201114  718857011      r\n",
       "1651589610221899038 506013745768597725  942524049      r\n",
       "1651589610221899038 372694236627237314  694197112      r\n",
       "                ...                ...        ...    ...\n",
       "1651589610221899038 403815056942320485  752164157      i\n",
       "1651589610221899038 643091377600628605 1197851035      i\n",
       "1651589610221899038 524063868742279755  976145023      i\n",
       "1651589610221899038 226390468508791453  421685108      i\n",
       "1651589610221899038 524051518026972316  976122018      i\n",
       "1651589610221899038 368611849274407524  686593073      i\n",
       "1651589610221899038 625826129298620709 1165692004      i\n",
       "1651589610221899038 625825639135474756 1165691091      i\n",
       "1651589610221899038 368631216892574111  686629148      i\n",
       "1651589610221899038 368631740341720502  686630123      i"
      ]
     },
     "execution_count": 35,
     "metadata": {},
     "output_type": "execute_result"
    }
   ],
   "source": [
    "results = job.fetch_result().to_table()\n",
    "results"
   ]
  },
  {
   "cell_type": "markdown",
   "metadata": {},
   "source": [
    "Plot the i-band lightcurve."
   ]
  },
  {
   "cell_type": "code",
   "execution_count": 36,
   "metadata": {
    "execution": {
     "iopub.execute_input": "2024-08-12T23:13:23.046264Z",
     "iopub.status.busy": "2024-08-12T23:13:23.046049Z",
     "iopub.status.idle": "2024-08-12T23:13:23.049023Z",
     "shell.execute_reply": "2024-08-12T23:13:23.048526Z",
     "shell.execute_reply.started": "2024-08-12T23:13:23.046248Z"
    }
   },
   "outputs": [],
   "source": [
    "query = \"SELECT fs.objectId, fs.forcedSourceID, \"\\\n",
    "        \"scisql_nanojanskyToAbMag(fs.psfFlux) AS mag, \"\\\n",
    "        \"scisql_nanojanskyToAbMagSigma(fs.psfFlux, fs.psfFluxErr) AS magerr, \"\\\n",
    "        \"cv.band, cv.expMidptMJD \"\\\n",
    "        \"FROM dp02_dc2_catalogs.ForcedSource AS fs \"\\\n",
    "        \"JOIN dp02_dc2_catalogs.CcdVisit AS cv ON fs.ccdVisitId = cv.ccdVisitId \"\\\n",
    "        \"WHERE fs.objectId = \" + str_target_objectId + \"  \"\\\n",
    "        \"AND cv.band = 'i'\""
   ]
  },
  {
   "cell_type": "code",
   "execution_count": 37,
   "metadata": {
    "execution": {
     "iopub.execute_input": "2024-08-12T23:13:23.049984Z",
     "iopub.status.busy": "2024-08-12T23:13:23.049742Z",
     "iopub.status.idle": "2024-08-12T23:13:24.320049Z",
     "shell.execute_reply": "2024-08-12T23:13:24.319436Z",
     "shell.execute_reply.started": "2024-08-12T23:13:23.049967Z"
    }
   },
   "outputs": [
    {
     "name": "stdout",
     "output_type": "stream",
     "text": [
      "Job phase is COMPLETED\n"
     ]
    }
   ],
   "source": [
    "job = service.submit_job(query)\n",
    "job.run()\n",
    "job.wait(phases=['COMPLETED', 'ERROR'])\n",
    "print('Job phase is', job.phase)"
   ]
  },
  {
   "cell_type": "code",
   "execution_count": 38,
   "metadata": {
    "execution": {
     "iopub.execute_input": "2024-08-12T23:13:24.321338Z",
     "iopub.status.busy": "2024-08-12T23:13:24.320825Z",
     "iopub.status.idle": "2024-08-12T23:13:24.376043Z",
     "shell.execute_reply": "2024-08-12T23:13:24.375472Z",
     "shell.execute_reply.started": "2024-08-12T23:13:24.321318Z"
    }
   },
   "outputs": [
    {
     "data": {
      "text/html": [
       "<div><i>Table length=101</i>\n",
       "<table id=\"table137385255534096\" class=\"table-striped table-bordered table-condensed\">\n",
       "<thead><tr><th>objectId</th><th>forcedSourceID</th><th>mag</th><th>magerr</th><th>band</th><th>expMidptMJD</th></tr></thead>\n",
       "<thead><tr><th></th><th></th><th></th><th></th><th></th><th>d</th></tr></thead>\n",
       "<thead><tr><th>int64</th><th>int64</th><th>float64</th><th>float64</th><th>object</th><th>float64</th></tr></thead>\n",
       "<tr><td>1651589610221899038</td><td>653477216797103764</td><td>18.395204578235376</td><td>0.003786831536750768</td><td>i</td><td>61371.2830422</td></tr>\n",
       "<tr><td>1651589610221899038</td><td>351361092728938838</td><td>18.165696081114035</td><td>0.0032559799225709246</td><td>i</td><td>60549.2712432</td></tr>\n",
       "<tr><td>1651589610221899038</td><td>113571894833197927</td><td>17.96861837100967</td><td>0.003043382751798176</td><td>i</td><td>59866.3557842</td></tr>\n",
       "<tr><td>1651589610221899038</td><td>553335157491261255</td><td>18.271534232535394</td><td>0.004081229566019974</td><td>i</td><td>61098.0866502</td></tr>\n",
       "<tr><td>1651589610221899038</td><td>650665002671305832</td><td>18.454571457928836</td><td>0.0038163756224843517</td><td>i</td><td>61364.1963772</td></tr>\n",
       "<tr><td>1651589610221899038</td><td>650664556531574217</td><td>18.44978365331655</td><td>0.0038163310491518294</td><td>i</td><td>61364.1959242</td></tr>\n",
       "<tr><td>1651589610221899038</td><td>650690850858240156</td><td>18.45726065335482</td><td>0.0038979549711981288</td><td>i</td><td>61364.2191292</td></tr>\n",
       "<tr><td>1651589610221899038</td><td>115167969104926801</td><td>18.43833607064463</td><td>0.0035704157814200207</td><td>i</td><td>59870.2435682</td></tr>\n",
       "<tr><td>1651589610221899038</td><td>496162158627798127</td><td>18.37636785829904</td><td>0.003529695427131897</td><td>i</td><td>60937.3042232</td></tr>\n",
       "<tr><td>...</td><td>...</td><td>...</td><td>...</td><td>...</td><td>...</td></tr>\n",
       "<tr><td>1651589610221899038</td><td>403815056942320485</td><td>18.478852875164975</td><td>0.004036815418279158</td><td>i</td><td>60691.1474602</td></tr>\n",
       "<tr><td>1651589610221899038</td><td>643091377600628605</td><td>18.2702356175245</td><td>0.0033628994581347514</td><td>i</td><td>61334.2469812</td></tr>\n",
       "<tr><td>1651589610221899038</td><td>524063868742279755</td><td>18.413780392923883</td><td>0.003775385969656356</td><td>i</td><td>61017.1702922</td></tr>\n",
       "<tr><td>1651589610221899038</td><td>226390468508791453</td><td>18.091606648723523</td><td>0.002995493981399497</td><td>i</td><td>60180.3260492</td></tr>\n",
       "<tr><td>1651589610221899038</td><td>524051518026972316</td><td>18.40303669880945</td><td>0.0037275809733312067</td><td>i</td><td>61017.1585322</td></tr>\n",
       "<tr><td>1651589610221899038</td><td>368611849274407524</td><td>18.32895416061465</td><td>0.003794468596717939</td><td>i</td><td>60596.2383012</td></tr>\n",
       "<tr><td>1651589610221899038</td><td>625826129298620709</td><td>18.464888542629183</td><td>0.004512048292914824</td><td>i</td><td>61286.2584062</td></tr>\n",
       "<tr><td>1651589610221899038</td><td>625825639135474756</td><td>18.45673924031356</td><td>0.004538249262458231</td><td>i</td><td>61286.2579582</td></tr>\n",
       "<tr><td>1651589610221899038</td><td>368631216892574111</td><td>18.353311217117827</td><td>0.0038318203401815137</td><td>i</td><td>60596.2545392</td></tr>\n",
       "<tr><td>1651589610221899038</td><td>368631740341720502</td><td>18.34902511730995</td><td>0.003877142659155949</td><td>i</td><td>60596.2549882</td></tr>\n",
       "</table></div>"
      ],
      "text/plain": [
       "<Table length=101>\n",
       "      objectId        forcedSourceID   ...  band   expMidptMJD \n",
       "                                       ...              d      \n",
       "       int64              int64        ... object    float64   \n",
       "------------------- ------------------ ... ------ -------------\n",
       "1651589610221899038 653477216797103764 ...      i 61371.2830422\n",
       "1651589610221899038 351361092728938838 ...      i 60549.2712432\n",
       "1651589610221899038 113571894833197927 ...      i 59866.3557842\n",
       "1651589610221899038 553335157491261255 ...      i 61098.0866502\n",
       "1651589610221899038 650665002671305832 ...      i 61364.1963772\n",
       "1651589610221899038 650664556531574217 ...      i 61364.1959242\n",
       "1651589610221899038 650690850858240156 ...      i 61364.2191292\n",
       "1651589610221899038 115167969104926801 ...      i 59870.2435682\n",
       "1651589610221899038 496162158627798127 ...      i 60937.3042232\n",
       "                ...                ... ...    ...           ...\n",
       "1651589610221899038 403815056942320485 ...      i 60691.1474602\n",
       "1651589610221899038 643091377600628605 ...      i 61334.2469812\n",
       "1651589610221899038 524063868742279755 ...      i 61017.1702922\n",
       "1651589610221899038 226390468508791453 ...      i 60180.3260492\n",
       "1651589610221899038 524051518026972316 ...      i 61017.1585322\n",
       "1651589610221899038 368611849274407524 ...      i 60596.2383012\n",
       "1651589610221899038 625826129298620709 ...      i 61286.2584062\n",
       "1651589610221899038 625825639135474756 ...      i 61286.2579582\n",
       "1651589610221899038 368631216892574111 ...      i 60596.2545392\n",
       "1651589610221899038 368631740341720502 ...      i 60596.2549882"
      ]
     },
     "execution_count": 38,
     "metadata": {},
     "output_type": "execute_result"
    }
   ],
   "source": [
    "results = job.fetch_result().to_table()\n",
    "results"
   ]
  },
  {
   "cell_type": "code",
   "execution_count": 39,
   "metadata": {
    "execution": {
     "iopub.execute_input": "2024-08-12T23:13:24.377265Z",
     "iopub.status.busy": "2024-08-12T23:13:24.376858Z",
     "iopub.status.idle": "2024-08-12T23:13:24.503519Z",
     "shell.execute_reply": "2024-08-12T23:13:24.502957Z",
     "shell.execute_reply.started": "2024-08-12T23:13:24.377248Z"
    }
   },
   "outputs": [
    {
     "data": {
      "image/png": "[encoded data removed]",
      "text/plain": [
       "<Figure size 400x300 with 1 Axes>"
      ]
     },
     "metadata": {},
     "output_type": "display_data"
    }
   ],
   "source": [
    "fig = plt.figure(figsize=(4, 3))\n",
    "plt.plot(results['expMidptMJD'], results['mag'],'o', color='#850000', alpha=0.5, mew=0, label='i')\n",
    "plt.gca().invert_yaxis()\n",
    "plt.xlabel('Modified Julian Date')\n",
    "plt.ylabel('Apparent Magnitude')\n",
    "plt.legend(loc='upper right', handletextpad=0)\n",
    "plt.show()"
   ]
  }
 ],
 "metadata": {
  "kernelspec": {
   "display_name": "LSST",
   "language": "python",
   "name": "lsst"
  },
  "language_info": {
   "codemirror_mode": {
    "name": "ipython",
    "version": 3
   },
   "file_extension": ".py",
   "mimetype": "text/x-python",
   "name": "python",
   "nbconvert_exporter": "python",
   "pygments_lexer": "ipython3",
   "version": "3.11.7"
  }
 },
 "nbformat": 4,
 "nbformat_minor": 4
}
