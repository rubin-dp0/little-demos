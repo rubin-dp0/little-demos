{
 "cells": [
  {
   "cell_type": "markdown",
   "id": "749b0ddf",
   "metadata": {
    "tags": []
   },
   "source": [
    "<img align=\"left\" src = https://project.lsst.org/sites/default/files/Rubin-O-Logo_0.png width=170 style=\"padding: 10px\"> \n",
    "<br><b>Little Demo: Sky Backgrounds</b> <br>\n",
    "Contact authors: Melissa Graham<br>\n",
    "Last verified to run: 2023-09-22 <br>\n",
    "LSST Science Pipelines version: Weekly 2023_37 <br>"
   ]
  },
  {
   "cell_type": "markdown",
   "id": "9da1a210-d858-42fe-8591-570965b8be1a",
   "metadata": {},
   "source": [
    "Explore the sky backgrounds for a processed visit image (`calexp`) and a deeply coadded image (`deepCoadd`).\n",
    "\n",
    "Import packages."
   ]
  },
  {
   "cell_type": "code",
   "execution_count": null,
   "id": "cc506441-c5c1-4101-9090-3f2c59a04a37",
   "metadata": {
    "tags": []
   },
   "outputs": [],
   "source": [
    "import numpy as np\n",
    "import matplotlib\n",
    "import matplotlib.pyplot as plt\n",
    "from lsst.daf.butler import Butler\n",
    "import lsst.afw.display as afwDisplay"
   ]
  },
  {
   "cell_type": "markdown",
   "id": "3e6e035b-e492-42ed-b57a-ddbcff9a3220",
   "metadata": {},
   "source": [
    "Set plotting parameters."
   ]
  },
  {
   "cell_type": "code",
   "execution_count": null,
   "id": "36096062-7851-4099-bd5a-ad35efacb434",
   "metadata": {
    "tags": []
   },
   "outputs": [],
   "source": [
    "afwDisplay.setDefaultBackend('matplotlib')"
   ]
  },
  {
   "cell_type": "markdown",
   "id": "ceb1ff23-a9c7-41cd-bc97-dd7e6c9be007",
   "metadata": {},
   "source": [
    "Instantiate an instance of the butler."
   ]
  },
  {
   "cell_type": "code",
   "execution_count": null,
   "id": "1cc5b27f-c583-4480-8f18-6e4937cd289c",
   "metadata": {
    "tags": []
   },
   "outputs": [],
   "source": [
    "butler = Butler(config=\"dp02\", collections=\"2.2i/runs/DP0.2\")"
   ]
  },
  {
   "cell_type": "markdown",
   "id": "12ba4499-ec3f-403c-9bfc-7f95b9c0d147",
   "metadata": {},
   "source": [
    "<br>\n",
    "\n",
    "**Sky background for a `calexp`.**\n",
    "\n",
    "Obtain the `calexp` data for `detector` 75 in `visit` 512055."
   ]
  },
  {
   "cell_type": "code",
   "execution_count": null,
   "id": "e3ee02e9-9951-44af-a3d9-8a32bf61b8fd",
   "metadata": {
    "tags": []
   },
   "outputs": [],
   "source": [
    "dataId = {'visit': 512055, 'detector': 75}\n",
    "calexp = butler.get('calexp', **dataId)"
   ]
  },
  {
   "cell_type": "markdown",
   "id": "8baf781b-3486-4998-93da-59e30aa862c1",
   "metadata": {},
   "source": [
    "Display the `calexp`. Note the maximum pixel value is about 400."
   ]
  },
  {
   "cell_type": "code",
   "execution_count": null,
   "id": "80bb16af-003b-43d1-bafb-38dedb54f90e",
   "metadata": {
    "tags": []
   },
   "outputs": [],
   "source": [
    "fig = plt.figure(figsize=(4, 4))\n",
    "afw_display = afwDisplay.Display(fig)\n",
    "afw_display.scale('asinh', 'zscale')\n",
    "afw_display.mtv(calexp.image)"
   ]
  },
  {
   "cell_type": "markdown",
   "id": "d581c53a-714f-4b54-a4c1-63bfc9efebb9",
   "metadata": {},
   "source": [
    "Retrieve the subtracted background."
   ]
  },
  {
   "cell_type": "code",
   "execution_count": null,
   "id": "c96653ac-20ec-4343-a195-63b331cc6713",
   "metadata": {
    "tags": []
   },
   "outputs": [],
   "source": [
    "bkgd = butler.get('calexpBackground', **dataId)"
   ]
  },
  {
   "cell_type": "markdown",
   "id": "8cb47b27-e037-49e9-968e-6f5d52e3c6e4",
   "metadata": {},
   "source": [
    "Display the background image."
   ]
  },
  {
   "cell_type": "code",
   "execution_count": null,
   "id": "37bb7ded-9fa6-4762-825a-81fb16edab1a",
   "metadata": {
    "tags": []
   },
   "outputs": [],
   "source": [
    "fig = plt.figure(figsize=(4, 4))\n",
    "afw_display = afwDisplay.Display(fig)\n",
    "afw_display.scale('linear', 'zscale')\n",
    "afw_display.mtv(bkgd.getImage())"
   ]
  },
  {
   "cell_type": "markdown",
   "id": "02edfeab-1e86-4f3a-9f87-ea46ed8ae78b",
   "metadata": {},
   "source": [
    "Get the array of pixel values and print statistics for the background.\n",
    "\n",
    "Flatten the array and check for NaN values.\n",
    "\n",
    "Use `numpy` to display basic array statistics."
   ]
  },
  {
   "cell_type": "code",
   "execution_count": null,
   "id": "a5c7b22f-6cc6-40bc-b330-27729d5a351b",
   "metadata": {
    "tags": []
   },
   "outputs": [],
   "source": [
    "temp = np.asarray(bkgd.getImage().getArray(), dtype='float')\n",
    "bkgd_array = temp.flatten()\n",
    "print('Number of pixels:', len(bkgd_array))\n",
    "del temp\n",
    "\n",
    "tx = np.where( np.isnan(bkgd_array) )[0]\n",
    "print('Number of NaN pixels: ', len(tx))\n",
    "del tx\n",
    "\n",
    "print('Minimum pixel value: ', np.min(bkgd_array))\n",
    "print('Maximum pixel value: ', np.max(bkgd_array))\n",
    "print('Mean pixel value: ', np.mean(bkgd_array))\n",
    "print('Median pixel value: ', np.median(bkgd_array))\n",
    "print('Standard deviation in pixel values: ', np.std(bkgd_array))"
   ]
  },
  {
   "cell_type": "markdown",
   "id": "c65acbc9-a0b0-4267-be5c-09d322a2e40e",
   "metadata": {},
   "source": [
    "Show the histogram of pixel values."
   ]
  },
  {
   "cell_type": "code",
   "execution_count": null,
   "id": "328d576d-353e-4a23-a3c2-9d40a8123b73",
   "metadata": {
    "tags": []
   },
   "outputs": [],
   "source": [
    "fig = plt.figure(figsize=(6, 4))\n",
    "plt.hist(bkgd_array, bins=1000, log=True, color='grey',\n",
    "         range=(np.nanmin(bkgd_array), np.nanmax(bkgd_array)))\n",
    "plt.show()"
   ]
  },
  {
   "cell_type": "markdown",
   "id": "ebca7a86-c50d-407a-bf12-f6e18bfb0be4",
   "metadata": {},
   "source": [
    "Add the background back into the `calexp` and display it.\n",
    "\n",
    "> **Warning:** Executing this cell more than once would add the background more than once."
   ]
  },
  {
   "cell_type": "code",
   "execution_count": null,
   "id": "78406756-4cdb-4782-9778-52c2e5be17f7",
   "metadata": {
    "tags": []
   },
   "outputs": [],
   "source": [
    "safety_tag = int(0)\n",
    "if safety_tag == 0:\n",
    "    calexp.maskedImage += bkgd.getImage()\n",
    "    safety_tag += 1\n",
    "else:\n",
    "    print('WARNING: background has already been added. Did not re-add.')"
   ]
  },
  {
   "cell_type": "markdown",
   "id": "bb432bb9-dce6-4494-9d40-a12f43d3c79e",
   "metadata": {},
   "source": [
    "Display the `calexp` with the background added.\n",
    "\n",
    "Note that the maximum pixel count goes up to about 4000 (from 400 without the background)."
   ]
  },
  {
   "cell_type": "code",
   "execution_count": null,
   "id": "d0490c4a-db2e-4efb-a81c-b4adec0fda75",
   "metadata": {
    "tags": []
   },
   "outputs": [],
   "source": [
    "fig = plt.figure(figsize=(4, 4))\n",
    "afw_display = afwDisplay.Display(fig)\n",
    "afw_display.scale('asinh', 'zscale')\n",
    "afw_display.mtv(calexp.image)"
   ]
  },
  {
   "cell_type": "markdown",
   "id": "c9878cda-9008-4c06-93ae-8d926896a04c",
   "metadata": {},
   "source": [
    "Clean up."
   ]
  },
  {
   "cell_type": "code",
   "execution_count": null,
   "id": "f7e96f9b-a31e-4242-82e3-99ae83103c6a",
   "metadata": {
    "tags": []
   },
   "outputs": [],
   "source": [
    "del dataId, calexp, bkgd, bkgd_array, safety_tag"
   ]
  },
  {
   "cell_type": "markdown",
   "id": "fab677c9-baf2-4dab-9450-ab04ffc0d1eb",
   "metadata": {},
   "source": [
    "<br>\n",
    "\n",
    "**Sky background for a `deepCoadd_calexp` image.**\n",
    "\n",
    "Sky backgrounds are subtracted from all processed visit images prior to coaddition.\n",
    "\n",
    "A small final residual background is then subtracted to create the `deepCoadd_calexp` image.\n",
    "The background of the `deepCoadd_calexp` image **does not** represent the \n",
    "combined backgrounds of the individual images that contributed to the coadded image.\n",
    "It is these `deepCoadd_calexp` images which are used for source detection and measurement\n",
    "and the creation of the multi-band `Object` catalog.\n",
    "\n",
    "An image type called just `deepCoadd` is also created, and it does not have this\n",
    "small final residual background subtracted.\n",
    "\n",
    "Obtain the r-band `deepCoadd_calexp` and `deepCoadd` images for `tract` 4226 and `patch` 17."
   ]
  },
  {
   "cell_type": "code",
   "execution_count": null,
   "id": "72e4cd3f-5fdd-45c9-8fc2-1f3f341298a7",
   "metadata": {
    "tags": []
   },
   "outputs": [],
   "source": [
    "dataId = {'tract': 4226, 'patch': 17, 'band': 'r'}\n",
    "coadd_calexp = butler.get('deepCoadd_calexp', dataId)\n",
    "coadd = butler.get('deepCoadd', dataId)"
   ]
  },
  {
   "cell_type": "markdown",
   "id": "f767ddcb-0347-4494-b0d8-0e541a39e857",
   "metadata": {},
   "source": [
    "Option to list the visits which contributed to this coadded image."
   ]
  },
  {
   "cell_type": "code",
   "execution_count": null,
   "id": "5224c09b-d484-43a2-9180-1aee42e79e41",
   "metadata": {
    "tags": []
   },
   "outputs": [],
   "source": [
    "# coadd_calexp.getInfo().getCoaddInputs().visits.asAstropy()"
   ]
  },
  {
   "cell_type": "markdown",
   "id": "f23529b5-9998-4a97-bd3d-5780f34ee6cc",
   "metadata": {},
   "source": [
    "Display the `deepCoadd_calexp`."
   ]
  },
  {
   "cell_type": "code",
   "execution_count": null,
   "id": "69114c2a-7daa-4c55-b3a2-f76dfb0a1339",
   "metadata": {
    "tags": []
   },
   "outputs": [],
   "source": [
    "fig = plt.figure(figsize=(4, 4))\n",
    "afw_display = afwDisplay.Display(fig)\n",
    "afw_display.scale('asinh', 'zscale')\n",
    "afw_display.mtv(coadd_calexp.image)\n",
    "plt.gca().axis('off')\n",
    "plt.show()"
   ]
  },
  {
   "cell_type": "markdown",
   "id": "a7b92d6e-7fe3-4d82-8f44-ed400c0b5d03",
   "metadata": {},
   "source": [
    "Display the `deepCoadd`. No differences will be noticeable from the `deepCoadd_calexp`."
   ]
  },
  {
   "cell_type": "code",
   "execution_count": null,
   "id": "4b229fc9-ab4b-4530-9402-e5a5ef38cc57",
   "metadata": {
    "tags": []
   },
   "outputs": [],
   "source": [
    "fig = plt.figure(figsize=(4, 4))\n",
    "afw_display = afwDisplay.Display(fig)\n",
    "afw_display.scale('asinh', 'zscale')\n",
    "afw_display.mtv(coadd.image)\n",
    "plt.gca().axis('off')\n",
    "plt.show()"
   ]
  },
  {
   "cell_type": "markdown",
   "id": "9e08a223-61ee-436e-8516-b35dde60c716",
   "metadata": {
    "execution": {
     "iopub.execute_input": "2023-09-24T01:12:10.204729Z",
     "iopub.status.busy": "2023-09-24T01:12:10.203734Z",
     "iopub.status.idle": "2023-09-24T01:12:10.209857Z",
     "shell.execute_reply": "2023-09-24T01:12:10.209018Z",
     "shell.execute_reply.started": "2023-09-24T01:12:10.204698Z"
    },
    "tags": []
   },
   "source": [
    "Retrieve the small residual background subtracted to create the `deepCoadd_calexp` image."
   ]
  },
  {
   "cell_type": "code",
   "execution_count": null,
   "id": "25237d2b-12b6-4c89-b36b-c5f4d73bbb89",
   "metadata": {
    "tags": []
   },
   "outputs": [],
   "source": [
    "coadd_calexp_bkgd = butler.get('deepCoadd_calexp_background', dataId)"
   ]
  },
  {
   "cell_type": "markdown",
   "id": "6c64d060-aa30-47ba-966d-84ca8df3bc17",
   "metadata": {},
   "source": [
    "Display the background image. Notice how much flatter it appears than the `calexp_background`."
   ]
  },
  {
   "cell_type": "code",
   "execution_count": null,
   "id": "44e0ff22-69c6-42f7-af68-b26b4138ad77",
   "metadata": {
    "tags": []
   },
   "outputs": [],
   "source": [
    "fig = plt.figure(figsize=(4, 4))\n",
    "afw_display = afwDisplay.Display(fig)\n",
    "afw_display.mtv(coadd_calexp_bkgd.getImage())"
   ]
  },
  {
   "cell_type": "markdown",
   "id": "4ac4fd9b-d7f7-4905-aeb7-60df12dc12cb",
   "metadata": {},
   "source": [
    "Get the array of pixel values and print statistics for the background.\n",
    "Flatten the array and check for NaN values.\n",
    "Use `numpy` to display basic array statistics."
   ]
  },
  {
   "cell_type": "code",
   "execution_count": null,
   "id": "03f06b0b-5ac0-463e-8500-c1e0b22ec75f",
   "metadata": {
    "tags": []
   },
   "outputs": [],
   "source": [
    "temp = np.asarray(coadd_calexp_bkgd.getImage().getArray(), dtype='float')\n",
    "bkgd_array = temp.flatten()\n",
    "print('Number of pixels:', len(bkgd_array))\n",
    "del temp\n",
    "\n",
    "tx = np.where( np.isnan(bkgd_array) )[0]\n",
    "print('Number of NaN pixels: ', len(tx))\n",
    "del tx\n",
    "\n",
    "print('Minimum pixel value: ', np.min(bkgd_array))\n",
    "print('Maximum pixel value: ', np.max(bkgd_array))\n",
    "print('Mean pixel value: ', np.mean(bkgd_array))\n",
    "print('Median pixel value: ', np.median(bkgd_array))\n",
    "print('Standard deviation in pixel values: ', np.std(bkgd_array))"
   ]
  },
  {
   "cell_type": "markdown",
   "id": "95c4f59f-fca0-4b3b-9256-f73e2b1314ec",
   "metadata": {},
   "source": [
    "Notice that the minimum, maximum, mean, and median are all the same value,\n",
    "and that the standard deviation is zero. \n",
    "The small residual `deepCoadd_calexp` background is flat with no gradient."
   ]
  },
  {
   "cell_type": "markdown",
   "id": "99aa4bda-ae90-435c-bd1b-5dbc7ed3fd25",
   "metadata": {},
   "source": [
    "Show that `deepCoadd` - `deepCoadd_calexp` $\\approx$ `deepCoadd_calexp_background`."
   ]
  },
  {
   "cell_type": "code",
   "execution_count": null,
   "id": "b70db4bd-96d8-4aa1-b81c-5ed8048cc1b8",
   "metadata": {
    "tags": []
   },
   "outputs": [],
   "source": [
    "temp1 = np.asarray(coadd.getImage().getArray(), dtype='float')\n",
    "temp2 = np.asarray(coadd_calexp.getImage().getArray(), dtype='float')\n",
    "array = temp1.flatten() - temp2.flatten()\n",
    "\n",
    "print('Minimum pixel value: ', np.min(array))\n",
    "print('Maximum pixel value: ', np.max(array))\n",
    "print('Mean pixel value: ', np.mean(array))\n",
    "print('Median pixel value: ', np.median(array))\n",
    "print('Standard deviation in pixel values: ', np.std(array))"
   ]
  },
  {
   "cell_type": "markdown",
   "id": "5558b9df-0a7d-4ff3-966e-17b00d94c1ec",
   "metadata": {},
   "source": [
    "These statistics are very similar to those for the `deepCoadd_calexp_background`."
   ]
  }
 ],
 "metadata": {
  "kernelspec": {
   "display_name": "LSST",
   "language": "python",
   "name": "lsst"
  },
  "language_info": {
   "codemirror_mode": {
    "name": "ipython",
    "version": 3
   },
   "file_extension": ".py",
   "mimetype": "text/x-python",
   "name": "python",
   "nbconvert_exporter": "python",
   "pygments_lexer": "ipython3",
   "version": "3.11.4"
  },
  "toc-autonumbering": false
 },
 "nbformat": 4,
 "nbformat_minor": 5
}
