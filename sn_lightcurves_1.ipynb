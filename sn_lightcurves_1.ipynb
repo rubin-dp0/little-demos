{
 "cells": [
  {
   "cell_type": "markdown",
   "id": "749b0ddf",
   "metadata": {},
   "source": [
    "<img align=\"left\" src = https://project.lsst.org/sites/default/files/Rubin-O-Logo_0.png width=170 style=\"padding: 10px\"> \n",
    "<br><b>Little Demo: Lightcurve of a Type Ia Supernova</b> <br>\n",
    "Contact author: Melissa Graham <br>\n",
    "Last verified to run: 2023-09-23 <br>\n",
    "LSST Science Pipelines version: Weekly 2023_37 <br>"
   ]
  },
  {
   "cell_type": "markdown",
   "id": "9da1a210-d858-42fe-8591-570965b8be1a",
   "metadata": {},
   "source": [
    "Plot the multi-band lightcurve of one Type Ia supernova.\n",
    "\n",
    "Import packages."
   ]
  },
  {
   "cell_type": "code",
   "execution_count": null,
   "id": "cddc1458",
   "metadata": {
    "tags": []
   },
   "outputs": [],
   "source": [
    "import numpy\n",
    "import matplotlib.pyplot as plt\n",
    "from lsst.rsp import get_tap_service"
   ]
  },
  {
   "cell_type": "markdown",
   "id": "7cc807cf-3937-4a92-9fc8-9efbf8827447",
   "metadata": {},
   "source": [
    "Start the TAP service."
   ]
  },
  {
   "cell_type": "code",
   "execution_count": null,
   "id": "6e32778c-067e-41c3-a777-dcc4128d7de4",
   "metadata": {
    "tags": []
   },
   "outputs": [],
   "source": [
    "service = get_tap_service(\"tap\")"
   ]
  },
  {
   "cell_type": "markdown",
   "id": "b6a8c049-2ea5-4370-b80e-8d2df94464ee",
   "metadata": {},
   "source": [
    "Set plot style parameters."
   ]
  },
  {
   "cell_type": "code",
   "execution_count": null,
   "id": "5a72c70e-e682-458c-8aeb-56ecfb4567f2",
   "metadata": {
    "tags": []
   },
   "outputs": [],
   "source": [
    "plt.style.use('tableau-colorblind10')\n",
    "filter_names = ['u', 'g', 'r', 'i', 'z', 'y']\n",
    "filter_colors = {'u': '#56b4e9', 'g': '#008060', 'r': '#ff4000',\n",
    "                 'i': '#850000', 'z': '#6600cc', 'y': '#000000'}\n",
    "filter_symbols = {'u': 'o', 'g': '^', 'r': 'v', 'i': 's', 'z': '*', 'y': 'p'}"
   ]
  },
  {
   "cell_type": "markdown",
   "id": "205dab4c-1e66-4107-a8b2-bcf44a9b3c41",
   "metadata": {},
   "source": [
    "This demo assumes that the RA, Dec of the supernova is already known."
   ]
  },
  {
   "cell_type": "code",
   "execution_count": null,
   "id": "573b1cc1-da53-4737-afee-d6ead3c9a747",
   "metadata": {
    "tags": []
   },
   "outputs": [],
   "source": [
    "sn_coords = '68.880903, -43.571043'"
   ]
  },
  {
   "cell_type": "markdown",
   "id": "84dfd90b-8e1a-42e6-a91e-eeaf2343527e",
   "metadata": {},
   "source": [
    "Find the `DiaObject` identifier for the supernova, using its coordinates.\n",
    "\n",
    "This query searches for objects detected in difference images within 1 arcsecond\n",
    "of the supernova's coordinates."
   ]
  },
  {
   "cell_type": "code",
   "execution_count": null,
   "id": "2ec5b61a-e8c7-45dc-a422-0bb08fc58410",
   "metadata": {
    "tags": []
   },
   "outputs": [],
   "source": [
    "DiaObjs = service.search(\"SELECT ra, decl, diaObjectId, nDiaSources \"\n",
    "                         \"FROM dp02_dc2_catalogs.DiaObject \"\n",
    "                         \"WHERE CONTAINS(POINT('ICRS', ra, decl), \"\n",
    "                         \"CIRCLE('ICRS', \" + sn_coords + \", 0.0003)) = 1 \").to_table()"
   ]
  },
  {
   "cell_type": "markdown",
   "id": "959e07a4-a98c-4607-913f-00d48e7b1eb4",
   "metadata": {
    "execution": {
     "iopub.execute_input": "2023-09-23T16:03:10.624098Z",
     "iopub.status.busy": "2023-09-23T16:03:10.623419Z",
     "iopub.status.idle": "2023-09-23T16:03:10.628496Z",
     "shell.execute_reply": "2023-09-23T16:03:10.627877Z",
     "shell.execute_reply.started": "2023-09-23T16:03:10.624077Z"
    },
    "tags": []
   },
   "source": [
    "View table."
   ]
  },
  {
   "cell_type": "code",
   "execution_count": null,
   "id": "eed55ece-19e1-4fbd-a9b8-577e5a87144d",
   "metadata": {
    "tags": []
   },
   "outputs": [],
   "source": [
    "DiaObjs"
   ]
  },
  {
   "cell_type": "markdown",
   "id": "fa97f7f4-6e43-4ffd-b19e-ce83a840d26d",
   "metadata": {},
   "source": [
    "Save the `diaObjectId` for the supernova of interest."
   ]
  },
  {
   "cell_type": "code",
   "execution_count": null,
   "id": "7b76d76c-ca3b-4328-a74a-f9c740f272b1",
   "metadata": {
    "tags": []
   },
   "outputs": [],
   "source": [
    "sn_diaObjectId = 1252792344780999776"
   ]
  },
  {
   "cell_type": "markdown",
   "id": "9b0aec16-2c06-4533-8168-6ca66f2239c0",
   "metadata": {},
   "source": [
    "Retrieve data from the `ForcedSourceOnDiaObject` table for this `DiaObject`. \n",
    "Return filter (`band`) and difference-image forced PSF-fit flux (`psfDiffFlux`) \n",
    "and its error (`psfDiffFluxErr`).\n",
    "Join with the `ccdVisitId` table to get the time of the observation.\n",
    "\n",
    "**This query will return forced photometry for *all* LSST visits.**\n",
    "(Query the `DiaSource` table instead of `ForcedSourceOnDiaObject` if only\n",
    "SNR $>5$ detections are desired.)"
   ]
  },
  {
   "cell_type": "code",
   "execution_count": null,
   "id": "704b36c9-1929-468a-9337-bb71f50dcb5d",
   "metadata": {
    "tags": []
   },
   "outputs": [],
   "source": [
    "DiaSrcs = service.search(\"SELECT fsodo.band, fsodo.psfDiffFlux, fsodo.psfDiffFluxErr, \"\n",
    "                         \"cv.expMidptMJD \"\n",
    "                         \"FROM dp02_dc2_catalogs.ForcedSourceOnDiaObject AS fsodo \"\n",
    "                         \"JOIN dp02_dc2_catalogs.CcdVisit AS cv \"\n",
    "                         \"ON cv.ccdVisitId = fsodo.ccdVisitId \"\n",
    "                         \"WHERE fsodo.diaObjectId = \"+str(sn_diaObjectId)).to_table()\n",
    "print(len(DiaSrcs))"
   ]
  },
  {
   "cell_type": "markdown",
   "id": "1fbdf49e-f3f8-4f5f-8982-7881179e53e5",
   "metadata": {},
   "source": [
    "Option to view table."
   ]
  },
  {
   "cell_type": "code",
   "execution_count": null,
   "id": "08aa53f5-c084-41a2-9d05-c24b9aba4884",
   "metadata": {
    "tags": []
   },
   "outputs": [],
   "source": [
    "# DiaSrcs"
   ]
  },
  {
   "cell_type": "markdown",
   "id": "de36bdd9-555b-4a14-90ef-015ddf1a0738",
   "metadata": {},
   "source": [
    "Plot the forced-photometry lightcurve in flux, not magnitude.\n",
    "Fluxes are from difference images and can be negative. "
   ]
  },
  {
   "cell_type": "code",
   "execution_count": null,
   "id": "57166c37-81f7-478d-a2db-5aad76820427",
   "metadata": {
    "tags": []
   },
   "outputs": [],
   "source": [
    "fig = plt.figure(figsize=(6, 4))\n",
    "for filt in filter_names:\n",
    "    fx = numpy.where(DiaSrcs['band'] == filt)[0]\n",
    "    plt.plot(DiaSrcs['expMidptMJD'][fx], DiaSrcs['psfDiffFlux'][fx],\n",
    "             filter_symbols[filt], ms=15, mew=0, alpha=0.5, \n",
    "             color=filter_colors[filt])\n",
    "plt.xlabel('Modified Julian Date')\n",
    "plt.ylabel('Difference-Image Flux [nJy]')\n",
    "plt.title('Forced-Photometry SNIa Lightcurve')\n",
    "plt.show()"
   ]
  },
  {
   "cell_type": "markdown",
   "id": "027d6c31-7e67-4787-a2bd-f11ad31b70a3",
   "metadata": {},
   "source": [
    "Plot the forced-photometry lightcurve in magnitudes, only for epochs with SNR>5 detections."
   ]
  },
  {
   "cell_type": "code",
   "execution_count": null,
   "id": "c291e72d-95ca-4fe3-8c92-43a6b47ec9b2",
   "metadata": {
    "tags": []
   },
   "outputs": [],
   "source": [
    "fig = plt.figure(figsize=(6, 4))\n",
    "for filt in filter_names:\n",
    "    fx = numpy.where(DiaSrcs['band'] == filt)[0]\n",
    "    tx = numpy.where(DiaSrcs['psfDiffFlux'][fx] > 5.0 * DiaSrcs['psfDiffFluxErr'][fx])[0]\n",
    "    plt.plot(DiaSrcs['expMidptMJD'][fx[tx]],\n",
    "             -2.5 * numpy.log10(DiaSrcs['psfDiffFlux'][fx[tx]]) + 31.4,\n",
    "             filter_symbols[filt], ms=15, mew=0, alpha=0.5, \n",
    "             color=filter_colors[filt])\n",
    "plt.xlabel('Modified Julian Date')\n",
    "plt.ylabel('Difference-Image Magnitude')\n",
    "plt.title('SNR>5 SNIa Lightcurve')\n",
    "plt.ylim([25, 22])\n",
    "plt.show()"
   ]
  },
  {
   "cell_type": "markdown",
   "id": "b640c3bf-9b41-4a32-b91e-ef8bb2feb72f",
   "metadata": {
    "execution": {
     "iopub.execute_input": "2023-09-23T16:17:15.797736Z",
     "iopub.status.busy": "2023-09-23T16:17:15.797107Z",
     "iopub.status.idle": "2023-09-23T16:17:15.802032Z",
     "shell.execute_reply": "2023-09-23T16:17:15.801317Z",
     "shell.execute_reply.started": "2023-09-23T16:17:15.797712Z"
    },
    "tags": []
   },
   "source": [
    "Recall that the DC2 simulation used an old baseline observing strategy without rolling cadence."
   ]
  }
 ],
 "metadata": {
  "kernelspec": {
   "display_name": "LSST",
   "language": "python",
   "name": "lsst"
  },
  "language_info": {
   "codemirror_mode": {
    "name": "ipython",
    "version": 3
   },
   "file_extension": ".py",
   "mimetype": "text/x-python",
   "name": "python",
   "nbconvert_exporter": "python",
   "pygments_lexer": "ipython3",
   "version": "3.11.4"
  },
  "toc-autonumbering": false
 },
 "nbformat": 4,
 "nbformat_minor": 5
}
