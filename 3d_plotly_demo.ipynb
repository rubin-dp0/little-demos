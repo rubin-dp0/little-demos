{
 "cells": [
  {
   "cell_type": "markdown",
   "id": "0b66e93a-17a8-446f-94a3-1ac665c1dcc7",
   "metadata": {},
   "source": [
    "<img align=\"left\" src = https://project.lsst.org/sites/default/files/Rubin-O-Logo_0.png width=170 style=\"padding: 10px\"> \n",
    "<b>Little Demo: 3D Plots with the Plotly Python Package</b> <br>\n",
    "Contact author(s): Melissa Graham <br>\n",
    "Last verified to run: 2024-07-30 <br>\n",
    "LSST Science Pipelines version: Weekly 2024_16 <br>\n",
    "Container Size: medium"
   ]
  },
  {
   "cell_type": "markdown",
   "id": "51c70386-f751-4e0e-8eb1-607947d9daa5",
   "metadata": {
    "execution": {
     "iopub.execute_input": "2024-07-30T22:11:00.713742Z",
     "iopub.status.busy": "2024-07-30T22:11:00.713497Z",
     "iopub.status.idle": "2024-07-30T22:11:00.717633Z",
     "shell.execute_reply": "2024-07-30T22:11:00.716910Z",
     "shell.execute_reply.started": "2024-07-30T22:11:00.713726Z"
    }
   },
   "source": [
    "This little demo has used the examples of 3D charts from [plotly.com/python](https://plotly.com/python/)\n",
    "\n",
    ">**Warning:** This notebook does not respond well to using \"Restart kernel and run all cells\". Better to execute one cell at a time.\n",
    "\n",
    "## Set up"
   ]
  },
  {
   "cell_type": "code",
   "execution_count": null,
   "id": "0ffcf50c-f381-4ee1-a842-9498bb42a06f",
   "metadata": {},
   "outputs": [],
   "source": [
    "import numpy as np\n",
    "import pandas as pd\n",
    "\n",
    "import plotly.express as px\n",
    "import plotly.graph_objects as go\n",
    "import healsparse as hsp\n",
    "\n",
    "from lsst.daf.butler import Butler\n",
    "from lsst.rsp import get_tap_service"
   ]
  },
  {
   "cell_type": "markdown",
   "id": "b59475c5-90da-4d09-a126-65d38617fd3e",
   "metadata": {},
   "source": [
    "## Plotly-provided demos\n",
    "\n",
    "### 3D scatter plot\n",
    "\n",
    "The exact demo from [plotly.com/python/3d-scatter-plots/](https://plotly.com/python/3d-scatter-plots/)."
   ]
  },
  {
   "cell_type": "code",
   "execution_count": null,
   "id": "9bc794aa-f8ff-41a7-a021-a60fe260453a",
   "metadata": {},
   "outputs": [],
   "source": [
    "df = px.data.iris()"
   ]
  },
  {
   "cell_type": "markdown",
   "id": "3c4f5ea0-94bc-4176-9f17-5007770e867c",
   "metadata": {},
   "source": [
    "Note that `df` is a pandas dataframe."
   ]
  },
  {
   "cell_type": "code",
   "execution_count": null,
   "id": "958e4690-be97-48bd-b6f4-ada64ddfb30d",
   "metadata": {},
   "outputs": [],
   "source": [
    "# df"
   ]
  },
  {
   "cell_type": "code",
   "execution_count": null,
   "id": "ffe47f38-1f31-45c3-8e35-8ff2cc87b8d4",
   "metadata": {},
   "outputs": [],
   "source": [
    "# help(df)"
   ]
  },
  {
   "cell_type": "markdown",
   "id": "e3ac7270-6376-4e42-a4d3-25f65fb7eb0f",
   "metadata": {
    "execution": {
     "iopub.execute_input": "2024-07-30T22:07:32.311641Z",
     "iopub.status.busy": "2024-07-30T22:07:32.311390Z",
     "iopub.status.idle": "2024-07-30T22:07:32.317213Z",
     "shell.execute_reply": "2024-07-30T22:07:32.316366Z",
     "shell.execute_reply.started": "2024-07-30T22:07:32.311626Z"
    }
   },
   "source": [
    "Use the `scatter_3d` method."
   ]
  },
  {
   "cell_type": "code",
   "execution_count": null,
   "id": "6f02906a-5e1b-402c-a211-5323f1feba4f",
   "metadata": {},
   "outputs": [],
   "source": [
    "# help(px.scatter_3d)"
   ]
  },
  {
   "cell_type": "code",
   "execution_count": null,
   "id": "b55a64a1-e076-4fa3-9842-210bdc27de1b",
   "metadata": {},
   "outputs": [],
   "source": [
    "fig = px.scatter_3d(df, x='sepal_length', y='sepal_width', z='petal_width',\n",
    "              color='species')\n",
    "fig.show()"
   ]
  },
  {
   "cell_type": "markdown",
   "id": "7384857a-6fb5-4c79-9609-bb74df61672b",
   "metadata": {},
   "source": [
    "### Surface plots\n",
    "\n",
    "From [plotly.com/python/3d-surface-plots/](https://plotly.com/python/3d-surface-plots/)."
   ]
  },
  {
   "cell_type": "code",
   "execution_count": null,
   "id": "31ecd95f-5ce7-4a0c-91e7-8772ed2b93db",
   "metadata": {},
   "outputs": [],
   "source": [
    "z_data = pd.read_csv('https://raw.githubusercontent.com/plotly/datasets/master/api_docs/mt_bruno_elevation.csv')\n",
    "fig = go.Figure(data=[go.Surface(z=z_data.values)])\n",
    "fig.update_layout(title='Mt Bruno Elevation', autosize=False,\n",
    "                  width=500, height=500,\n",
    "                  margin=dict(l=65, r=50, b=65, t=90))\n",
    "fig.show()"
   ]
  },
  {
   "cell_type": "code",
   "execution_count": null,
   "id": "29aab927-a352-4eea-9e76-f650806df8a5",
   "metadata": {},
   "outputs": [],
   "source": [
    "z_data = pd.read_csv('https://raw.githubusercontent.com/plotly/datasets/master/api_docs/mt_bruno_elevation.csv')\n",
    "z = z_data.values\n",
    "sh_0, sh_1 = z.shape\n",
    "x, y = np.linspace(0, 1, sh_0), np.linspace(0, 1, sh_1)\n",
    "fig = go.Figure(data=[go.Surface(z=z, x=x, y=y)])\n",
    "fig.update_layout(title='Mt Bruno Elevation', autosize=False,\n",
    "                  width=500, height=500,\n",
    "                  margin=dict(l=65, r=50, b=65, t=90))\n",
    "fig.show()"
   ]
  },
  {
   "cell_type": "code",
   "execution_count": null,
   "id": "12bae1c8-a1a5-48ca-b15e-0e8b73c15acc",
   "metadata": {},
   "outputs": [],
   "source": [
    "# x"
   ]
  },
  {
   "cell_type": "code",
   "execution_count": null,
   "id": "b2d8bdaa-8ec7-49fa-b749-7387d6969be3",
   "metadata": {},
   "outputs": [],
   "source": [
    "# y"
   ]
  },
  {
   "cell_type": "code",
   "execution_count": null,
   "id": "1940cd6c-128b-48e3-bd79-67e3a9e96724",
   "metadata": {},
   "outputs": [],
   "source": [
    "# z"
   ]
  },
  {
   "cell_type": "code",
   "execution_count": null,
   "id": "6c7ad1d1-a3dd-49b6-bf83-509b2eca67f3",
   "metadata": {},
   "outputs": [],
   "source": [
    "del z_data, z, x, y, sh_0, sh_1"
   ]
  },
  {
   "cell_type": "markdown",
   "id": "bc423665-657e-4197-bbfd-20e732f430f9",
   "metadata": {},
   "source": [
    "## DP0.2 Object catalog demos\n",
    "\n",
    "Start TAP service."
   ]
  },
  {
   "cell_type": "code",
   "execution_count": null,
   "id": "b2ca7545-9739-4ca1-8ecf-6470ced3aff6",
   "metadata": {},
   "outputs": [],
   "source": [
    "service = get_tap_service(\"tap\")"
   ]
  },
  {
   "cell_type": "markdown",
   "id": "d9164b4d-4291-4c0e-9541-dfd084d2ae74",
   "metadata": {},
   "source": [
    "Retrieve 10000 `Object`s with $griz$ apparent magnitudes brighter than 25th mag."
   ]
  },
  {
   "cell_type": "code",
   "execution_count": null,
   "id": "ac48522e-a985-484c-b952-b07bf53b23de",
   "metadata": {},
   "outputs": [],
   "source": [
    "query = \"\"\"SELECT TOP 10000 \n",
    "        coord_ra, coord_dec, \n",
    "        scisql_nanojanskyToAbMag(g_cModelFlux) as gmag, \n",
    "        scisql_nanojanskyToAbMag(r_cModelFlux) as rmag, \n",
    "        scisql_nanojanskyToAbMag(i_cModelFlux) as imag, \n",
    "        scisql_nanojanskyToAbMag(z_cModelFlux) as zmag, \n",
    "        refExtendedness, footprintArea \n",
    "        FROM dp02_dc2_catalogs.Object \n",
    "        WHERE CONTAINS(POINT('ICRS', coord_ra, coord_dec), \n",
    "        CIRCLE('ICRS', 62, -37, 1.0)) = 1 \n",
    "        AND detect_isPrimary = 1 \n",
    "        AND g_cModelFlux > 360 \n",
    "        AND r_cModelFlux > 360 \n",
    "        AND i_cModelFlux > 360 \n",
    "        AND z_cModelFlux > 360\"\"\"\n",
    "print(query)"
   ]
  },
  {
   "cell_type": "code",
   "execution_count": null,
   "id": "cc6838a3-eaff-4611-a01a-5f9ccdd3df4c",
   "metadata": {},
   "outputs": [],
   "source": [
    "job = service.submit_job(query)\n",
    "job.run()\n",
    "job.wait(phases=['COMPLETED', 'ERROR'])\n",
    "print('Job phase is', job.phase)"
   ]
  },
  {
   "cell_type": "code",
   "execution_count": null,
   "id": "d9a8ae74-2806-4e1d-aa6b-19cc801f986a",
   "metadata": {},
   "outputs": [],
   "source": [
    "# job.raise_if_error()"
   ]
  },
  {
   "cell_type": "code",
   "execution_count": null,
   "id": "7ab83980-9530-44e4-8c35-1da3ef56d8ec",
   "metadata": {},
   "outputs": [],
   "source": [
    "results = job.fetch_result().to_table().to_pandas()"
   ]
  },
  {
   "cell_type": "code",
   "execution_count": null,
   "id": "8a4c6566-9467-41db-8122-e9b41d82127c",
   "metadata": {},
   "outputs": [],
   "source": [
    "results['grc'] = results['gmag'] - results['rmag']\n",
    "results['ric'] = results['rmag'] - results['imag']\n",
    "results['izc'] = results['imag'] - results['zmag']"
   ]
  },
  {
   "cell_type": "markdown",
   "id": "83b6dee0-537d-4503-ba44-3b19369036d1",
   "metadata": {},
   "source": [
    "Investigate the data values.\n",
    "\n",
    "Recall that:\n",
    " * footprintArea is the number of pixels associated with the `Object`\n",
    " * extendedness is 0 is no, not extended (point-like); 1 is yes, extended (not point-like)\n",
    " * all point-like objects will also have the smallest `footprintArea`"
   ]
  },
  {
   "cell_type": "code",
   "execution_count": null,
   "id": "b75b9522-b1dd-4aec-90a3-4dac72525db6",
   "metadata": {},
   "outputs": [],
   "source": [
    "print('gmag ', np.min(results['gmag']), np.max(results['gmag']))\n",
    "print('rmag ', np.min(results['rmag']), np.max(results['rmag']))\n",
    "print('imag ', np.min(results['imag']), np.max(results['imag']))\n",
    "print('zmag ', np.min(results['zmag']), np.max(results['zmag']))\n",
    "print('grc  ', np.min(results['grc']), np.max(results['grc']))\n",
    "print('ric  ', np.min(results['ric']), np.max(results['ric']))\n",
    "print('izc  ', np.min(results['izc']), np.max(results['izc']))\n",
    "print('area ', np.min(results['footprintArea']), np.max(results['footprintArea']))\n",
    "\n",
    "tx0 = np.where(results['refExtendedness'] == 0)[0]\n",
    "tx1 = np.where(results['refExtendedness'] == 1)[0]\n",
    "print('refExtendedness: N(0)='+str(len(tx0))+'  N(1)='+str(len(tx1)))\n",
    "del tx0, tx1"
   ]
  },
  {
   "cell_type": "markdown",
   "id": "87bb843d-b197-4867-aaa1-80bd8bbffab9",
   "metadata": {},
   "source": [
    "### Magnitude-space\n",
    "\n",
    "With points colored by $g-r$ color."
   ]
  },
  {
   "cell_type": "code",
   "execution_count": null,
   "id": "bc7cc7cd-9275-4fc8-9164-1f1cb572cd01",
   "metadata": {},
   "outputs": [],
   "source": [
    "fig = px.scatter_3d(results, x='gmag', y='rmag', z='imag',\n",
    "                    color='grc')\n",
    "fig.show()"
   ]
  },
  {
   "cell_type": "markdown",
   "id": "41bb2ee1-782f-4e7f-a0b6-e205fd5a2e77",
   "metadata": {},
   "source": [
    "### Color-space\n",
    "\n",
    "With points colored by $i$-band magnitude, and the symbol representing `refExtendedness`."
   ]
  },
  {
   "cell_type": "code",
   "execution_count": null,
   "id": "f5ab05ea-4059-438f-9e94-8e98d9d1328d",
   "metadata": {},
   "outputs": [],
   "source": [
    "fig = px.scatter_3d(results, x='grc', y='ric', z='izc',\n",
    "                    color='imag', symbol='refExtendedness', opacity=0.7)\n",
    "\n",
    "fig.update_layout(margin=dict(l=0, r=0, b=0, t=0))\n",
    "\n",
    "fig.update_layout(coloraxis_colorbar=dict(yanchor=\"top\", y=1, x=0,\n",
    "                                          ticks=\"outside\",\n",
    "                                          ticksuffix=\" mag\"))\n",
    "\n",
    "fig.show()"
   ]
  },
  {
   "cell_type": "markdown",
   "id": "89919800-8cee-4916-b4f7-8ee686adb7ca",
   "metadata": {},
   "source": [
    "As above, but make the size of the point related to footprintArea.\n",
    "\n",
    "Since the point sources with extendedness of 0 all have the smallest footprint areas,\n",
    "the fact that they're plotted with a diamond symbol is not really visible in the plot below."
   ]
  },
  {
   "cell_type": "code",
   "execution_count": null,
   "id": "625e66df-b9e1-4665-a6ed-b46e2f2bd16e",
   "metadata": {},
   "outputs": [],
   "source": [
    "fig = px.scatter_3d(results, x='grc', y='ric', z='izc',\n",
    "              color='imag', size='footprintArea', size_max=22,\n",
    "              symbol='refExtendedness', opacity=0.7)\n",
    "\n",
    "fig.update_layout(margin=dict(l=0, r=0, b=0, t=0))\n",
    "\n",
    "fig.update_layout(coloraxis_colorbar=dict(yanchor=\"top\", y=1, x=0,\n",
    "                                          ticks=\"outside\",\n",
    "                                          ticksuffix=\" mag\"))\n",
    "fig.show()"
   ]
  },
  {
   "cell_type": "code",
   "execution_count": null,
   "id": "532c6222-64ec-4ad3-92d7-3546a7e3982d",
   "metadata": {},
   "outputs": [],
   "source": [
    "del service, query, job, results"
   ]
  },
  {
   "cell_type": "markdown",
   "id": "954497c1-59ec-4523-805d-d9fac460c5f2",
   "metadata": {},
   "source": [
    "## DP0.2 survey propert map demo\n",
    "\n",
    "See the DP0.2 tutorial notebook on survey property maps.\n",
    "\n",
    "Instantiate the butler."
   ]
  },
  {
   "cell_type": "code",
   "execution_count": null,
   "id": "69de7c9c-a956-4fbe-92c4-352cc74283dc",
   "metadata": {},
   "outputs": [],
   "source": [
    "butler = Butler('dp02', collections='2.2i/runs/DP0.2')"
   ]
  },
  {
   "cell_type": "markdown",
   "id": "90e5d205-ce15-4c1a-8e0d-a8474e9ef27f",
   "metadata": {},
   "source": [
    "Get the map for magnitude limits."
   ]
  },
  {
   "cell_type": "code",
   "execution_count": null,
   "id": "96a80e45-1dcb-49b7-9caf-eaff02c7a75e",
   "metadata": {},
   "outputs": [],
   "source": [
    "hspmap = butler.get('deepCoadd_psf_maglim_consolidated_map_weighted_mean', band='i')"
   ]
  },
  {
   "cell_type": "markdown",
   "id": "f9a43ba2-ab23-4e57-9fbe-82b3a30ca5e3",
   "metadata": {},
   "source": [
    "Extract 250 x 250 points from the map for a contrained region of sky."
   ]
  },
  {
   "cell_type": "code",
   "execution_count": null,
   "id": "9709be1d-d8e3-49d0-a4e9-d6fa2e208076",
   "metadata": {},
   "outputs": [],
   "source": [
    "ra = np.linspace(59.5, 60.5, 250)\n",
    "dec = np.linspace(-37.5, -36.5, 250)\n",
    "x, y = np.meshgrid(ra, dec)\n",
    "values = hspmap.get_values_pos(x, y)"
   ]
  },
  {
   "cell_type": "markdown",
   "id": "0d4e1e92-05c7-4348-8de4-06d44941dc7c",
   "metadata": {},
   "source": [
    "Reformat for `go`."
   ]
  },
  {
   "cell_type": "code",
   "execution_count": null,
   "id": "53638549-753d-4285-acd8-f2857e92d27d",
   "metadata": {},
   "outputs": [],
   "source": [
    "x_array = np.asarray(x[0][:], dtype='float')\n",
    "tmpy = y.transpose()\n",
    "y_array = np.asarray(tmpy[0][:])\n",
    "del tmpy"
   ]
  },
  {
   "cell_type": "markdown",
   "id": "e08e4288-e933-4d2b-b52e-33829df13d85",
   "metadata": {
    "execution": {
     "iopub.execute_input": "2024-07-30T23:32:23.011118Z",
     "iopub.status.busy": "2024-07-30T23:32:23.010565Z",
     "iopub.status.idle": "2024-07-30T23:32:23.013209Z",
     "shell.execute_reply": "2024-07-30T23:32:23.012816Z",
     "shell.execute_reply.started": "2024-07-30T23:32:23.011102Z"
    }
   },
   "source": [
    "To explore the format, uncomment any line and execute."
   ]
  },
  {
   "cell_type": "code",
   "execution_count": null,
   "id": "f8c54d3d-73a8-4594-85c2-ed65ad095df3",
   "metadata": {},
   "outputs": [],
   "source": [
    "# x\n",
    "# y\n",
    "# x_array\n",
    "# y_array"
   ]
  },
  {
   "cell_type": "markdown",
   "id": "bead8b7c-db51-47be-9747-48fdfb04fb4c",
   "metadata": {},
   "source": [
    "Plot the $i$-band magnitude limit as a surface map."
   ]
  },
  {
   "cell_type": "code",
   "execution_count": null,
   "id": "39ad8593-a565-4623-8c03-5e6023884ca2",
   "metadata": {},
   "outputs": [],
   "source": [
    "fig = go.Figure(data=[go.Surface(z=values, x=x_array, y=y_array)])\n",
    "\n",
    "fig.update_layout(title='i-band magnitude limit map', autosize=False,\n",
    "                  width=750, height=600)\n",
    "\n",
    "fig.show()"
   ]
  },
  {
   "cell_type": "code",
   "execution_count": null,
   "id": "e0718da1-282d-42c2-bcec-cc241c43d0f2",
   "metadata": {},
   "outputs": [],
   "source": [
    "del butler, hspmap, ra, dec, x, y, values, x_array, y_array"
   ]
  },
  {
   "cell_type": "code",
   "execution_count": null,
   "id": "6f4b167e-28d0-406b-b1d2-e6e1dae56ba6",
   "metadata": {},
   "outputs": [],
   "source": []
  }
 ],
 "metadata": {
  "kernelspec": {
   "display_name": "LSST",
   "language": "python",
   "name": "lsst"
  },
  "language_info": {
   "codemirror_mode": {
    "name": "ipython",
    "version": 3
   },
   "file_extension": ".py",
   "mimetype": "text/x-python",
   "name": "python",
   "nbconvert_exporter": "python",
   "pygments_lexer": "ipython3",
   "version": "3.11.7"
  }
 },
 "nbformat": 4,
 "nbformat_minor": 5
}
