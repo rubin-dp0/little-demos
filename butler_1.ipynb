{
 "cells": [
  {
   "cell_type": "markdown",
   "id": "749b0ddf",
   "metadata": {},
   "source": [
    "<img align=\"left\" src = https://project.lsst.org/sites/default/files/Rubin-O-Logo_0.png width=170 style=\"padding: 10px\"> \n",
    "<b>Little Demo: Butler 1</b> <br>\n",
    "Contact author(s): Melissa Graham <br>\n",
    "Last verified to run: 2024-06-27 <br>\n",
    "LSST Science Pipelines version: Weekly 2024_16 <br>\n",
    "Container Size: medium"
   ]
  },
  {
   "cell_type": "markdown",
   "id": "6613a190-029b-409b-97d7-1860f20d108b",
   "metadata": {},
   "source": [
    "The `butler` is powerful middleware to query and retrieve LSST data.\n",
    "\n",
    "This little demo shows how, with user-specified RA, Dec, date-time, and filter, an image and its sources can be retrieved from the `butler` and displayed.\n",
    "\n",
    "For more detailed `butler` tutorials, see <a href=\"https://github.com/rubin-dp0/tutorial-notebooks\">tutorial notebooks</a> 04a and 04b.\n",
    "\n",
    "## 1. Set up\n",
    "\n",
    "Import packages."
   ]
  },
  {
   "cell_type": "code",
   "execution_count": null,
   "id": "7acc79a4-8530-42d9-96e5-b7acb4397864",
   "metadata": {
    "tags": []
   },
   "outputs": [],
   "source": [
    "import matplotlib.pyplot as plt\n",
    "import astropy.time\n",
    "import numpy as np\n",
    "\n",
    "import lsst.daf.butler as dafButler\n",
    "import lsst.afw.display as afwDisplay\n",
    "import lsst.sphgeom"
   ]
  },
  {
   "cell_type": "markdown",
   "id": "0a22f185-9f8c-466d-bf62-1fb5f425a9a1",
   "metadata": {},
   "source": [
    "Instantiate the `butler` and the butler `registry`."
   ]
  },
  {
   "cell_type": "code",
   "execution_count": null,
   "id": "1d5e324b-b6b5-4a74-8e1c-7c1af25afe63",
   "metadata": {
    "tags": []
   },
   "outputs": [],
   "source": [
    "butler = dafButler.Butler('dp02', collections='2.2i/runs/DP0.2')\n",
    "registry = butler.registry"
   ]
  },
  {
   "cell_type": "markdown",
   "id": "d2a71fda-9dc5-4b1a-9f69-3f7350475787",
   "metadata": {},
   "source": [
    "Set the default backend to `matplotlib` and allow images to be displayed in the notebook."
   ]
  },
  {
   "cell_type": "code",
   "execution_count": null,
   "id": "04f09abe-95fe-4a14-94a9-51b5b5da886b",
   "metadata": {},
   "outputs": [],
   "source": [
    "afwDisplay.setDefaultBackend('matplotlib')\n",
    "%matplotlib inline"
   ]
  },
  {
   "cell_type": "markdown",
   "id": "ec1a8ee2-3f7f-4411-80c9-a3ea19dce474",
   "metadata": {},
   "source": [
    "## 2. Define search parameters\n",
    "\n",
    "User-defined temporal, spatial, and filter search parameters."
   ]
  },
  {
   "cell_type": "code",
   "execution_count": null,
   "id": "d276a2fc-0416-4408-9f67-1fc23f3fdeda",
   "metadata": {
    "tags": []
   },
   "outputs": [],
   "source": [
    "my_ra = 53.60\n",
    "my_dec = -32.70\n",
    "my_utctime = \"2022-09-15T09:07:20.1\"\n",
    "my_filter = \"i\""
   ]
  },
  {
   "cell_type": "markdown",
   "id": "d47cd5a0-3ded-4c70-b7e2-e27ae04a156e",
   "metadata": {},
   "source": [
    "Define temporal search parameter (`my_timespan`)."
   ]
  },
  {
   "cell_type": "code",
   "execution_count": null,
   "id": "93ea1c75-850e-4959-b457-81e2ada86c7e",
   "metadata": {
    "tags": []
   },
   "outputs": [],
   "source": [
    "my_datetime = astropy.time.Time(my_utctime, format='isot', scale='utc')\n",
    "delta_t = astropy.time.TimeDelta(3600, format=\"sec\")\n",
    "my_timespan = dafButler.Timespan(my_datetime - delta_t, my_datetime + delta_t)"
   ]
  },
  {
   "cell_type": "markdown",
   "id": "8508490b-4502-4672-b721-12cc5cbf28a3",
   "metadata": {},
   "source": [
    "Define spatial search parameter (`htm_id`)."
   ]
  },
  {
   "cell_type": "code",
   "execution_count": null,
   "id": "959ff4d2-e218-4046-8382-e6c591de6cad",
   "metadata": {
    "tags": []
   },
   "outputs": [],
   "source": [
    "htm_level=12\n",
    "pixelization = lsst.sphgeom.HtmPixelization(htm_level)\n",
    "htm_id = pixelization.index(lsst.sphgeom.UnitVector3d(\n",
    "    lsst.sphgeom.LonLat.fromDegrees(my_ra, my_dec)))"
   ]
  },
  {
   "cell_type": "markdown",
   "id": "7dbe3fb7-8fbc-44c5-a2fa-de5e3a436303",
   "metadata": {},
   "source": [
    "Determine radius of the spatial search."
   ]
  },
  {
   "cell_type": "code",
   "execution_count": null,
   "id": "1214d69f-a96d-4040-8fbd-3c66a64703f3",
   "metadata": {
    "tags": []
   },
   "outputs": [],
   "source": [
    "circle = pixelization.triangle(htm_id).getBoundingCircle()\n",
    "scale = circle.getOpeningAngle().asDegrees()*3600.\n",
    "print(f'HTM level {htm_level} corresponds to a search radius of ~{scale:0.2f} arcsec.')"
   ]
  },
  {
   "cell_type": "markdown",
   "id": "7f112cc8-671b-48fa-b94d-844bb1120924",
   "metadata": {
    "execution": {
     "iopub.execute_input": "2023-02-17T23:44:40.149010Z",
     "iopub.status.busy": "2023-02-17T23:44:40.148125Z",
     "iopub.status.idle": "2023-02-17T23:44:40.153898Z",
     "shell.execute_reply": "2023-02-17T23:44:40.153122Z",
     "shell.execute_reply.started": "2023-02-17T23:44:40.148981Z"
    }
   },
   "source": [
    "## 3. Butler data query\n",
    "\n",
    "Use the search parameters above to query the butler registry for images at that location in that time span."
   ]
  },
  {
   "cell_type": "code",
   "execution_count": null,
   "id": "38712bfe-2039-457b-8696-86da23c099ef",
   "metadata": {
    "tags": []
   },
   "outputs": [],
   "source": [
    "datasetRefs = registry.queryDatasets(\"calexp\", htm20=htm_id,\n",
    "                                     where=\"visit.timespan OVERLAPS my_timespan \"\\\n",
    "                                     \"AND band = '\"+my_filter+\"'\",\n",
    "                                     bind={\"my_timespan\": my_timespan})"
   ]
  },
  {
   "cell_type": "markdown",
   "id": "d47767eb-5801-47c0-bb36-36b345ec8498",
   "metadata": {},
   "source": [
    "List the matching `calexp`s (a `calexp` is a processed visit image)."
   ]
  },
  {
   "cell_type": "code",
   "execution_count": null,
   "id": "17889c0c-74cf-42c1-b4c8-98f452554354",
   "metadata": {
    "tags": []
   },
   "outputs": [],
   "source": [
    "for i, ref in enumerate(datasetRefs):\n",
    "    visitInfo = butler.get('calexp.visitInfo', dataId=ref.dataId)\n",
    "    print(ref.dataId['visit'], ref.dataId['detector'], ref.dataId['band'], \n",
    "          visitInfo.date)"
   ]
  },
  {
   "cell_type": "markdown",
   "id": "1d7495bb-b333-4038-a2ef-2f705c4cefeb",
   "metadata": {},
   "source": [
    "Choose one of the above to define the `dataId`."
   ]
  },
  {
   "cell_type": "code",
   "execution_count": null,
   "id": "cdbb5c75-3ffc-425d-b5d5-4a54ed125518",
   "metadata": {
    "tags": []
   },
   "outputs": [],
   "source": [
    "my_dataId = {'visit': 192347, 'detector': 68}"
   ]
  },
  {
   "cell_type": "markdown",
   "id": "3f192564-e472-492d-a246-c8314ebb5e86",
   "metadata": {},
   "source": [
    "Retrieve the `calexp` and its `sources`.\n",
    "\n",
    "The preferred method to retrieve catalog data is the TAP service, but the butler is convenient for retrieving all sources in a given image."
   ]
  },
  {
   "cell_type": "code",
   "execution_count": null,
   "id": "2b1a7e56-333b-45d4-90ee-1accb6d4e569",
   "metadata": {},
   "outputs": [],
   "source": [
    "my_calexp = butler.get('calexp', dataId=my_dataId)\n",
    "my_sources = butler.get('src', dataId=my_dataId).asAstropy()"
   ]
  },
  {
   "cell_type": "markdown",
   "id": "69ed9085-fe17-4e79-bef3-bd7c34f586f5",
   "metadata": {},
   "source": [
    "Option to display the `my_sources` table."
   ]
  },
  {
   "cell_type": "code",
   "execution_count": null,
   "id": "f12587a5-a959-40c1-9948-2e436cba01d5",
   "metadata": {
    "tags": []
   },
   "outputs": [],
   "source": [
    "# my_sources"
   ]
  },
  {
   "cell_type": "markdown",
   "id": "d85b60b8-fe12-4d89-aa2f-47340f3dfc47",
   "metadata": {},
   "source": [
    "## 4. Plot image with sources\n",
    "\n",
    "Plot image with sources marked."
   ]
  },
  {
   "cell_type": "code",
   "execution_count": null,
   "id": "8d209325-262f-46bc-9174-89a000e8b3d2",
   "metadata": {
    "tags": []
   },
   "outputs": [],
   "source": [
    "fig = plt.figure()\n",
    "display = afwDisplay.Display(frame=fig)\n",
    "display.scale('linear', 'zscale')\n",
    "display.mtv(my_calexp.image)\n",
    "\n",
    "with display.Buffering():\n",
    "    for i in range(len(my_sources)):\n",
    "        if np.isfinite(my_sources['deblend_psfCenter_x'][i]) \\\n",
    "        & np.isfinite(my_sources['deblend_psfCenter_y'][i]):\n",
    "            display.dot('o', my_sources['deblend_psfCenter_x'][i], \n",
    "                        my_sources['deblend_psfCenter_y'][i], \n",
    "                        size=40, ctype='orange')\n",
    "        \n",
    "plt.show()"
   ]
  },
  {
   "cell_type": "markdown",
   "id": "f6555a64-be1e-4f02-a63e-f9acd288b943",
   "metadata": {},
   "source": [
    "In the above image, some circles appear duplicated and empty.\n",
    "\n",
    "This is, in part, because no restrictions on columns which, e.g., flag duplicate detections, have been applied to the sources.\n",
    "\n",
    "## 5. View methods and metadata\n",
    "\n",
    "Option to print all methods available for a `calexp`."
   ]
  },
  {
   "cell_type": "code",
   "execution_count": null,
   "id": "ddec4b36-0a4b-4108-b57b-2faa9cabe5e7",
   "metadata": {},
   "outputs": [],
   "source": [
    "# for method in dir(my_calexp):\n",
    "#     if method[0:1] != '_':\n",
    "#         print(method)"
   ]
  },
  {
   "cell_type": "markdown",
   "id": "4c7e68bf-6f84-467e-9431-54707126c25e",
   "metadata": {},
   "source": [
    "A few examples of available metadata are provided.\n",
    "\n",
    "Get the bounding box information (`bbox`), and the center pixels of the `calexp`."
   ]
  },
  {
   "cell_type": "code",
   "execution_count": null,
   "id": "f7c660a2-660d-4e3a-bafe-0806614018c8",
   "metadata": {},
   "outputs": [],
   "source": [
    "bbox = my_calexp.getBBox()\n",
    "print(bbox.centerX, bbox.centerY)"
   ]
  },
  {
   "cell_type": "markdown",
   "id": "4651a18e-dc8e-4a6e-a565-de78274c2689",
   "metadata": {},
   "source": [
    "Get the world coordinate system (`wcs`) for the `calexp` and convert its center pixels to sky coordinates."
   ]
  },
  {
   "cell_type": "code",
   "execution_count": null,
   "id": "b2dba72c-8902-460d-8917-c042bb63f5c6",
   "metadata": {},
   "outputs": [],
   "source": [
    "wcs = my_calexp.getWcs()\n",
    "center_coord = wcs.pixelToSky(bbox.centerX, bbox.centerY)\n",
    "print(center_coord)"
   ]
  },
  {
   "cell_type": "markdown",
   "id": "7f98f395-6029-4144-9f18-55037f51209b",
   "metadata": {},
   "source": [
    "Get the weather information for the visit in which this `calexp` was obtained, and print the humidity at the time."
   ]
  },
  {
   "cell_type": "code",
   "execution_count": null,
   "id": "cbd955cb-120b-482e-9bfa-63f80d867a16",
   "metadata": {},
   "outputs": [],
   "source": [
    "info = my_calexp.getInfo()\n",
    "visit_info = info.getVisitInfo()\n",
    "weather = visit_info.getWeather()\n",
    "print(weather.getHumidity())"
   ]
  },
  {
   "cell_type": "markdown",
   "id": "b4e1be89-1158-4cf8-a40f-4c3e811f8631",
   "metadata": {
    "execution": {
     "iopub.execute_input": "2024-06-27T17:13:45.614253Z",
     "iopub.status.busy": "2024-06-27T17:13:45.614030Z",
     "iopub.status.idle": "2024-06-27T17:13:45.617002Z",
     "shell.execute_reply": "2024-06-27T17:13:45.616552Z",
     "shell.execute_reply.started": "2024-06-27T17:13:45.614239Z"
    }
   },
   "source": [
    "To further explore methods, use `dir` as demonstrated above.\n",
    "\n",
    "For example, the option to print all methods available for the `bbox`."
   ]
  },
  {
   "cell_type": "code",
   "execution_count": null,
   "id": "e210e124-b544-4062-b684-6e3d52a1beb5",
   "metadata": {},
   "outputs": [],
   "source": [
    "# for method in dir(bbox):\n",
    "#     if method[0:1] != '_':\n",
    "#         print(method)"
   ]
  },
  {
   "cell_type": "code",
   "execution_count": null,
   "id": "ebd5554a-a04d-4772-81fa-8de93fb94b72",
   "metadata": {},
   "outputs": [],
   "source": []
  }
 ],
 "metadata": {
  "kernelspec": {
   "display_name": "LSST",
   "language": "python",
   "name": "lsst"
  },
  "language_info": {
   "codemirror_mode": {
    "name": "ipython",
    "version": 3
   },
   "file_extension": ".py",
   "mimetype": "text/x-python",
   "name": "python",
   "nbconvert_exporter": "python",
   "pygments_lexer": "ipython3",
   "version": "3.11.7"
  },
  "toc-autonumbering": false
 },
 "nbformat": 4,
 "nbformat_minor": 5
}
