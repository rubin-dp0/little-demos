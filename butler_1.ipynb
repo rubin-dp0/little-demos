{
 "cells": [
  {
   "cell_type": "markdown",
   "id": "749b0ddf",
   "metadata": {},
   "source": [
    "<img align=\"left\" src = https://project.lsst.org/sites/default/files/Rubin-O-Logo_0.png width=170 style=\"padding: 10px\"> \n",
    "<b>Little Demo: butler</b> <br>\n",
    "Contact author(s): Melissa Graham <br>\n",
    "Last verified to run: 2023-02-17 <br>\n",
    "LSST Science Pipelines version: Weekly 2023_07 <br>\n",
    "Container Size: medium"
   ]
  },
  {
   "cell_type": "markdown",
   "id": "6613a190-029b-409b-97d7-1860f20d108b",
   "metadata": {},
   "source": [
    "The `butler` is powerful middleware to query and retrieve LSST data.\n",
    "\n",
    "This little demo shows how with user-specified RA, Dec, date-time, and filter, an image and its sources can be retrieved from the `butler` and displayed.\n",
    "\n",
    "For a more detailed `butler` tutorial, see <a href=\"https://github.com/rubin-dp0/tutorial-notebooks\">tutorial notebooks</a> 04a and 04b.\n",
    "\n",
    "## 1. Set up\n",
    "\n",
    "Import packages."
   ]
  },
  {
   "cell_type": "code",
   "execution_count": null,
   "id": "7acc79a4-8530-42d9-96e5-b7acb4397864",
   "metadata": {
    "tags": []
   },
   "outputs": [],
   "source": [
    "import matplotlib.pyplot as plt\n",
    "import astropy.time\n",
    "import numpy as np\n",
    "\n",
    "import lsst.daf.butler as dafButler\n",
    "import lsst.afw.display as afwDisplay\n",
    "import lsst.sphgeom"
   ]
  },
  {
   "cell_type": "markdown",
   "id": "0a22f185-9f8c-466d-bf62-1fb5f425a9a1",
   "metadata": {},
   "source": [
    "Instantiate the `butler` and the butler `registry`."
   ]
  },
  {
   "cell_type": "code",
   "execution_count": null,
   "id": "1d5e324b-b6b5-4a74-8e1c-7c1af25afe63",
   "metadata": {
    "tags": []
   },
   "outputs": [],
   "source": [
    "butler = dafButler.Butler('dp02', collections='2.2i/runs/DP0.2')\n",
    "registry = butler.registry"
   ]
  },
  {
   "cell_type": "markdown",
   "id": "d2a71fda-9dc5-4b1a-9f69-3f7350475787",
   "metadata": {},
   "source": [
    "Set the default backend to `matplotlib` and allow images to be displayed in the notebook."
   ]
  },
  {
   "cell_type": "code",
   "execution_count": null,
   "id": "04f09abe-95fe-4a14-94a9-51b5b5da886b",
   "metadata": {},
   "outputs": [],
   "source": [
    "afwDisplay.setDefaultBackend('matplotlib')\n",
    "%matplotlib inline"
   ]
  },
  {
   "cell_type": "markdown",
   "id": "ec1a8ee2-3f7f-4411-80c9-a3ea19dce474",
   "metadata": {},
   "source": [
    "## 2. Define search parameters\n",
    "\n",
    "User-defined temporal, spatial, and filter search parameters."
   ]
  },
  {
   "cell_type": "code",
   "execution_count": null,
   "id": "d276a2fc-0416-4408-9f67-1fc23f3fdeda",
   "metadata": {
    "tags": []
   },
   "outputs": [],
   "source": [
    "my_ra = 53.60\n",
    "my_dec = -32.70\n",
    "my_utctime = \"2022-09-15T09:07:20.1\"\n",
    "my_filter = \"i\""
   ]
  },
  {
   "cell_type": "markdown",
   "id": "d47cd5a0-3ded-4c70-b7e2-e27ae04a156e",
   "metadata": {},
   "source": [
    "Define temporal search parameter (`my_timespan`)."
   ]
  },
  {
   "cell_type": "code",
   "execution_count": null,
   "id": "93ea1c75-850e-4959-b457-81e2ada86c7e",
   "metadata": {
    "tags": []
   },
   "outputs": [],
   "source": [
    "my_datetime = astropy.time.Time(my_utctime, format='isot', scale='utc')\n",
    "delta_t = astropy.time.TimeDelta(3600, format=\"sec\")\n",
    "my_timespan = dafButler.Timespan(my_datetime - delta_t, my_datetime + delta_t)"
   ]
  },
  {
   "cell_type": "markdown",
   "id": "8508490b-4502-4672-b721-12cc5cbf28a3",
   "metadata": {},
   "source": [
    "Define spatial search parameter (`htm_id`)."
   ]
  },
  {
   "cell_type": "code",
   "execution_count": null,
   "id": "959ff4d2-e218-4046-8382-e6c591de6cad",
   "metadata": {
    "tags": []
   },
   "outputs": [],
   "source": [
    "htm_level=12\n",
    "pixelization = lsst.sphgeom.HtmPixelization(htm_level)\n",
    "htm_id = pixelization.index(lsst.sphgeom.UnitVector3d(\n",
    "    lsst.sphgeom.LonLat.fromDegrees(my_ra, my_dec)))"
   ]
  },
  {
   "cell_type": "code",
   "execution_count": null,
   "id": "1214d69f-a96d-4040-8fbd-3c66a64703f3",
   "metadata": {
    "tags": []
   },
   "outputs": [],
   "source": [
    "circle = pixelization.triangle(htm_id).getBoundingCircle()\n",
    "scale = circle.getOpeningAngle().asDegrees()*3600.\n",
    "print(f'HTM level {htm_level} corresponds to a search radius of ~{scale:0.2f} arcsec.')"
   ]
  },
  {
   "cell_type": "markdown",
   "id": "7f112cc8-671b-48fa-b94d-844bb1120924",
   "metadata": {
    "execution": {
     "iopub.execute_input": "2023-02-17T23:44:40.149010Z",
     "iopub.status.busy": "2023-02-17T23:44:40.148125Z",
     "iopub.status.idle": "2023-02-17T23:44:40.153898Z",
     "shell.execute_reply": "2023-02-17T23:44:40.153122Z",
     "shell.execute_reply.started": "2023-02-17T23:44:40.148981Z"
    }
   },
   "source": [
    "## 3. Butler data query\n",
    "\n",
    "Use the search parameterser above to query the butler registry."
   ]
  },
  {
   "cell_type": "code",
   "execution_count": null,
   "id": "38712bfe-2039-457b-8696-86da23c099ef",
   "metadata": {
    "tags": []
   },
   "outputs": [],
   "source": [
    "datasetRefs = registry.queryDatasets(\"calexp\", htm20=htm_id,\n",
    "                                     where=\"visit.timespan OVERLAPS my_timespan \"\\\n",
    "                                     \"AND band = '\"+my_filter+\"'\",\n",
    "                                     bind={\"my_timespan\": my_timespan})"
   ]
  },
  {
   "cell_type": "markdown",
   "id": "d47767eb-5801-47c0-bb36-36b345ec8498",
   "metadata": {},
   "source": [
    "List the matching `calexp`s (a `calexp` is a processed visit image)."
   ]
  },
  {
   "cell_type": "code",
   "execution_count": null,
   "id": "17889c0c-74cf-42c1-b4c8-98f452554354",
   "metadata": {
    "tags": []
   },
   "outputs": [],
   "source": [
    "for i, ref in enumerate(datasetRefs):\n",
    "    visitInfo = butler.get('calexp.visitInfo', dataId=ref.dataId)\n",
    "    print(ref.dataId['visit'], ref.dataId['detector'], ref.dataId['band'], \n",
    "          visitInfo.date)"
   ]
  },
  {
   "cell_type": "markdown",
   "id": "1d7495bb-b333-4038-a2ef-2f705c4cefeb",
   "metadata": {},
   "source": [
    "Choose one of the above to define the `dataId`."
   ]
  },
  {
   "cell_type": "code",
   "execution_count": null,
   "id": "cdbb5c75-3ffc-425d-b5d5-4a54ed125518",
   "metadata": {
    "tags": []
   },
   "outputs": [],
   "source": [
    "my_dataId = {'visit': 192347, 'detector': 68}"
   ]
  },
  {
   "cell_type": "markdown",
   "id": "3f192564-e472-492d-a246-c8314ebb5e86",
   "metadata": {},
   "source": [
    "Retrieve the `calexp` and its `sources`."
   ]
  },
  {
   "cell_type": "code",
   "execution_count": null,
   "id": "2b1a7e56-333b-45d4-90ee-1accb6d4e569",
   "metadata": {},
   "outputs": [],
   "source": [
    "my_calexp = butler.get('calexp', dataId=my_dataId)\n",
    "my_sources = butler.get('src', dataId=my_dataId).asAstropy()"
   ]
  },
  {
   "cell_type": "markdown",
   "id": "69ed9085-fe17-4e79-bef3-bd7c34f586f5",
   "metadata": {},
   "source": [
    "Option to display the `my_sources` table."
   ]
  },
  {
   "cell_type": "code",
   "execution_count": null,
   "id": "f12587a5-a959-40c1-9948-2e436cba01d5",
   "metadata": {
    "tags": []
   },
   "outputs": [],
   "source": [
    "# my_sources"
   ]
  },
  {
   "cell_type": "markdown",
   "id": "d85b60b8-fe12-4d89-aa2f-47340f3dfc47",
   "metadata": {},
   "source": [
    "## 4. Plot\n",
    "\n",
    "Plot image with sources marked."
   ]
  },
  {
   "cell_type": "code",
   "execution_count": null,
   "id": "8d209325-262f-46bc-9174-89a000e8b3d2",
   "metadata": {
    "tags": []
   },
   "outputs": [],
   "source": [
    "fig = plt.figure()\n",
    "display = afwDisplay.Display(frame=fig)\n",
    "display.scale('linear', 'zscale')\n",
    "display.mtv(my_calexp.image)\n",
    "\n",
    "with display.Buffering():\n",
    "    for i in range(len(my_sources)):\n",
    "        if np.isfinite(my_sources['deblend_psfCenter_x'][i]) \\\n",
    "        & np.isfinite(my_sources['deblend_psfCenter_y'][i]):\n",
    "            display.dot('o', my_sources['deblend_psfCenter_x'][i], \n",
    "                        my_sources['deblend_psfCenter_y'][i], \n",
    "                        size=40, ctype='orange')\n",
    "        \n",
    "plt.show()"
   ]
  },
  {
   "cell_type": "markdown",
   "id": "f6555a64-be1e-4f02-a63e-f9acd288b943",
   "metadata": {},
   "source": [
    "The preferred method to retrieve catalog data is the TAP service, but as demonstrated above the butler can also be used.\n",
    "\n",
    "In the above image, some circles appear duplicated and empty.\n",
    "This is in part because no flags or other restrictions have been applied for this demonstration."
   ]
  },
  {
   "cell_type": "code",
   "execution_count": null,
   "id": "ddec4b36-0a4b-4108-b57b-2faa9cabe5e7",
   "metadata": {},
   "outputs": [],
   "source": []
  }
 ],
 "metadata": {
  "kernelspec": {
   "display_name": "LSST",
   "language": "python",
   "name": "lsst"
  },
  "language_info": {
   "codemirror_mode": {
    "name": "ipython",
    "version": 3
   },
   "file_extension": ".py",
   "mimetype": "text/x-python",
   "name": "python",
   "nbconvert_exporter": "python",
   "pygments_lexer": "ipython3",
   "version": "3.10.9"
  },
  "toc-autonumbering": false
 },
 "nbformat": 4,
 "nbformat_minor": 5
}
