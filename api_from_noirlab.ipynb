{
 "cells": [
  {
   "cell_type": "markdown",
   "id": "565a9a28-2998-4736-94c3-5b236bcddaa3",
   "metadata": {},
   "source": [
    "# API to the RSP from NOIRLab's Astro DataLab\n",
    "\n",
    "**Run this notebook at the NOIRLab Astro DataLab** (https://datalab.noirlab.edu/)."
   ]
  },
  {
   "cell_type": "markdown",
   "id": "76b7cf8d-90fb-4b95-8457-045853740421",
   "metadata": {},
   "source": [
    "<img align=\"left\" src = https://project.lsst.org/sites/default/files/Rubin-O-Logo_0.png width=170 style=\"padding: 10px\"> \n",
    "<br>\n",
    "\n",
    "**Contact authors:** Melissa Graham and Leanne Guy <br>\n",
    "**Last verified:** Thu Nov 30 2023 <br>\n",
    "**Rubin data release:** Data Preview 0.2 (DP0.2) <br>"
   ]
  },
  {
   "cell_type": "markdown",
   "id": "b26d6096-080f-4d9a-a3c5-60f4a7bd4f15",
   "metadata": {},
   "source": [
    "**Description:**\n",
    "This tutorial demonstrates how a broker, or a broker user, working at the NOIRLab Astro DataLab (or other platform or personal computer with PyVO installed) can obtain host galaxy information for candidate supernovae identified in the LSST alert stream.\n",
    "\n",
    "**Credit:** Sections 1 and 2 are based on the <a href=\"https://dp0-2.lsst.io/data-access-analysis-tools/api-intro.html\">Introduction to the RSP API Aspect</a> webpage which had major contributions from Douglas Tucker.\n",
    "\n",
    "**Requirements:** Accounts in the NOIRLab Astro DataLab and the Rubin Science Platform (RSP) at https://data.lsst.cloud/. Only individuals with <a href=\"https://docushare.lsst.org/docushare/dsweb/Get/RDO-013\">Rubin data rights</a> may have an RSP account. See the <a href=\"https://dp0-2.lsst.io/dp0-delegate-resources/index.html#delegate-homepage-getting-started-checklist\">getting started with DP0.2 checklist</a> for instructions about how to request an RSP account."
   ]
  },
  {
   "cell_type": "markdown",
   "id": "45f4d0be-1030-4314-90d9-eb6f53a14854",
   "metadata": {},
   "source": [
    "## 1. Set up RSP token in DataLab\n",
    "\n",
    "Start a JupyterLab session at NOIRLab's Astro DataLab (https://datalab.noirlab.edu/).\n",
    "\n",
    "The instructions in Section 1 only need to be done once in the DataLab \n",
    "(and they also apply to personal computers or other JupyterLab platforms).\n",
    "\n",
    "After completing Section 1 once, any other notebook run in the DataLab\n",
    "can start with the imports and TAP credential code cells in Section 2."
   ]
  },
  {
   "cell_type": "markdown",
   "id": "b370b139-df2a-4ab0-8c7f-57d059206dad",
   "metadata": {},
   "source": [
    "### 1.1. Generate a new RSP token\n",
    "\n",
    "**THE TOKEN IS A PASSWORD.**\n",
    "Keep it secret. Keep it safe.\n",
    "\n",
    "**NEVER DISPLAY THE TOKEN.**\n",
    "Do not even `print(token)` from a code cell. Avoid accidental sharing.\n",
    "\n",
    "**NEVER SAVE THE TOKEN IN A GIT-TRACKED FILE.**\n",
    "Do not let the internet see the token.\n",
    "\n",
    "\n",
    "Follow steps 1 through 5 of <a href=\"https://nb.lsst.io/environment/tokens.html#using-a-token-outside-the-science-platform\">these instructions to obtain a token for an RSP account</a>, which are summarized below.\n",
    " * go to data.lsst.cloud\n",
    " * use the drop-down menu at upper right to log in\n",
    " * select \"Security Tokens\" from the upper-right menu\n",
    " * on the new page, under \"User Tokens\" click \"Create Token\"\n",
    " * in the pop-up panel, enter a name, e.g., \"noirlab-astro-datalab\"\n",
    " * click box to select only \"read:tap\"\n",
    " * under \"Expires\" select \"Never\"\n",
    " * click \"Create\"\n",
    " * the token will be a long string of characters\n",
    " * in the new pop-up panel, copy the token to a safe file\n",
    "\n",
    "Proceed to Section 1.2."
   ]
  },
  {
   "cell_type": "markdown",
   "id": "0878d602-c3c9-4ab8-ae70-2fb7c65f2d6b",
   "metadata": {},
   "source": [
    "### 1.2. Create RSP token file in DataLab\n",
    "\n",
    "Create a hidden file `~/.rsp-tap.token` containing only the token.\n",
    "set chmod 600\n",
    "\n",
    "**Unfamiliar with editing hidden files (dot-files)?**<br>\n",
    "Here is a step-by-step process.\n",
    " * use the left sidebar to navigate to the home directory\n",
    "   * to do this, click the folder icon immediately under the search bar at left\n",
    "   * if there is no left sidebar, go \"View\" --> \"Show Left Sidebar\"\n",
    " * at upper left, click the launcher button (blue square with a + sign)\n",
    " * in the new tab which opens, click \"Text File\" in the bottom row\n",
    " * paste the token into the newly opened text file\n",
    " * at upper left click \"File\" then \"Save As\" and name the file \"temp.txt\"\n",
    " * the file will be visible in the home directory in the left sidebar\n",
    " * again click the launcher button, then select terminal\n",
    " * in the terminal:\n",
    "   * type `cd ~` and hit the return (or enter) key to navigate to the home directory\n",
    "   * type `mv temp.txt .rsp-tap.token` and hit return to rename the file\n",
    "   * type `chmod 600 .rsp-tap.token` and hit return to give read/write permission to user only\n",
    "   * type `ls -lah .rsp-tap.token` and hit return to view the file's <a href=\"https://en.wikipedia.org/wiki/File-system_permissions#Notation_of_traditional_Unix_permissions\">Unix permissions</a>\n",
    "   * confirm the permissions look like: `-rw-------`\n",
    "   * type `more ~/.rsp-tap.token` and hit return to view the token\n",
    " * close the terminal and text edit tabs, they are no longer needed"
   ]
  },
  {
   "cell_type": "markdown",
   "id": "5eeee261-191f-4165-ae61-bb9b3c885389",
   "metadata": {},
   "source": [
    "## 2. Set up RSP TAP service\n",
    "\n",
    "Import <a href=\"https://pyvo.readthedocs.io/en/latest/\">PyVO</a>, getpass, pandas,\n",
    "numpy, and matplotlib.pyplot."
   ]
  },
  {
   "cell_type": "code",
   "execution_count": 1,
   "id": "ef3fc107-5ee9-4ac4-9d70-d62ce79b2b21",
   "metadata": {
    "execution": {
     "iopub.execute_input": "2023-12-01T02:04:29.907737Z",
     "iopub.status.busy": "2023-12-01T02:04:29.907016Z",
     "iopub.status.idle": "2023-12-01T02:04:31.326624Z",
     "shell.execute_reply": "2023-12-01T02:04:31.325705Z",
     "shell.execute_reply.started": "2023-12-01T02:04:29.907682Z"
    },
    "tags": []
   },
   "outputs": [],
   "source": [
    "import pyvo\n",
    "import getpass\n",
    "import pandas\n",
    "import numpy as np\n",
    "import matplotlib.pyplot as plt\n",
    "from astropy.coordinates import SkyCoord"
   ]
  },
  {
   "cell_type": "markdown",
   "id": "6c8361fb-1850-4c3a-9aed-a8879898d9c9",
   "metadata": {},
   "source": [
    "Get the name of the token file."
   ]
  },
  {
   "cell_type": "code",
   "execution_count": 2,
   "id": "d729bb7f-4e9b-42ac-83dc-f75360ceea6e",
   "metadata": {
    "execution": {
     "iopub.execute_input": "2023-12-01T02:04:31.328145Z",
     "iopub.status.busy": "2023-12-01T02:04:31.327718Z",
     "iopub.status.idle": "2023-12-01T02:04:31.331517Z",
     "shell.execute_reply": "2023-12-01T02:04:31.330774Z",
     "shell.execute_reply.started": "2023-12-01T02:04:31.328118Z"
    },
    "tags": []
   },
   "outputs": [],
   "source": [
    "my_username = getpass.getuser()\n",
    "token_filename = '/dlusers/'+my_username+'/.rsp-tap.token'"
   ]
  },
  {
   "cell_type": "markdown",
   "id": "5f4b5f78-9a5f-4cf9-ac9e-d331f3ae26cf",
   "metadata": {},
   "source": [
    "Option to print the username and token file name."
   ]
  },
  {
   "cell_type": "code",
   "execution_count": null,
   "id": "208e4d91-86c0-48bb-b471-b590c050e318",
   "metadata": {
    "tags": []
   },
   "outputs": [],
   "source": [
    "# print(my_username)\n",
    "# print(token_filename)"
   ]
  },
  {
   "cell_type": "markdown",
   "id": "23066f32-364f-477a-8d27-45efaebeff12",
   "metadata": {},
   "source": [
    "Get the token from the token file, and assert that it is not `None`.\n",
    "\n",
    "If the following cell returns a message, then the `token` is `None` and there might be something wrong with the token file.\n",
    "No message means all is OK."
   ]
  },
  {
   "cell_type": "code",
   "execution_count": 3,
   "id": "ad0bd516-4273-4e27-8e85-8467e9d9987c",
   "metadata": {
    "execution": {
     "iopub.execute_input": "2023-12-01T02:04:33.264321Z",
     "iopub.status.busy": "2023-12-01T02:04:33.263641Z",
     "iopub.status.idle": "2023-12-01T02:04:33.270635Z",
     "shell.execute_reply": "2023-12-01T02:04:33.269383Z",
     "shell.execute_reply.started": "2023-12-01T02:04:33.264269Z"
    },
    "tags": []
   },
   "outputs": [],
   "source": [
    "with open(token_filename, 'r') as f:\n",
    "    token = f.readline()\n",
    "assert token is not None"
   ]
  },
  {
   "cell_type": "markdown",
   "id": "cd3f9d6e-a551-4c96-84d4-6eeedf9a8548",
   "metadata": {
    "execution": {
     "iopub.execute_input": "2023-11-30T07:04:39.283792Z",
     "iopub.status.busy": "2023-11-30T07:04:39.282998Z",
     "iopub.status.idle": "2023-11-30T07:04:39.288790Z",
     "shell.execute_reply": "2023-11-30T07:04:39.287355Z",
     "shell.execute_reply.started": "2023-11-30T07:04:39.283735Z"
    },
    "tags": []
   },
   "source": [
    "**Do not** `print(token)`. The risk of displaying the token, \n",
    "then saving and sharing (or git-tracking) this file, is avoided\n",
    "if the token is never displayed in the first place.\n",
    "\n",
    "Establish the RSP TAP service (`rsp_tap`) using pyvo. \n",
    "\n",
    "The TAP user (`x-oauth-basic`), \n",
    "security method (`ivo://ivoa.net/sso#BasicAA`),\n",
    "and the DP0.2 TAP endpoint (`https://data.lsst.cloud/api/tap`)\n",
    "will be the same for everyone.\n",
    "Note that the token is passed in the second line.\n",
    "\n",
    "Assert that the `rsp_tap` is not `None`, and that the `rsp_tap.baseurl` matches the desired TAP endpoint. \n",
    "If there is no output message, it means all is OK."
   ]
  },
  {
   "cell_type": "code",
   "execution_count": 4,
   "id": "807bc17f-bc8b-429b-b42f-ea60eee466a4",
   "metadata": {
    "execution": {
     "iopub.execute_input": "2023-12-01T02:04:33.864739Z",
     "iopub.status.busy": "2023-12-01T02:04:33.864100Z",
     "iopub.status.idle": "2023-12-01T02:04:33.874522Z",
     "shell.execute_reply": "2023-12-01T02:04:33.873313Z",
     "shell.execute_reply.started": "2023-12-01T02:04:33.864689Z"
    },
    "tags": []
   },
   "outputs": [],
   "source": [
    "cred = pyvo.auth.CredentialStore()\n",
    "cred.set_password(\"x-oauth-basic\", token)\n",
    "credential = cred.get(\"ivo://ivoa.net/sso#BasicAA\")\n",
    "rsp_tap_url = 'https://data.lsst.cloud/api/tap'\n",
    "rsp_tap = pyvo.dal.TAPService(rsp_tap_url, credential)\n",
    "assert rsp_tap is not None\n",
    "assert rsp_tap.baseurl == rsp_tap_url"
   ]
  },
  {
   "cell_type": "markdown",
   "id": "b111c155-8a2e-469d-b503-51dd5356202f",
   "metadata": {},
   "source": [
    "### 2.1. Optional DP0.2 test query\n",
    "\n",
    "Option to do a simple query to retrieve TAP schemas available in the Rubin Science Platform (data.lsst.cloud),\n",
    "display the results, and then delete them."
   ]
  },
  {
   "cell_type": "code",
   "execution_count": null,
   "id": "f8b3f7ef-52be-47b6-9930-34660ddae2ae",
   "metadata": {
    "tags": []
   },
   "outputs": [],
   "source": [
    "# query = \"SELECT * FROM tap_schema.schemas\"\n",
    "# results = rsp_tap.run_sync(query).to_table()"
   ]
  },
  {
   "cell_type": "code",
   "execution_count": null,
   "id": "87dc33f0-139f-4bed-8492-00f840fb99de",
   "metadata": {
    "tags": []
   },
   "outputs": [],
   "source": [
    "# results"
   ]
  },
  {
   "cell_type": "code",
   "execution_count": null,
   "id": "d173c585-f094-474b-a94f-5bad1363ea2c",
   "metadata": {
    "tags": []
   },
   "outputs": [],
   "source": [
    "# del results"
   ]
  },
  {
   "cell_type": "markdown",
   "id": "8e02dff7-8f29-4708-b8f1-666a9eb35ae6",
   "metadata": {},
   "source": [
    "### 2.2. Optional test of DP0.3 TAP endpoint\n",
    "\n",
    "Solar System objects (SSO) simulated as part of Rubin Observatory's Data Preview 0.3 (DP0.3) are available\n",
    "at a unique TAP URL. \n",
    "\n",
    "Option to test the connection and a simple query to the DP0.3 data products."
   ]
  },
  {
   "cell_type": "code",
   "execution_count": null,
   "id": "28288ca1-8473-486d-abe3-9565b9251ea7",
   "metadata": {
    "tags": []
   },
   "outputs": [],
   "source": [
    "# rsp_tap_url_sso = 'https://data.lsst.cloud/api/ssotap'\n",
    "# rsp_tap_sso = pyvo.dal.TAPService(rsp_tap_url_sso, credential)\n",
    "# assert rsp_tap_sso is not None\n",
    "# assert rsp_tap_sso.baseurl == rsp_tap_url_sso"
   ]
  },
  {
   "cell_type": "code",
   "execution_count": null,
   "id": "3bc6e95a-1df7-42d5-b4ad-3451ba952ecd",
   "metadata": {
    "tags": []
   },
   "outputs": [],
   "source": [
    "# query_sso = \"SELECT * FROM tap_schema.schemas\"\n",
    "# results_sso = rsp_tap_sso.run_sync(query_sso).to_table()"
   ]
  },
  {
   "cell_type": "code",
   "execution_count": null,
   "id": "a62b56a3-c1a2-4cc0-a056-9b40f14906ab",
   "metadata": {
    "tags": []
   },
   "outputs": [],
   "source": [
    "# results_sso"
   ]
  },
  {
   "cell_type": "code",
   "execution_count": null,
   "id": "f2e856a7-8789-4a0f-9645-2d5ed51d969a",
   "metadata": {},
   "outputs": [],
   "source": [
    "# del results_sso, rsp_tap_url_sso, rsp_tap_sso, query_sso"
   ]
  },
  {
   "cell_type": "markdown",
   "id": "f4f60b2b-7b17-4fa3-8d28-c1fb4b363836",
   "metadata": {},
   "source": [
    "## 3. Obtain potential host galaxy information\n",
    "\n",
    "**The scientific scenario for this exercise** is that the date is 60965 MJD, \n",
    "and an alert broker has identified five\n",
    "`DiaObjects` of interest from the LSST alert stream.\n",
    "These `DiaObjects` have rising light curves with at least 5 detections\n",
    "in the past 20 days and have reached a brightness < 22 mag.\n",
    "They are potential Type Ia supernovae, and might be suitable for \n",
    "a hypothetical follow-up program with Gemini.\n",
    "However, more contextual information is needed.\n",
    "\n",
    "**The LSST alert packets will contain** the `objectId` values for\n",
    "the three nearest stars and three nearest galaxies in the most recent \n",
    "LSST annual data release, but no further data about the objects themselves.\n",
    "LSST alert packets will also contain the three nearest extended objects using separation\n",
    "distances calculated from the second moments of the object's luminosity profile,\n",
    "and the neareset low-redshift galaxy from a pre-established catalog.\n",
    "\n",
    "**In this demo, only the three nearest stars and galaxies based on 2D sky separations are simulated.**\n",
    "For DP0.2, the `DiaObject` table does not include these columns.\n",
    "For the purpose of this demo, the `refExtendedness` parameter in the `Object` catalog was used \n",
    "to identify the three nearest \"stars\" (extendedness = 0) and \"galaxies\" (extendedness = 1),\n",
    "and identify the `Objects` that populate the dataframe in Section 3.1.\n",
    "For a full description of the nearby-object data that will be in the LSST alert packets,\n",
    "see Table 3 of the Rubin <a href=\"https://lse-163.lsst.io/\">Data Products Definitions Document</a> (DPDD)\n",
    "and the Rubin Data Management Tech Note <a href=\"https://dmtn-151.lsst.io/\">Host Galaxy Association for DIAObjects</a> (DMTN-151).\n",
    "\n",
    "**The task at hand** is to use the `objectId` to retrieve data\n",
    "for the nearby stars and galaxies from the latest annual LSST Data\n",
    "Release (in this case, the DP0.2 `Object` table)\n",
    "and use that data to prioritize the `DiaObjects` for follow-up."
   ]
  },
  {
   "cell_type": "markdown",
   "id": "8eea98e6-cdc4-471d-a49b-de4c3c67badb",
   "metadata": {},
   "source": [
    "### 3.1. Simulate nearby-object data from LSST alert packets\n",
    "\n",
    "The following cell creates a pandas dataframe that mimics some of the \n",
    "nearby-object data that a broker filter would have from the LSST alert packets,\n",
    "for the scenario described above.\n",
    "\n",
    "The dataframe contains a list of five `DiaObjects` of interest,\n",
    "their coordinates,\n",
    "and the three nearest stars and galaxies for each.\n",
    "\n",
    " * `diaObjectId` : identifier in the DP0.2 `DiaObject` table for the candidate supernova\n",
    " * `diaObject_coord` : coordinates [RA, Dec] in decimal degrees for the candidate supernova\n",
    " * `stars_objId` : identifier in the DP0.2 `Object` table for the three nearest stars\n",
    " * `stars_2Ddist` : the 2D sky distance in arcseconds between `DiaObject` and nearby star\n",
    " * `gals_objId` : identifier in the DP0.2 `Object` table for the three nearest galaxies\n",
    " * `gals_2Ddist` : the 2D sky distance in arcseconds between `DiaObject` and nearby galaxy's center\n",
    " \n",
    "In the scientific scenario of this exercise, these are five potential Type Ia supernovae."
   ]
  },
  {
   "cell_type": "code",
   "execution_count": 5,
   "id": "5befacdb-bd6b-40b4-a613-b7b6578dcacf",
   "metadata": {
    "execution": {
     "iopub.execute_input": "2023-12-01T02:04:39.264089Z",
     "iopub.status.busy": "2023-12-01T02:04:39.263402Z",
     "iopub.status.idle": "2023-12-01T02:04:39.351529Z",
     "shell.execute_reply": "2023-12-01T02:04:39.350466Z",
     "shell.execute_reply.started": "2023-12-01T02:04:39.264039Z"
    },
    "tags": []
   },
   "outputs": [],
   "source": [
    "d = {'diaObjectId' : [1568026726510894110, 1569909090417642499, 1653700672547196623, \n",
    "                      1734140943235288573, 1825796232526695593],\n",
    "     'diaObject_coord' : [[63.6025914, -38.634654],\n",
    "                          [69.9257038, -38.1424959],\n",
    "                          [70.8210894, -35.9915118],\n",
    "                          [52.5432991, -34.9028848],\n",
    "                          [71.7356252, -34.2191764]],\n",
    "     'stars_objId' : [[1568026726510919263, 1568026726510919265, 1568026726510919393],\n",
    "                      [1569425305301455018, 1569425305301455016, 1569425305301455020],\n",
    "                      [1653700672547231401, 1653700672547231164, 1653700672547231611],\n",
    "                      [1734140943235326652, 1734140943235326653, 1734140943235298415],\n",
    "                      [1739084347513803590, 1739084347513777036, 1739084347513805129]],\n",
    "     'stars_2Ddist' : [[0.03, 4.45, 8.53],\n",
    "                       [6.47, 8.15, 8.62],\n",
    "                       [9.94, 11.98, 12.03],\n",
    "                       [0.02, 2.95, 9.66],\n",
    "                       [9.48, 10.67, 12.13]],\n",
    "     'gals_objId' : [[1568026726510919266, 1568026726510919261, 1568026726510919497],\n",
    "                     [1569425305301455007, 1569425305301455003, 1569425305301455014],\n",
    "                     [1653700672547231391, 1653700672547231402, 1653700672547231397],\n",
    "                     [1734140943235326493, 1734140943235293084, 1734140943235326492],\n",
    "                     [1739084347513803559, 1739084347513803574, 1739084347513803571]],\n",
    "     'gals_2Ddist' : [[3.15, 4.62, 5.08],\n",
    "                      [0.02, 3.08, 3.98],\n",
    "                      [2.13, 2.58, 4.34],\n",
    "                      [4.7, 5.98, 6.11],\n",
    "                      [0.03, 4.64, 5.93]]}\n",
    "\n",
    "df = pandas.DataFrame(data=d)\n",
    "del d"
   ]
  },
  {
   "cell_type": "markdown",
   "id": "51f27d88-45ca-4d81-a578-247d932688a0",
   "metadata": {},
   "source": [
    "Option to display the dataframe."
   ]
  },
  {
   "cell_type": "code",
   "execution_count": null,
   "id": "ffa2f230-34b3-4bb6-9b94-67096908fdad",
   "metadata": {
    "tags": []
   },
   "outputs": [],
   "source": [
    "# df"
   ]
  },
  {
   "cell_type": "markdown",
   "id": "15038959-a554-4ff6-ae7a-056884d8f423",
   "metadata": {
    "execution": {
     "iopub.execute_input": "2023-11-30T18:50:00.207579Z",
     "iopub.status.busy": "2023-11-30T18:50:00.206900Z",
     "iopub.status.idle": "2023-11-30T18:50:00.215228Z",
     "shell.execute_reply": "2023-11-30T18:50:00.213445Z",
     "shell.execute_reply.started": "2023-11-30T18:50:00.207525Z"
    }
   },
   "source": [
    "### 3.2. Retrieve object data from the RSP's DP0.2 catalog\n",
    "\n",
    "Choose to explore the potential host galaxies for the first of the five `DiaObjects`.\n",
    "\n",
    "Set the value of `diao_index` to 0."
   ]
  },
  {
   "cell_type": "code",
   "execution_count": null,
   "id": "e955c1c9-80bc-4755-a7bd-033255387693",
   "metadata": {
    "tags": []
   },
   "outputs": [],
   "source": [
    "diao_index = 0"
   ]
  },
  {
   "cell_type": "markdown",
   "id": "347fe5ce-5b76-48d8-890a-7473abe5dbb4",
   "metadata": {},
   "source": [
    "Create `list_objId`, a string containing a comma-separated list of the three `objectId` for\n",
    "the three nearest galaxies to the selected `DiaObject`."
   ]
  },
  {
   "cell_type": "code",
   "execution_count": null,
   "id": "2b71be88-3503-4927-88e4-5c3c5210885e",
   "metadata": {
    "tags": []
   },
   "outputs": [],
   "source": [
    "temp = np.asarray(df['gals_objId'][diao_index], dtype='int')\n",
    "list_objId = \"(\" + ','.join(['%20i' % num for num in temp]) + \")\"\n",
    "del temp\n",
    "print(list_objId)"
   ]
  },
  {
   "cell_type": "markdown",
   "id": "c8a2e56d-c7db-42a0-b7c5-360326bfa520",
   "metadata": {},
   "source": [
    "Create a query to retreive object astrometry, shape, size, and photometry measurements from the DP0.2 `Object` catalog.\n",
    "\n",
    "See the <a href=\"https://dp0-2.lsst.io/data-products-dp0-2/index.html#dp0-2-data-products-definition-document-dpdd\">DP0.2 DPDD</a> and <a href=\"https://dm.lsst.org/sdm_schemas/browser/dp02.html\">DP0.2 schema browser</a> for more information about the columns."
   ]
  },
  {
   "cell_type": "code",
   "execution_count": null,
   "id": "c10377d8-4e96-4e7d-8447-d7eb691e8fd6",
   "metadata": {
    "tags": []
   },
   "outputs": [],
   "source": [
    "query = \"SELECT objectId, coord_ra, coord_dec, refExtendedness, \"\\\n",
    "        \"shape_xx, shape_xy, shape_yy, \"\\\n",
    "        \"scisql_nanojanskyToAbMag(g_cModelFlux) AS g_cModelMag, \"\\\n",
    "        \"scisql_nanojanskyToAbMag(r_cModelFlux) AS r_cModelMag, \"\\\n",
    "        \"scisql_nanojanskyToAbMag(i_cModelFlux) AS i_cModelMag \"\\\n",
    "        \"FROM dp02_dc2_catalogs.Object \"\\\n",
    "        \"WHERE objectId IN \"+list_objId\n",
    "del list_objId"
   ]
  },
  {
   "cell_type": "markdown",
   "id": "db5e74b8-6737-406e-9507-c26a440bfe87",
   "metadata": {},
   "source": [
    "Execute the query using the `rsp_tap` service, and store the results in `galaxies` as a table.\n",
    "\n",
    "> **Keep in mind that this query is *remote*! \n",
    "It is NOT retrieving data from NOIRLab's archive (which is co-located with the Astro DataLab) but from the Rubin Observatory's Data Preview 0.2 dataset via the Rubin Science Platform, which is deployed in the Google Cloud.**"
   ]
  },
  {
   "cell_type": "code",
   "execution_count": null,
   "id": "d7bceb46-4cd1-45a9-b32e-0308a431cfb4",
   "metadata": {
    "tags": []
   },
   "outputs": [],
   "source": [
    "galaxies = rsp_tap.search(query).to_table()"
   ]
  },
  {
   "cell_type": "markdown",
   "id": "53bd1f44-ef10-461d-960a-334901a22dd6",
   "metadata": {},
   "source": [
    "Option to view the remotely retrieved data table."
   ]
  },
  {
   "cell_type": "code",
   "execution_count": null,
   "id": "12de5c03-9bc2-4aab-8a56-7bb75381ee30",
   "metadata": {
    "tags": []
   },
   "outputs": [],
   "source": [
    "# galaxies"
   ]
  },
  {
   "cell_type": "markdown",
   "id": "9641df26-5649-4e86-aa65-9957a953ef18",
   "metadata": {},
   "source": [
    "### 3.3. Calculate additional galaxy properties\n",
    "\n",
    "#### Galaxy colors\n",
    "\n",
    "The `Objects` table for DP0.2 does not have a photometric redshift,\n",
    "but see Rubin Data Management Tech Note \n",
    "<a href=\"https://dmtn-049.lsst.io/\">A Roadmap to Photometric Redshifts for the LSST Object Catalog</a>\n",
    "(DMTN-049) for future plans.\n",
    "\n",
    "Instead, calculate the colors of the galaxies in $g-r$ and $r-i$ magnitude, and add them to the `galaxies` table."
   ]
  },
  {
   "cell_type": "code",
   "execution_count": null,
   "id": "dc57f2c7-f76d-4034-a538-24548624cf97",
   "metadata": {
    "tags": []
   },
   "outputs": [],
   "source": [
    "galaxies['gr_clr'] = galaxies['g_cModelMag'] - galaxies['r_cModelMag']\n",
    "galaxies['ri_clr'] = galaxies['r_cModelMag'] - galaxies['i_cModelMag']"
   ]
  },
  {
   "cell_type": "code",
   "execution_count": null,
   "id": "9a68a331-946a-47aa-ac7d-8d5ad0f2ebb1",
   "metadata": {
    "tags": []
   },
   "outputs": [],
   "source": [
    "# galaxies"
   ]
  },
  {
   "cell_type": "markdown",
   "id": "78238ee8-9fe4-47cf-adf8-ab664b29541e",
   "metadata": {},
   "source": [
    "#### Separation in elliptical radii\n",
    "\n",
    "The 2D sky separation is not as good a host indicator as, for example, the separation distance in elliptical radii\n",
    "that is based on the second moments of the galaxy's luminosity profile.\n",
    "\n",
    "In the future, the LSST alert packet will contain this separation distance for the three nearest extended objects.\n",
    "\n",
    "For this demo, calculate both the 2D sky separation and the elliptical radius separation for each galaxy,\n",
    "and add them to the `galaxies` table."
   ]
  },
  {
   "cell_type": "code",
   "execution_count": null,
   "id": "5b012d44-6771-4068-8738-2b2772e88efe",
   "metadata": {
    "tags": []
   },
   "outputs": [],
   "source": [
    "galaxies['ell_rad'] = np.zeros(3, dtype='float')\n",
    "galaxies['2Ddist'] = np.zeros(3, dtype='float')\n",
    "\n",
    "snra = df['diaObject_coord'][diao_index][0]\n",
    "sndec = df['diaObject_coord'][diao_index][1]\n",
    "sncoord = SkyCoord(snra, sndec, unit='deg')\n",
    "\n",
    "for i in range(3):\n",
    "    objra = galaxies['coord_ra'][i]\n",
    "    objdec = galaxies['coord_dec'][i]\n",
    "    objcoord = SkyCoord(objra, objdec, unit='deg')\n",
    "    del objra, objdec\n",
    "    \n",
    "    temp = objcoord.separation(sncoord)\n",
    "    galaxies['2Ddist'][i] = temp.arcsec\n",
    "    del temp\n",
    "    \n",
    "    temp = objcoord.spherical_offsets_to(sncoord)\n",
    "    xr = 3600.0 * temp[0].deg\n",
    "    yr = 3600.0 * temp[1].deg\n",
    "    del temp, objcoord\n",
    "    \n",
    "    Ixx = galaxies['shape_xx'][i]\n",
    "    Iyy = galaxies['shape_yy'][i]\n",
    "    Ixy = galaxies['shape_xy'][i]\n",
    "    Cxx = Iyy / ((Ixx * Iyy) - Ixy)\n",
    "    Cyy = Ixx / ((Ixx * Iyy) - Ixy)\n",
    "    Cxy = -2.0 * (Ixy) / ((Ixx * Iyy) - Ixy)\n",
    "    galaxies['ell_rad'][i] = np.sqrt((Cxx * xr**2) + (Cyy * yr**2) + (Cxy * xr * yr))\n",
    "\n",
    "    del Ixx, Iyy, Ixy, Cxx, Cyy, Cxy\n",
    "\n",
    "del snra, sndec, sncoord"
   ]
  },
  {
   "cell_type": "code",
   "execution_count": null,
   "id": "2120bdf4-e342-4272-a413-2ed0400b5959",
   "metadata": {
    "tags": []
   },
   "outputs": [],
   "source": [
    "galaxies"
   ]
  },
  {
   "cell_type": "markdown",
   "id": "724016cf-cd1c-43e3-94b4-2e7a40ac0c8b",
   "metadata": {
    "execution": {
     "iopub.execute_input": "2023-11-30T19:49:49.824731Z",
     "iopub.status.busy": "2023-11-30T19:49:49.823859Z",
     "iopub.status.idle": "2023-11-30T19:49:50.316878Z",
     "shell.execute_reply": "2023-11-30T19:49:50.315464Z",
     "shell.execute_reply.started": "2023-11-30T19:49:49.824672Z"
    }
   },
   "source": [
    "### 3.4. Interpret derived data for nearby galaxies\n",
    "\n",
    "For the `DiaObject` with `diaObjectId` = 1568026726510894110 (`diao_index` = 0),\n",
    "interpret the new information about nearby galaxies that was obtained from the RSP.\n",
    "\n",
    "For the nearest galaxy by 2D sky separation, print the `objectId`, separations, and colors."
   ]
  },
  {
   "cell_type": "code",
   "execution_count": null,
   "id": "004cf4ab-1e37-4cdc-a3c9-448bd3c7ffe3",
   "metadata": {
    "tags": []
   },
   "outputs": [],
   "source": [
    "mx = np.argmin(galaxies['2Ddist'])\n",
    "print(galaxies['objectId'][mx], \n",
    "      galaxies['2Ddist'][mx], galaxies['ell_rad'][mx],\n",
    "      galaxies['gr_clr'][mx], galaxies['ri_clr'][mx])\n",
    "del mx"
   ]
  },
  {
   "cell_type": "markdown",
   "id": "7fc53e00-b8e5-4ec5-bd54-23ffa9942ea8",
   "metadata": {},
   "source": [
    "For the nearest galaxy by elliptical radii separation, print the `objectId`, separations, and colors."
   ]
  },
  {
   "cell_type": "code",
   "execution_count": null,
   "id": "da925462-639a-48e8-a61c-31835e3af9ab",
   "metadata": {
    "tags": []
   },
   "outputs": [],
   "source": [
    "mx = np.argmin(galaxies['ell_rad'])\n",
    "print(galaxies['objectId'][mx], \n",
    "      galaxies['2Ddist'][mx], galaxies['ell_rad'][mx],\n",
    "      galaxies['gr_clr'][mx], galaxies['ri_clr'][mx])\n",
    "del mx"
   ]
  },
  {
   "cell_type": "markdown",
   "id": "e33b04ac-79c1-41d1-bb0f-c49931e50cd4",
   "metadata": {},
   "source": [
    "**Summary:** The galaxy that is nearest by 2D sky separation (3.15\") is not the best candidate host galaxy:\n",
    "the best candidate is the one with a larger 2D sky separation (4.62\") but a smaller offset in \n",
    "terms of elliptical radii ($R=1.02$), which takes into account the size of the galaxy.\n",
    "Furthermore, the best candidate also has redder colors, ($g-r$ and $r-i>0$), which is more typical \n",
    "for the host galaxies of Type Ia supernovae."
   ]
  },
  {
   "cell_type": "code",
   "execution_count": null,
   "id": "856fe28d-09ef-42ca-ae58-5ff39dae8367",
   "metadata": {
    "tags": []
   },
   "outputs": [],
   "source": [
    "del diao_index, galaxies"
   ]
  },
  {
   "cell_type": "markdown",
   "id": "07873df5-4a4c-4d1d-ae39-52774e1a7b1a",
   "metadata": {},
   "source": [
    "### 3.5. Exercises for the learner\n",
    "\n",
    " 1. Repeat the analysis in Section 3 by choosing a different `DiaObject` to explore.\n",
    " 2. The three nearest stars are also provided, and some have low 2D sky separations. What's up with them?\n",
    " 3. Explore the <a href=\"https://dm.lsst.org/sdm_schemas/browser/dp02.html\">DP0.2 schema browser</a> and retrieve additional columns."
   ]
  },
  {
   "cell_type": "markdown",
   "id": "2d131457-84f7-4002-b717-4c954333f5e3",
   "metadata": {},
   "source": [
    "## 4. Retrieve and display a light curve\n",
    "\n",
    "For the science case of a new supernova the LSST alert packet\n",
    "would contain the difference-image light curves, and the following\n",
    "example of retrieving photometry from the LSST annual data release\n",
    "(in this case, DP0.2) would be uncecessary.\n",
    "\n",
    "But as a demo, retrieve the difference-image 5-sigma detections\n",
    "for one of the `DiaObjects` up to the date of MJD 60965,\n",
    "and plot the light curve.\n",
    "\n",
    "### 4.1. Set light curve plot parameters\n",
    "\n",
    "These color and symbol combinations are colorblind-friendly."
   ]
  },
  {
   "cell_type": "code",
   "execution_count": null,
   "id": "6d834969-a6d0-42f5-8360-92c9dad74625",
   "metadata": {
    "tags": []
   },
   "outputs": [],
   "source": [
    "plot_filter_labels = ['u', 'g', 'r', 'i', 'z', 'y']\n",
    "plot_filter_colors = {'u': '#56b4e9', 'g': '#008060', 'r': '#ff4000',\n",
    "                      'i': '#850000', 'z': '#6600cc', 'y': '#000000'}\n",
    "plot_filter_symbols = {'u': 'o', 'g': '^', 'r': 'v', 'i': 's', 'z': '*', 'y': 'p'}"
   ]
  },
  {
   "cell_type": "markdown",
   "id": "c82d9c24-6ba0-4020-be7a-dee1ae2b48dd",
   "metadata": {},
   "source": [
    "### 4.2. Retrieve the light curve for one `DiaObject`\n",
    "\n",
    "Recall that in this scientific scenario of Section 3, the MJD is 60965.\n",
    "\n",
    "**Why use midPointTai < 60965?**\n",
    "The DP0.2 tables contain difference-image detections for all five years,\n",
    "but in the query below only those up to the night of 60965 are retreived.\n",
    "This mimics what a broker user would be working with, when deciding\n",
    "whether or not to follow-up these `DiaObjects` on MJD 60965,\n",
    "as described in the science scenario at the start of Section 3.\n",
    "\n",
    "**Why use scisql_nanojanskyToAbMag?**\n",
    "It is safe in this situation only because the photometry for\n",
    "5-sigma difference image detections of a rising supernova are\n",
    "being returned, and the difference-image flux is not expected \n",
    "to be negative in this situation.\n",
    "However, generally, it is not advised to use `scisql_nanojanskyToAbMag`\n",
    "with difference-image fluxes.\n",
    "\n",
    "Descriptions and units for the columns of the `DiaSource` catalog are\n",
    "available in the <a href=\"https://dm.lsst.org/sdm_schemas/browser/dp02.html\">DP0.2 schema browser</a>."
   ]
  },
  {
   "cell_type": "code",
   "execution_count": null,
   "id": "0595f622-e446-43b4-8379-023018bb32d0",
   "metadata": {
    "tags": []
   },
   "outputs": [],
   "source": [
    "diao_index = 0\n",
    "temp_string = str(df['diaObjectId'][diao_index])\n",
    "diasources = rsp_tap.search(\"SELECT midPointTai, filterName, \"\n",
    "                            \"scisql_nanojanskyToAbMag(psFlux) AS psAbMag \"\n",
    "                            \"FROM dp02_dc2_catalogs.DiaSource  \"\n",
    "                            \"WHERE diaObjectId = \"+temp_string+\" \"\n",
    "                            \"AND midPointTai < 60965\").to_table()\n",
    "del diao_index, temp_string"
   ]
  },
  {
   "cell_type": "markdown",
   "id": "30bc3ed1-6762-4b9b-84fa-b64dae81844e",
   "metadata": {},
   "source": [
    "Option to display the data retrieved from the Rubin Science Platform."
   ]
  },
  {
   "cell_type": "code",
   "execution_count": null,
   "id": "e95d1543-dc67-4953-87c7-e7e88fdeff92",
   "metadata": {
    "tags": []
   },
   "outputs": [],
   "source": [
    "# diasources"
   ]
  },
  {
   "cell_type": "markdown",
   "id": "02f0cdaf-dccf-4a3f-b2d9-7c129197afd0",
   "metadata": {},
   "source": [
    "### 4.3. Display the light curve\n",
    "\n",
    "Plot the light curve with matplotlib. "
   ]
  },
  {
   "cell_type": "code",
   "execution_count": null,
   "id": "77da5163-8a10-4fff-b079-bd4f88387ee6",
   "metadata": {
    "tags": []
   },
   "outputs": [],
   "source": [
    "fig = plt.figure(figsize=(6, 4))\n",
    "\n",
    "for f, filt in enumerate(plot_filter_labels):\n",
    "    fx = np.where(diasources['filterName'][:] == filt)[0]\n",
    "    if len(fx) > 0:\n",
    "        plt.plot(diasources['midPointTai'][fx]-60965, \n",
    "                 diasources['psAbMag'][fx],\n",
    "                 plot_filter_symbols[filt], \n",
    "                 ms=10, mew=0, alpha=0.5,\n",
    "                 color=plot_filter_colors[filt],\n",
    "                 label=plot_filter_labels[f])\n",
    "    del fx\n",
    "\n",
    "plt.xlabel('Days Ago (MJD-60965)')\n",
    "plt.ylabel('Apparent AB Magnitude')\n",
    "plt.gca().invert_yaxis()\n",
    "plt.title('5-Sigma Difference-Image Detections')\n",
    "plt.legend(loc='lower right')\n",
    "\n",
    "plt.tight_layout()\n",
    "plt.show()"
   ]
  },
  {
   "cell_type": "code",
   "execution_count": null,
   "id": "038a7275-a2f9-477f-b9f5-228a33f774a4",
   "metadata": {},
   "outputs": [],
   "source": [
    "del diasources"
   ]
  },
  {
   "cell_type": "markdown",
   "id": "f5e12706-af37-40ca-a78b-51bc8fe81cf7",
   "metadata": {},
   "source": [
    "### 4.4. Exercises for the learner\n",
    "\n",
    " 1. Repeat Section 4 but select a different `DiaObject` and display its light curve.\n",
    " 2. Remove the limit of MJD<60965 from the query and plot the full light curve.\n",
    " 3. Obtain the forced-photometry light curve from the `ForcedSourceOnDiaObject` catalog (do not use `scisql_nanojanskyToAbMag`) and plot it instead."
   ]
  },
  {
   "cell_type": "markdown",
   "id": "3bc40ea6-f1b0-4b17-b1d6-2fad05238ef1",
   "metadata": {},
   "source": [
    "## 5. Retrieve and display a large, deep cutout image\n",
    "\n",
    "For the science case of a new supernova the LSST alert packet\n",
    "would contain the difference-image and the reference-image stamps,\n",
    "but they are relatively small cutouts: no smaller than 30 x 30 pixels\n",
    "(6\" x 6\").\n",
    "A larger cutout of a the deeply coadded image would be\n",
    "useful for interpreting the host galaxy situation, or\n",
    "even creating finder charts for spectroscopic observations.\n",
    "\n",
    "Select the first `DiaObject` on the list, and obtain its coordinates."
   ]
  },
  {
   "cell_type": "code",
   "execution_count": 6,
   "id": "80ab2b2d-37ca-44bc-8160-52a8e843f59c",
   "metadata": {
    "execution": {
     "iopub.execute_input": "2023-12-01T02:04:46.012157Z",
     "iopub.status.busy": "2023-12-01T02:04:46.011422Z",
     "iopub.status.idle": "2023-12-01T02:04:46.018720Z",
     "shell.execute_reply": "2023-12-01T02:04:46.017444Z",
     "shell.execute_reply.started": "2023-12-01T02:04:46.012103Z"
    },
    "tags": []
   },
   "outputs": [],
   "source": [
    "diao_index = 0\n",
    "snra = df['diaObject_coord'][diao_index][0]\n",
    "sndec = df['diaObject_coord'][diao_index][1]"
   ]
  },
  {
   "cell_type": "markdown",
   "id": "e0f23f56-f986-4334-ad73-a888e47af0d4",
   "metadata": {},
   "source": [
    "### 5.1. Query for the i-band deepCoadd image\n",
    "\n",
    "Create the query for the i-band deeply coadded image (`deepCoadd_calexp`) that overlaps the `DiaObject` coordinates.\n",
    "\n",
    "It is recommended to always select all rows with `*` when querying the `ivoa.ObsCore`."
   ]
  },
  {
   "cell_type": "code",
   "execution_count": 7,
   "id": "4474913a-08b7-46f7-9a8a-b4fb54c32902",
   "metadata": {
    "execution": {
     "iopub.execute_input": "2023-12-01T02:04:47.559876Z",
     "iopub.status.busy": "2023-12-01T02:04:47.559158Z",
     "iopub.status.idle": "2023-12-01T02:04:47.566964Z",
     "shell.execute_reply": "2023-12-01T02:04:47.565677Z",
     "shell.execute_reply.started": "2023-12-01T02:04:47.559822Z"
    },
    "tags": []
   },
   "outputs": [
    {
     "name": "stdout",
     "output_type": "stream",
     "text": [
      "SELECT * FROM ivoa.ObsCore WHERE dataproduct_type = 'image' AND obs_collection = 'LSST.DP02' AND dataproduct_subtype = 'lsst.deepCoadd_calexp' AND CONTAINS(POINT('ICRS', 63.6025914, -38.634654), s_region) = 1 AND lsst_band = 'i' \n"
     ]
    }
   ],
   "source": [
    "query = \"SELECT * FROM ivoa.ObsCore \"\\\n",
    "        \"WHERE dataproduct_type = 'image' \"\\\n",
    "        \"AND obs_collection = 'LSST.DP02' \"\\\n",
    "        \"AND dataproduct_subtype = 'lsst.deepCoadd_calexp' \"\\\n",
    "        \"AND CONTAINS(POINT('ICRS', \"+str(snra)+\", \"+str(sndec)+\"), s_region) = 1 \"\\\n",
    "        \"AND lsst_band = 'i' \"\n",
    "print(query)"
   ]
  },
  {
   "cell_type": "markdown",
   "id": "56c689d5-a72e-4baf-83cb-21896079d00f",
   "metadata": {},
   "source": [
    "Query the `ivoa.ObsCore`, which is the DP0.2 images available via the Rubin Science Platform deployed in the Google Cloud.\n",
    "\n",
    "Assert that the `results` table contains only one row, there will be only one overlapping i-band deep coadd image."
   ]
  },
  {
   "cell_type": "code",
   "execution_count": 8,
   "id": "9e06a4c0-6b0d-45b7-b158-31ab664bf189",
   "metadata": {
    "execution": {
     "iopub.execute_input": "2023-12-01T02:04:50.525431Z",
     "iopub.status.busy": "2023-12-01T02:04:50.524704Z",
     "iopub.status.idle": "2023-12-01T02:04:51.662258Z",
     "shell.execute_reply": "2023-12-01T02:04:51.661057Z",
     "shell.execute_reply.started": "2023-12-01T02:04:50.525381Z"
    },
    "tags": []
   },
   "outputs": [],
   "source": [
    "results = rsp_tap.search(query)\n",
    "assert len(results) == 1"
   ]
  },
  {
   "cell_type": "markdown",
   "id": "ac748b16-baf6-4391-b6ff-48dc071a50a9",
   "metadata": {},
   "source": [
    "Show the results in a table."
   ]
  },
  {
   "cell_type": "code",
   "execution_count": 9,
   "id": "4d3dee06-2177-47df-8027-13f9f005ba8c",
   "metadata": {
    "execution": {
     "iopub.execute_input": "2023-12-01T02:05:37.816580Z",
     "iopub.status.busy": "2023-12-01T02:05:37.815869Z",
     "iopub.status.idle": "2023-12-01T02:05:37.872674Z",
     "shell.execute_reply": "2023-12-01T02:05:37.871251Z",
     "shell.execute_reply.started": "2023-12-01T02:05:37.816526Z"
    },
    "tags": []
   },
   "outputs": [
    {
     "data": {
      "text/html": [
       "<i>Table length=1</i>\n",
       "<table id=\"table140158794503936-243430\" class=\"table-striped table-bordered table-condensed\">\n",
       "<thead><tr><th>idx</th><th>access_format</th><th>access_url</th><th>calib_level</th><th>dataproduct_subtype</th><th>dataproduct_type</th><th>em_max</th><th>em_min</th><th>em_res_power</th><th>em_xel</th><th>facility_name</th><th>instrument_name</th><th>lsst_band</th><th>lsst_ccdvisitid</th><th>lsst_detector</th><th>lsst_filter</th><th>lsst_patch</th><th>lsst_tract</th><th>lsst_visit</th><th>o_ucd</th><th>obs_collection</th><th>obs_id</th><th>obs_publisher_did</th><th>obs_title</th><th>pol_xel</th><th>s_dec</th><th>s_fov</th><th>s_ra</th><th>s_region</th><th>s_resolution</th><th>s_xel1</th><th>s_xel2</th><th>t_exptime</th><th>t_max</th><th>t_min</th><th>t_resolution</th><th>t_xel</th><th>target_name</th></tr></thead>\n",
       "<thead><tr><th></th><th></th><th></th><th></th><th></th><th></th><th>m</th><th>m</th><th></th><th></th><th></th><th></th><th></th><th></th><th></th><th></th><th></th><th></th><th></th><th></th><th></th><th></th><th></th><th></th><th></th><th>deg</th><th>deg</th><th>deg</th><th></th><th>arcsec</th><th></th><th></th><th>s</th><th>d</th><th>d</th><th>s</th><th></th><th></th></tr></thead>\n",
       "<tr><td>0</td><td>application/x-votable+xml;content=datalink</td><td>https://data.lsst.cloud/api/datalink/links?ID=butler%3A//dp02/54245023-b11a-4a69-b1ca-f2ef55527547</td><td>3</td><td>lsst.deepCoadd_calexp</td><td>image</td><td>8.18e-07</td><td>6.91e-07</td><td>--</td><td>--</td><td>Rubin-LSST</td><td></td><td>i</td><td>--</td><td>--</td><td></td><td>2</td><td>3638</td><td>--</td><td>phot.count</td><td>LSST.DP02</td><td>DC2-3638-2</td><td></td><td>deepCoadd_calexp - i - DC2-3638-2</td><td>--</td><td>-38.59736835686038</td><td>0.32605043687272384</td><td>63.703967530995406</td><td>POLYGON ICRS 63.554916 -38.711509 63.853909 -38.710784 63.852553 -38.483043 63.554494 -38.483762</td><td>--</td><td>--</td><td>--</td><td>--</td><td>--</td><td>--</td><td>--</td><td>--</td><td></td></tr>\n",
       "</table><style>table.dataTable {clear: both; width: auto !important; margin: 0 !important;}\n",
       ".dataTables_info, .dataTables_length, .dataTables_filter, .dataTables_paginate{\n",
       "display: inline-block; margin-right: 1em; }\n",
       ".paginate_button { margin-right: 5px; }\n",
       "</style>\n",
       "<script>\n",
       "\n",
       "var astropy_sort_num = function(a, b) {\n",
       "    var a_num = parseFloat(a);\n",
       "    var b_num = parseFloat(b);\n",
       "\n",
       "    if (isNaN(a_num) && isNaN(b_num))\n",
       "        return ((a < b) ? -1 : ((a > b) ? 1 : 0));\n",
       "    else if (!isNaN(a_num) && !isNaN(b_num))\n",
       "        return ((a_num < b_num) ? -1 : ((a_num > b_num) ? 1 : 0));\n",
       "    else\n",
       "        return isNaN(a_num) ? -1 : 1;\n",
       "}\n",
       "\n",
       "require.config({paths: {\n",
       "    datatables: 'https://cdn.datatables.net/1.10.12/js/jquery.dataTables.min'\n",
       "}});\n",
       "require([\"datatables\"], function(){\n",
       "    console.log(\"$('#table140158794503936-243430').dataTable()\");\n",
       "    \n",
       "jQuery.extend( jQuery.fn.dataTableExt.oSort, {\n",
       "    \"optionalnum-asc\": astropy_sort_num,\n",
       "    \"optionalnum-desc\": function (a,b) { return -astropy_sort_num(a, b); }\n",
       "});\n",
       "\n",
       "    $('#table140158794503936-243430').dataTable({\n",
       "        order: [],\n",
       "        pageLength: 50,\n",
       "        lengthMenu: [[10, 25, 50, 100, 500, 1000, -1], [10, 25, 50, 100, 500, 1000, 'All']],\n",
       "        pagingType: \"full_numbers\",\n",
       "        columnDefs: [{targets: [0, 3, 6, 7, 8, 9, 13, 14, 16, 17, 18, 24, 25, 26, 27, 29, 30, 31, 32, 33, 34, 35, 36], type: \"optionalnum\"}]\n",
       "    });\n",
       "});\n",
       "</script>\n"
      ],
      "text/plain": [
       "<IPython.core.display.HTML object>"
      ]
     },
     "execution_count": 9,
     "metadata": {},
     "output_type": "execute_result"
    }
   ],
   "source": [
    "results.to_table().show_in_notebook()"
   ]
  },
  {
   "cell_type": "markdown",
   "id": "e399fd67-54bd-4e51-9cce-bef063cf14da",
   "metadata": {
    "execution": {
     "iopub.execute_input": "2023-12-01T01:27:27.214682Z",
     "iopub.status.busy": "2023-12-01T01:27:27.213941Z",
     "iopub.status.idle": "2023-12-01T01:27:27.222536Z",
     "shell.execute_reply": "2023-12-01T01:27:27.220897Z",
     "shell.execute_reply.started": "2023-12-01T01:27:27.214628Z"
    }
   },
   "source": [
    "The `access_url` column contains the URL for the retrievable image, \n",
    "and the `access_format` specifies the format (content type) of the data product.\n",
    "\n",
    "There are two ways to obtain these from the table."
   ]
  },
  {
   "cell_type": "code",
   "execution_count": null,
   "id": "09f7d362-50cb-499a-a89d-430b862c59a3",
   "metadata": {
    "tags": []
   },
   "outputs": [],
   "source": [
    "# print(results[0].getdataurl())\n",
    "# print(results[0].getdataformat())"
   ]
  },
  {
   "cell_type": "code",
   "execution_count": null,
   "id": "38c6c89f-f2c9-412f-a584-f409ea5a20fb",
   "metadata": {
    "tags": []
   },
   "outputs": [],
   "source": [
    "# print(results[0]['access_url'])\n",
    "# print(results[0]['access_format'])"
   ]
  },
  {
   "cell_type": "markdown",
   "id": "293102c2-fe1a-4a4f-a415-8db11f4b786b",
   "metadata": {},
   "source": [
    "The `access_format` indicates that the `access_url` is a <a href=\"https://www.ivoa.net/documents/DataLink/\">DataLink</a> service.\n",
    "DataLink is an IVOA data access protocol that provides a linking mechanism to metadata about a dataset, and the dataset itself."
   ]
  },
  {
   "cell_type": "markdown",
   "id": "0686660e-86c0-46d7-9839-7210d20d74e4",
   "metadata": {},
   "source": [
    "### 5.2. Use DataLink to retrieve the image \n",
    "\n"
   ]
  },
  {
   "cell_type": "code",
   "execution_count": 10,
   "id": "0bc44225-93fb-4b00-9d07-e84e0765e8c1",
   "metadata": {
    "execution": {
     "iopub.execute_input": "2023-12-01T02:05:41.636105Z",
     "iopub.status.busy": "2023-12-01T02:05:41.635334Z",
     "iopub.status.idle": "2023-12-01T02:05:41.641830Z",
     "shell.execute_reply": "2023-12-01T02:05:41.640567Z",
     "shell.execute_reply.started": "2023-12-01T02:05:41.636041Z"
    }
   },
   "outputs": [],
   "source": [
    "from pyvo.dal.adhoc import DatalinkResults"
   ]
  },
  {
   "cell_type": "code",
   "execution_count": 11,
   "id": "a7af4795-864e-46ec-a9b7-1ee5a8a7ede7",
   "metadata": {
    "execution": {
     "iopub.execute_input": "2023-12-01T02:05:42.264116Z",
     "iopub.status.busy": "2023-12-01T02:05:42.263487Z",
     "iopub.status.idle": "2023-12-01T02:05:42.270376Z",
     "shell.execute_reply": "2023-12-01T02:05:42.269064Z",
     "shell.execute_reply.started": "2023-12-01T02:05:42.264067Z"
    },
    "tags": []
   },
   "outputs": [
    {
     "name": "stdout",
     "output_type": "stream",
     "text": [
      "<requests.sessions.Session object at 0x7f79439f2ca0>\n"
     ]
    }
   ],
   "source": [
    "auth_session = rsp_tap._session\n",
    "print(auth_session)"
   ]
  },
  {
   "cell_type": "code",
   "execution_count": 15,
   "id": "0e9f27f1-591f-4a2d-87ff-a6558a4035d0",
   "metadata": {
    "execution": {
     "iopub.execute_input": "2023-12-01T02:13:05.416466Z",
     "iopub.status.busy": "2023-12-01T02:13:05.415776Z",
     "iopub.status.idle": "2023-12-01T02:13:05.672666Z",
     "shell.execute_reply": "2023-12-01T02:13:05.670652Z",
     "shell.execute_reply.started": "2023-12-01T02:13:05.416414Z"
    },
    "tags": []
   },
   "outputs": [
    {
     "ename": "E19",
     "evalue": "None:1:0: E19: File does not appear to be a VOTABLE",
     "output_type": "error",
     "traceback": [
      "\u001b[0;31m---------------------------------------------------------------------------\u001b[0m",
      "\u001b[0;31mE19\u001b[0m                                       Traceback (most recent call last)",
      "\u001b[0;32m<ipython-input-15-ad49bf9a1586>\u001b[0m in \u001b[0;36m<module>\u001b[0;34m\u001b[0m\n\u001b[0;32m----> 1\u001b[0;31m \u001b[0mdl_results\u001b[0m \u001b[0;34m=\u001b[0m \u001b[0mDatalinkResults\u001b[0m\u001b[0;34m.\u001b[0m\u001b[0mfrom_result_url\u001b[0m\u001b[0;34m(\u001b[0m\u001b[0mresults\u001b[0m\u001b[0;34m[\u001b[0m\u001b[0;36m0\u001b[0m\u001b[0;34m]\u001b[0m\u001b[0;34m[\u001b[0m\u001b[0;34m'access_url'\u001b[0m\u001b[0;34m]\u001b[0m\u001b[0;34m,\u001b[0m \u001b[0msession\u001b[0m\u001b[0;34m=\u001b[0m\u001b[0mauth_session\u001b[0m\u001b[0;34m)\u001b[0m\u001b[0;34m\u001b[0m\u001b[0;34m\u001b[0m\u001b[0m\n\u001b[0m",
      "\u001b[0;32m/data0/sw/anaconda3/lib/python3.8/site-packages/pyvo/dal/query.py\u001b[0m in \u001b[0;36mfrom_result_url\u001b[0;34m(cls, result_url, session)\u001b[0m\n\u001b[1;32m    281\u001b[0m         \u001b[0msession\u001b[0m \u001b[0;34m=\u001b[0m \u001b[0muse_session\u001b[0m\u001b[0;34m(\u001b[0m\u001b[0msession\u001b[0m\u001b[0;34m)\u001b[0m\u001b[0;34m\u001b[0m\u001b[0;34m\u001b[0m\u001b[0m\n\u001b[1;32m    282\u001b[0m         return cls(\n\u001b[0;32m--> 283\u001b[0;31m             \u001b[0mvotableparse\u001b[0m\u001b[0;34m(\u001b[0m\u001b[0mcls\u001b[0m\u001b[0;34m.\u001b[0m\u001b[0m_from_result_url\u001b[0m\u001b[0;34m(\u001b[0m\u001b[0mresult_url\u001b[0m\u001b[0;34m,\u001b[0m \u001b[0msession\u001b[0m\u001b[0;34m)\u001b[0m\u001b[0;34m.\u001b[0m\u001b[0mread\u001b[0m\u001b[0;34m)\u001b[0m\u001b[0;34m,\u001b[0m\u001b[0;34m\u001b[0m\u001b[0;34m\u001b[0m\u001b[0m\n\u001b[0m\u001b[1;32m    284\u001b[0m             \u001b[0murl\u001b[0m\u001b[0;34m=\u001b[0m\u001b[0mresult_url\u001b[0m\u001b[0;34m,\u001b[0m\u001b[0;34m\u001b[0m\u001b[0;34m\u001b[0m\u001b[0m\n\u001b[1;32m    285\u001b[0m             session=session)\n",
      "\u001b[0;32m/data0/sw/anaconda3/lib/python3.8/site-packages/astropy/utils/decorators.py\u001b[0m in \u001b[0;36mwrapper\u001b[0;34m(*args, **kwargs)\u001b[0m\n\u001b[1;32m    605\u001b[0m                     \u001b[0mwarnings\u001b[0m\u001b[0;34m.\u001b[0m\u001b[0mwarn\u001b[0m\u001b[0;34m(\u001b[0m\u001b[0mmsg\u001b[0m\u001b[0;34m,\u001b[0m \u001b[0mwarning_type\u001b[0m\u001b[0;34m,\u001b[0m \u001b[0mstacklevel\u001b[0m\u001b[0;34m=\u001b[0m\u001b[0;36m2\u001b[0m\u001b[0;34m)\u001b[0m\u001b[0;34m\u001b[0m\u001b[0;34m\u001b[0m\u001b[0m\n\u001b[1;32m    606\u001b[0m \u001b[0;34m\u001b[0m\u001b[0m\n\u001b[0;32m--> 607\u001b[0;31m             \u001b[0;32mreturn\u001b[0m \u001b[0mfunction\u001b[0m\u001b[0;34m(\u001b[0m\u001b[0;34m*\u001b[0m\u001b[0margs\u001b[0m\u001b[0;34m,\u001b[0m \u001b[0;34m**\u001b[0m\u001b[0mkwargs\u001b[0m\u001b[0;34m)\u001b[0m\u001b[0;34m\u001b[0m\u001b[0;34m\u001b[0m\u001b[0m\n\u001b[0m\u001b[1;32m    608\u001b[0m \u001b[0;34m\u001b[0m\u001b[0m\n\u001b[1;32m    609\u001b[0m         \u001b[0;32mreturn\u001b[0m \u001b[0mwrapper\u001b[0m\u001b[0;34m\u001b[0m\u001b[0;34m\u001b[0m\u001b[0m\n",
      "\u001b[0;32m/data0/sw/anaconda3/lib/python3.8/site-packages/astropy/io/votable/table.py\u001b[0m in \u001b[0;36mparse\u001b[0;34m(source, columns, invalid, verify, chunk_size, table_number, table_id, filename, unit_format, datatype_mapping, _debug_python_based_parser)\u001b[0m\n\u001b[1;32m    175\u001b[0m         \u001b[0msource\u001b[0m\u001b[0;34m,\u001b[0m \u001b[0m_debug_python_based_parser\u001b[0m\u001b[0;34m=\u001b[0m\u001b[0m_debug_python_based_parser\u001b[0m\u001b[0;34m\u001b[0m\u001b[0;34m\u001b[0m\u001b[0m\n\u001b[1;32m    176\u001b[0m     ) as iterator:\n\u001b[0;32m--> 177\u001b[0;31m         \u001b[0;32mreturn\u001b[0m \u001b[0mtree\u001b[0m\u001b[0;34m.\u001b[0m\u001b[0mVOTableFile\u001b[0m\u001b[0;34m(\u001b[0m\u001b[0mconfig\u001b[0m\u001b[0;34m=\u001b[0m\u001b[0mconfig\u001b[0m\u001b[0;34m,\u001b[0m \u001b[0mpos\u001b[0m\u001b[0;34m=\u001b[0m\u001b[0;34m(\u001b[0m\u001b[0;36m1\u001b[0m\u001b[0;34m,\u001b[0m \u001b[0;36m1\u001b[0m\u001b[0;34m)\u001b[0m\u001b[0;34m)\u001b[0m\u001b[0;34m.\u001b[0m\u001b[0mparse\u001b[0m\u001b[0;34m(\u001b[0m\u001b[0miterator\u001b[0m\u001b[0;34m,\u001b[0m \u001b[0mconfig\u001b[0m\u001b[0;34m)\u001b[0m\u001b[0;34m\u001b[0m\u001b[0;34m\u001b[0m\u001b[0m\n\u001b[0m\u001b[1;32m    178\u001b[0m \u001b[0;34m\u001b[0m\u001b[0m\n\u001b[1;32m    179\u001b[0m \u001b[0;34m\u001b[0m\u001b[0m\n",
      "\u001b[0;32m/data0/sw/anaconda3/lib/python3.8/site-packages/astropy/io/votable/tree.py\u001b[0m in \u001b[0;36mparse\u001b[0;34m(self, iterator, config)\u001b[0m\n\u001b[1;32m   3879\u001b[0m                     \u001b[0;32mbreak\u001b[0m\u001b[0;34m\u001b[0m\u001b[0;34m\u001b[0m\u001b[0m\n\u001b[1;32m   3880\u001b[0m                 \u001b[0;32melse\u001b[0m\u001b[0;34m:\u001b[0m\u001b[0;34m\u001b[0m\u001b[0;34m\u001b[0m\u001b[0m\n\u001b[0;32m-> 3881\u001b[0;31m                     \u001b[0mvo_raise\u001b[0m\u001b[0;34m(\u001b[0m\u001b[0mE19\u001b[0m\u001b[0;34m,\u001b[0m \u001b[0;34m(\u001b[0m\u001b[0;34m)\u001b[0m\u001b[0;34m,\u001b[0m \u001b[0mconfig\u001b[0m\u001b[0;34m,\u001b[0m \u001b[0mpos\u001b[0m\u001b[0;34m)\u001b[0m\u001b[0;34m\u001b[0m\u001b[0;34m\u001b[0m\u001b[0m\n\u001b[0m\u001b[1;32m   3882\u001b[0m         \u001b[0mconfig\u001b[0m\u001b[0;34m.\u001b[0m\u001b[0mupdate\u001b[0m\u001b[0;34m(\u001b[0m\u001b[0mself\u001b[0m\u001b[0;34m.\u001b[0m\u001b[0m_get_version_checks\u001b[0m\u001b[0;34m(\u001b[0m\u001b[0;34m)\u001b[0m\u001b[0;34m)\u001b[0m\u001b[0;34m\u001b[0m\u001b[0;34m\u001b[0m\u001b[0m\n\u001b[1;32m   3883\u001b[0m \u001b[0;34m\u001b[0m\u001b[0m\n",
      "\u001b[0;32m/data0/sw/anaconda3/lib/python3.8/site-packages/astropy/io/votable/exceptions.py\u001b[0m in \u001b[0;36mvo_raise\u001b[0;34m(exception_class, args, config, pos)\u001b[0m\n\u001b[1;32m    122\u001b[0m     \u001b[0;32mif\u001b[0m \u001b[0mconfig\u001b[0m \u001b[0;32mis\u001b[0m \u001b[0;32mNone\u001b[0m\u001b[0;34m:\u001b[0m\u001b[0;34m\u001b[0m\u001b[0;34m\u001b[0m\u001b[0m\n\u001b[1;32m    123\u001b[0m         \u001b[0mconfig\u001b[0m \u001b[0;34m=\u001b[0m \u001b[0;34m{\u001b[0m\u001b[0;34m}\u001b[0m\u001b[0;34m\u001b[0m\u001b[0;34m\u001b[0m\u001b[0m\n\u001b[0;32m--> 124\u001b[0;31m     \u001b[0;32mraise\u001b[0m \u001b[0mexception_class\u001b[0m\u001b[0;34m(\u001b[0m\u001b[0margs\u001b[0m\u001b[0;34m,\u001b[0m \u001b[0mconfig\u001b[0m\u001b[0;34m,\u001b[0m \u001b[0mpos\u001b[0m\u001b[0;34m)\u001b[0m\u001b[0;34m\u001b[0m\u001b[0;34m\u001b[0m\u001b[0m\n\u001b[0m\u001b[1;32m    125\u001b[0m \u001b[0;34m\u001b[0m\u001b[0m\n\u001b[1;32m    126\u001b[0m \u001b[0;34m\u001b[0m\u001b[0m\n",
      "\u001b[0;31mE19\u001b[0m: None:1:0: E19: File does not appear to be a VOTABLE"
     ]
    }
   ],
   "source": [
    "dl_results = DatalinkResults.from_result_url(results[0]['access_url'], session=auth_session)"
   ]
  },
  {
   "cell_type": "code",
   "execution_count": null,
   "id": "93f7fcff-521b-49e5-823e-6cd2f51f7d3e",
   "metadata": {},
   "outputs": [],
   "source": []
  }
 ],
 "metadata": {
  "kernelspec": {
   "display_name": "Python 3",
   "language": "python",
   "name": "python3"
  },
  "language_info": {
   "codemirror_mode": {
    "name": "ipython",
    "version": 3
   },
   "file_extension": ".py",
   "mimetype": "text/x-python",
   "name": "python",
   "nbconvert_exporter": "python",
   "pygments_lexer": "ipython3",
   "version": "3.8.8"
  }
 },
 "nbformat": 4,
 "nbformat_minor": 5
}
