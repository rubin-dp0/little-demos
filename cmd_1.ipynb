{
 "cells": [
  {
   "cell_type": "markdown",
   "id": "749b0ddf",
   "metadata": {},
   "source": [
    "<img align=\"left\" src = https://project.lsst.org/sites/default/files/Rubin-O-Logo_0.png width=170 style=\"padding: 10px\"> \n",
    "<b>Little Demo: Galaxy CMD (Color-Magnitude Diagram)</b> <br>\n",
    "Contact author(s): Melissa Graham <br>\n",
    "Last verified to run: 2023-05-11 <br>\n",
    "LSST Science Pipelines version: Weekly 2023_07 <br>\n",
    "Container Size: medium"
   ]
  },
  {
   "cell_type": "markdown",
   "id": "6613a190-029b-409b-97d7-1860f20d108b",
   "metadata": {},
   "source": [
    "Create a galaxy color-magnitude diagram (CMD).\n",
    "\n",
    "**Option** to create the same CMD in the Portal in Section 4. <br>\n",
    "\n",
    "## 1. Set up\n",
    "\n",
    "Import packages."
   ]
  },
  {
   "cell_type": "code",
   "execution_count": null,
   "id": "7acc79a4-8530-42d9-96e5-b7acb4397864",
   "metadata": {
    "tags": []
   },
   "outputs": [],
   "source": [
    "import matplotlib.pyplot as plt\n",
    "from lsst.rsp import get_tap_service, retrieve_query"
   ]
  },
  {
   "cell_type": "markdown",
   "id": "0a22f185-9f8c-466d-bf62-1fb5f425a9a1",
   "metadata": {},
   "source": [
    "Instantiate the TAP service."
   ]
  },
  {
   "cell_type": "code",
   "execution_count": null,
   "id": "1d5e324b-b6b5-4a74-8e1c-7c1af25afe63",
   "metadata": {
    "tags": []
   },
   "outputs": [],
   "source": [
    "service = get_tap_service()"
   ]
  },
  {
   "cell_type": "markdown",
   "id": "110b8791-d4f1-4b99-9f41-d0942e32dafd",
   "metadata": {},
   "source": [
    "## 2. TAP query\n",
    "\n",
    "Define the TAP query to retrieve ~40,000 bright extended Objects."
   ]
  },
  {
   "cell_type": "code",
   "execution_count": null,
   "id": "6f7b8b2d-55b4-40bd-91ec-474b2dca0a58",
   "metadata": {
    "tags": []
   },
   "outputs": [],
   "source": [
    "query = \"SELECT scisql_nanojanskyToAbMag(g_calibFlux) as gmag, \" + \\\n",
    "        \"scisql_nanojanskyToAbMag(r_calibFlux) as rmag \" + \\\n",
    "        \"FROM dp02_dc2_catalogs.Object \" + \\\n",
    "        \"WHERE CONTAINS(POINT('ICRS', coord_ra, coord_dec), \" + \\\n",
    "        \"CIRCLE('ICRS', 55.75, -32.27, 0.4)) = 1 \" + \\\n",
    "        \"AND detect_isPrimary = 1 \" + \\\n",
    "        \"AND g_extendedness = 1 AND r_extendedness = 1 \" + \\\n",
    "        \"AND scisql_nanojanskyToAbMag(g_calibFlux) < 25 \" + \\\n",
    "        \"AND scisql_nanojanskyToAbMag(r_calibFlux) < 25 \""
   ]
  },
  {
   "cell_type": "markdown",
   "id": "39c97a11-0a65-4774-ba78-df38adfcfac8",
   "metadata": {},
   "source": [
    "Execute the query, and store the results in an `astropy` table."
   ]
  },
  {
   "cell_type": "code",
   "execution_count": null,
   "id": "861c5b2d-24a7-43ff-95cf-659c9f3a82ba",
   "metadata": {
    "tags": []
   },
   "outputs": [],
   "source": [
    "results = service.search(query).to_table()"
   ]
  },
  {
   "cell_type": "markdown",
   "id": "eb51b573-5e53-4005-bacb-ad3dd5f0e795",
   "metadata": {
    "execution": {
     "iopub.execute_input": "2023-05-12T00:17:36.511459Z",
     "iopub.status.busy": "2023-05-12T00:17:36.510050Z",
     "iopub.status.idle": "2023-05-12T00:17:36.516845Z",
     "shell.execute_reply": "2023-05-12T00:17:36.515682Z",
     "shell.execute_reply.started": "2023-05-12T00:17:36.511416Z"
    }
   },
   "source": [
    "Uncomment the following cell to view the table."
   ]
  },
  {
   "cell_type": "code",
   "execution_count": null,
   "id": "ebde6504-6fb0-4e8e-aca3-552da4212b9b",
   "metadata": {
    "tags": []
   },
   "outputs": [],
   "source": [
    "# results"
   ]
  },
  {
   "cell_type": "markdown",
   "id": "f8b69d2f-16c2-4557-acca-ec599c39dc0b",
   "metadata": {},
   "source": [
    "## 3. Create the CMD\n",
    "\n",
    "Plot g-r color vs. g-band magnitude as a scatter plot."
   ]
  },
  {
   "cell_type": "code",
   "execution_count": null,
   "id": "d539da03-fc20-4db3-8c41-45d9a9a26370",
   "metadata": {
    "tags": []
   },
   "outputs": [],
   "source": [
    "plt.figure(figsize=(4,3))\n",
    "plt.plot(results['gmag'], results['gmag'] - results['rmag'], \n",
    "         'o', ms=2, color='grey', alpha=0.2, mew=0)\n",
    "plt.xlabel('g magnitude', fontsize=16)\n",
    "plt.ylabel('g-r color', fontsize=16)\n",
    "plt.show()"
   ]
  },
  {
   "cell_type": "markdown",
   "id": "8394a406-8417-4184-838d-9ce27b47259e",
   "metadata": {},
   "source": [
    "Plot g-r color vs. g-band magnitude as a heatmap (2-d histogram)."
   ]
  },
  {
   "cell_type": "code",
   "execution_count": null,
   "id": "f55693a4-8784-4681-a812-64be14e40f21",
   "metadata": {
    "tags": []
   },
   "outputs": [],
   "source": [
    "plt.figure(figsize=(4,3))\n",
    "plt.hist2d(results['gmag'], results['gmag'] - results['rmag'], \n",
    "           bins=100, cmap='Greys', norm='log')\n",
    "plt.xlabel('g magnitude', fontsize=16)\n",
    "plt.ylabel('g-r color', fontsize=16)\n",
    "plt.show()"
   ]
  },
  {
   "cell_type": "markdown",
   "id": "ccf3bbb5-eb3a-49d5-8d79-ca66da948320",
   "metadata": {
    "execution": {
     "iopub.execute_input": "2023-05-12T00:53:56.521704Z",
     "iopub.status.busy": "2023-05-12T00:53:56.520815Z",
     "iopub.status.idle": "2023-05-12T00:53:56.527196Z",
     "shell.execute_reply": "2023-05-12T00:53:56.526131Z",
     "shell.execute_reply.started": "2023-05-12T00:53:56.521669Z"
    }
   },
   "source": [
    "Matplotlib offers a variety of <a href=\"https://matplotlib.org/stable/tutorials/colors/colormaps.html\">colormaps</a> to choose from.\n",
    "\n",
    "Pick a different colormap.\n",
    "Substitute its name in for \"Greys\" in the above code cell.\n",
    "Re-execute the cell above to create a prettier plot."
   ]
  },
  {
   "cell_type": "markdown",
   "id": "9e894e04-6a73-4a4a-a505-8182d8cfb858",
   "metadata": {
    "execution": {
     "iopub.execute_input": "2023-05-08T23:17:02.858077Z",
     "iopub.status.busy": "2023-05-08T23:17:02.856977Z",
     "iopub.status.idle": "2023-05-08T23:17:02.863977Z",
     "shell.execute_reply": "2023-05-08T23:17:02.863078Z",
     "shell.execute_reply.started": "2023-05-08T23:17:02.858037Z"
    }
   },
   "source": [
    "## 4. Repeat in the Portal\n",
    "\n",
    "**Option** to execute the same query in the Portal.\n",
    "\n",
    "4.1. Go to <a href=\"https://data.lsst.cloud/\">data.lsst.cloud</a> in a new browser tab, and enter the Portal aspect.\n",
    "\n",
    "4.2. In the Portal, next to “2. Select Query Type”, switch from the default “Single Table (UI assisted)” to “Edit ADQL (advanced)”.\n",
    "\n",
    "4.3. Copy and paste the following into the \"ADQL Query\" box.\n",
    "```\n",
    "SELECT scisql_nanojanskyToAbMag(g_calibFlux) as gmag, \n",
    "scisql_nanojanskyToAbMag(r_calibFlux) as rmag \n",
    "FROM dp02_dc2_catalogs.Object \n",
    "WHERE CONTAINS(POINT('ICRS', coord_ra, coord_dec), \n",
    "               CIRCLE('ICRS', 55.75, -32.27, 0.4)) = 1 \n",
    "AND detect_isPrimary = 1 \n",
    "AND g_extendedness = 1 AND r_extendedness = 1 \n",
    "AND scisql_nanojanskyToAbMag(g_calibFlux) < 25 \n",
    "AND scisql_nanojanskyToAbMag(r_calibFlux) < 25 \n",
    "```\n",
    "\n",
    "4.4. At lower left, click \"Search\".\n",
    "The Portal will transfer to the results view, which usually has three components (sky map, xy plot, and table).\n",
    "\n",
    "4.6. Results view: since RA and Dec were not returned, the sky map either will not be shown or can be hidden by clicking the \"xy-tbl\" button at upper right.\n",
    "\n",
    "4.7. View the default xy plot, a heatmap (2-d histogram) of g-band magnitude vs. r-band magnitude (i.e., the two columns of data returned).\n",
    "\n",
    "4.8. Alter the default xy plot to be a CMD. Click on the double-gears icon at upper right to open the \"Plot Parameters\" pop-up window.\n",
    "\n",
    "4.9. Change \"Y:\" to \"gmag-rmag\" and click \"Apply\", then click \"Close\". The Portal does not currently offer the capability to log scale the heatmap bin values."
   ]
  },
  {
   "cell_type": "markdown",
   "id": "01a88466-3c63-4838-a15a-e08874379eaf",
   "metadata": {},
   "source": [
    "<img src=\"figures/cmd-1-portal-screenshot.png\" alt=\"Portal screenshot with final CMD.\" class=\"bg-primary\" width=\"500px\">\n"
   ]
  },
  {
   "cell_type": "code",
   "execution_count": null,
   "id": "a1d63223-d335-4d6f-a65c-340db9ac4164",
   "metadata": {},
   "outputs": [],
   "source": []
  }
 ],
 "metadata": {
  "kernelspec": {
   "display_name": "LSST",
   "language": "python",
   "name": "lsst"
  },
  "language_info": {
   "codemirror_mode": {
    "name": "ipython",
    "version": 3
   },
   "file_extension": ".py",
   "mimetype": "text/x-python",
   "name": "python",
   "nbconvert_exporter": "python",
   "pygments_lexer": "ipython3",
   "version": "3.10.9"
  },
  "toc-autonumbering": false
 },
 "nbformat": 4,
 "nbformat_minor": 5
}
