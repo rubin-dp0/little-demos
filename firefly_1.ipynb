{
 "cells": [
  {
   "cell_type": "markdown",
   "id": "749b0ddf",
   "metadata": {},
   "source": [
    "<img align=\"left\" src = https://project.lsst.org/sites/default/files/Rubin-O-Logo_0.png width=170 style=\"padding: 10px\"> \n",
    "<b>Little Demo: firefly</b> <br>\n",
    "Contact author(s): Melissa Graham <br>\n",
    "Last verified to run: 2023-02-17 <br>\n",
    "LSST Science Pipelines version: Weekly 2023_07 <br>\n",
    "Container Size: medium"
   ]
  },
  {
   "cell_type": "markdown",
   "id": "6613a190-029b-409b-97d7-1860f20d108b",
   "metadata": {},
   "source": [
    "Firefly is an interactive interface for image data display.\n",
    "\n",
    "More detailed tutorials are available in the <a href=\"https://github.com/rubin-dp0/tutorial-notebooks\">tutorial notebooks</a> repository.\n",
    "See tutorial notebooks 03a/b for more information about image access and display; see 04a/b for more on the `butler`.\n",
    "\n",
    "## 1. Set up\n",
    "\n",
    "Import packages."
   ]
  },
  {
   "cell_type": "code",
   "execution_count": null,
   "id": "7acc79a4-8530-42d9-96e5-b7acb4397864",
   "metadata": {
    "tags": []
   },
   "outputs": [],
   "source": [
    "import lsst.daf.butler as dafButler\n",
    "import lsst.afw.display as afwDisplay"
   ]
  },
  {
   "cell_type": "markdown",
   "id": "d2a71fda-9dc5-4b1a-9f69-3f7350475787",
   "metadata": {},
   "source": [
    "Set the default backend to Firefly."
   ]
  },
  {
   "cell_type": "code",
   "execution_count": null,
   "id": "e17e1301-0de5-48ee-8d96-47a0748b000a",
   "metadata": {},
   "outputs": [],
   "source": [
    "afwDisplay.setDefaultBackend('firefly')"
   ]
  },
  {
   "cell_type": "markdown",
   "id": "73816065-7238-40f9-96bc-e39c740dcca1",
   "metadata": {},
   "source": [
    "Executing the following cell will open Firefly in a new tab window within the Notebook Aspect.\n",
    "\n",
    "To show Firefly and a Notebook side-by-side, click and drag the Firefly tab down and to the right, and release."
   ]
  },
  {
   "cell_type": "code",
   "execution_count": null,
   "id": "04f09abe-95fe-4a14-94a9-51b5b5da886b",
   "metadata": {
    "tags": []
   },
   "outputs": [],
   "source": [
    "afw_display = afwDisplay.Display(frame=1)"
   ]
  },
  {
   "cell_type": "markdown",
   "id": "0a22f185-9f8c-466d-bf62-1fb5f425a9a1",
   "metadata": {},
   "source": [
    "Instantiate the `butler` in order to access DP0.2 images."
   ]
  },
  {
   "cell_type": "code",
   "execution_count": null,
   "id": "1d5e324b-b6b5-4a74-8e1c-7c1af25afe63",
   "metadata": {
    "tags": []
   },
   "outputs": [],
   "source": [
    "butler = dafButler.Butler('dp02', collections='2.2i/runs/DP0.2')"
   ]
  },
  {
   "cell_type": "markdown",
   "id": "110b8791-d4f1-4b99-9f41-d0942e32dafd",
   "metadata": {},
   "source": [
    "Define the `dataId` using the visit and detector of the desired image."
   ]
  },
  {
   "cell_type": "code",
   "execution_count": null,
   "id": "861c5b2d-24a7-43ff-95cf-659c9f3a82ba",
   "metadata": {},
   "outputs": [],
   "source": [
    "dataId = {'visit': 192350, 'detector': 175}"
   ]
  },
  {
   "cell_type": "markdown",
   "id": "9e894e04-6a73-4a4a-a505-8182d8cfb858",
   "metadata": {
    "execution": {
     "iopub.execute_input": "2023-05-08T23:17:02.858077Z",
     "iopub.status.busy": "2023-05-08T23:17:02.856977Z",
     "iopub.status.idle": "2023-05-08T23:17:02.863977Z",
     "shell.execute_reply": "2023-05-08T23:17:02.863078Z",
     "shell.execute_reply.started": "2023-05-08T23:17:02.858037Z"
    }
   },
   "source": [
    "Use the `butler` to retrieve the `calexp` (the processed visit image)."
   ]
  },
  {
   "cell_type": "code",
   "execution_count": null,
   "id": "aead7246-84d7-4b88-928d-5c3c3607d63a",
   "metadata": {},
   "outputs": [],
   "source": [
    "calexp = butler.get('calexp', **dataId)"
   ]
  },
  {
   "cell_type": "markdown",
   "id": "ec1a8ee2-3f7f-4411-80c9-a3ea19dce474",
   "metadata": {},
   "source": [
    "## 2. Display image"
   ]
  },
  {
   "cell_type": "code",
   "execution_count": null,
   "id": "d8013733-35f7-47a5-b721-2812c6acfdaa",
   "metadata": {
    "tags": []
   },
   "outputs": [],
   "source": [
    "afw_display.mtv(calexp)"
   ]
  },
  {
   "cell_type": "markdown",
   "id": "4bc7f3f9-16f1-4afd-a38c-bcd75036e9f7",
   "metadata": {},
   "source": [
    "The default mask transparency is 42 (default opacity is 58).\n",
    "\n",
    "The default stretch is linear, stretch to 99%."
   ]
  },
  {
   "cell_type": "markdown",
   "id": "11de86b9-8844-4ac7-ba33-9390648d10dc",
   "metadata": {},
   "source": [
    "### 2.1. Alter the mask layer transparency"
   ]
  },
  {
   "cell_type": "code",
   "execution_count": null,
   "id": "7ad00207-538a-4fd2-affa-dc89b5f65191",
   "metadata": {
    "tags": []
   },
   "outputs": [],
   "source": [
    "afw_display.setMaskTransparency(20)"
   ]
  },
  {
   "cell_type": "code",
   "execution_count": null,
   "id": "71b09f89-18d1-40a1-bb51-3a73d4f494bc",
   "metadata": {
    "tags": []
   },
   "outputs": [],
   "source": [
    "afw_display.setMaskTransparency(80)"
   ]
  },
  {
   "cell_type": "markdown",
   "id": "b9f91eff-e37a-4fa5-a0ac-7a1fcee2950b",
   "metadata": {},
   "source": [
    "Mask layer opacity can also be changed for one layer at a time from the icon that looks like a set of overlapping boxes and has hover-over text \"Manipulate overlay density\".\n",
    "\n",
    "In the layers pop-up box, click on \"Color\" for a mask, and in the \"Color Picker\" pop-up box, the opacity is parameter `A`.\n",
    "Opacity is equal to 100 minus the transparency."
   ]
  },
  {
   "cell_type": "markdown",
   "id": "82f181fd-a65c-48fd-8de2-d584f781ea6d",
   "metadata": {},
   "source": [
    "### 2.2. Alter the pixel scaling"
   ]
  },
  {
   "cell_type": "code",
   "execution_count": null,
   "id": "9fd266ab-02a8-4735-8796-693b0043d44b",
   "metadata": {},
   "outputs": [],
   "source": [
    "afw_display.scale(\"asinh\", -5, 20)"
   ]
  },
  {
   "cell_type": "markdown",
   "id": "63bdf634-3895-42e8-aff5-e884f01cd995",
   "metadata": {},
   "source": [
    "Wait while it says \"Loading Image Rendering\" across the top of the Firefly image display."
   ]
  },
  {
   "cell_type": "code",
   "execution_count": null,
   "id": "45ecb2c6-d32d-48be-a87b-b614ed2f0a8a",
   "metadata": {
    "tags": []
   },
   "outputs": [],
   "source": [
    "afw_display.scale(\"asinh\", \"zscale\")"
   ]
  },
  {
   "cell_type": "markdown",
   "id": "8ecb1912-7c70-4ea2-afc5-1f5373e7a2dc",
   "metadata": {},
   "source": [
    "This can also be done from the icon that looks like a histogram and hover-over text \"Stretch drop down\"."
   ]
  },
  {
   "cell_type": "code",
   "execution_count": null,
   "id": "e10534f9-435a-4715-ad27-7c4c2f3f95ac",
   "metadata": {},
   "outputs": [],
   "source": [
    "afw_display.scale(\"linear\", \"zscale\")"
   ]
  },
  {
   "cell_type": "markdown",
   "id": "ffec3127-d4c9-43f5-bd44-ecb26792344c",
   "metadata": {},
   "source": [
    "## 3. Overplot sources\n",
    "\n",
    "Use the `butler` to retrived detected sources in this `calexp`."
   ]
  },
  {
   "cell_type": "code",
   "execution_count": null,
   "id": "945dd190-a529-4d49-bdfd-d8e53c26aac0",
   "metadata": {
    "tags": []
   },
   "outputs": [],
   "source": [
    "src = butler.get('src', **dataId)"
   ]
  },
  {
   "cell_type": "markdown",
   "id": "a28c9d71-afcd-404b-bb7e-dd89d87b0e6d",
   "metadata": {},
   "source": [
    "Overplot the sources."
   ]
  },
  {
   "cell_type": "code",
   "execution_count": null,
   "id": "50a5fe38-94fd-4eb2-9334-68d7210d4c0a",
   "metadata": {
    "tags": []
   },
   "outputs": [],
   "source": [
    "with afw_display.Buffering():\n",
    "    for record in src:\n",
    "        afw_display.dot('o', record.getX(), record.getY(), \n",
    "                        size=20, ctype='orange')"
   ]
  },
  {
   "cell_type": "markdown",
   "id": "2c516e24-b7e0-45b8-9178-4cb4bec1b08c",
   "metadata": {},
   "source": [
    "Erase the overplotted sources."
   ]
  },
  {
   "cell_type": "code",
   "execution_count": null,
   "id": "463a1f0d-4c4b-4d38-9852-b85668f17366",
   "metadata": {},
   "outputs": [],
   "source": [
    "afw_display.erase()"
   ]
  },
  {
   "cell_type": "code",
   "execution_count": null,
   "id": "7e96967c-1b5a-49a0-b559-2fd7f8de4b33",
   "metadata": {},
   "outputs": [],
   "source": []
  }
 ],
 "metadata": {
  "kernelspec": {
   "display_name": "LSST",
   "language": "python",
   "name": "lsst"
  },
  "language_info": {
   "codemirror_mode": {
    "name": "ipython",
    "version": 3
   },
   "file_extension": ".py",
   "mimetype": "text/x-python",
   "name": "python",
   "nbconvert_exporter": "python",
   "pygments_lexer": "ipython3",
   "version": "3.10.9"
  },
  "toc-autonumbering": false
 },
 "nbformat": 4,
 "nbformat_minor": 5
}
