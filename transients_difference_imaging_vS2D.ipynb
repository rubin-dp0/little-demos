{
 "cells": [
  {
   "cell_type": "markdown",
   "id": "749b0ddf",
   "metadata": {},
   "source": [
    "<img align=\"left\" src = https://project.lsst.org/sites/default/files/Rubin-O-Logo_0.png width=170 style=\"padding: 10px\"> \n",
    "<b>Little Demo: Transients and Difference Imaging</b> <br>\n",
    "Contact author(s): Ryan Lau <br>\n",
    "Last verified to run: 2023-04-27 <br>\n",
    "LSST Science Pipelines version: Weekly 2023_07 <br>\n",
    "Container Size: medium"
   ]
  },
  {
   "cell_type": "markdown",
   "id": "ff071fc1-aa10-46b0-a5e4-cc6d3e08eec1",
   "metadata": {},
   "source": [
    "Let's check out a transient lightcurve and see what the (simulated) image products look like. We will utilize the difference-imaging analysis products as well as the Butler throughout this demo. For more information on difference-imaging analysis for transient identification, please refer to the DP0.2 tutorial notebook 07a, \"DiaObject Sample Identification.\" For more information on the Butler, please refer to the tutorial notebooks 04a and 04b.\n",
    "\n",
    "## 1. Setup and Package Imports"
   ]
  },
  {
   "cell_type": "code",
   "execution_count": null,
   "id": "c128f938-b3ca-43a4-818f-8e1c4143e402",
   "metadata": {
    "tags": []
   },
   "outputs": [],
   "source": [
    "import numpy as np\n",
    "import matplotlib.pyplot as plt\n",
    "from astropy.wcs import WCS\n",
    "from astropy.visualization import LinearStretch, ImageNormalize\n",
    "import glob\n",
    "from PIL import Image\n",
    "import warnings\n",
    "#add warning suppress\n",
    "warnings.simplefilter(\"ignore\", category=UserWarning)\n",
    "\n",
    "from astropy.stats import sigma_clipped_stats\n",
    "\n",
    "from lsst.daf.butler import Butler\n",
    "import lsst.geom as geom\n",
    "from lsst.afw.image.exposure import Exposure, ExposureF\n",
    "from lsst.pipe.tasks.registerImage import RegisterConfig, RegisterTask\n",
    "\n",
    "from lsst.rsp import get_tap_service"
   ]
  },
  {
   "cell_type": "markdown",
   "id": "26912cc0-ae49-4b05-a4d9-89457b9a2c85",
   "metadata": {},
   "source": [
    "Set up some plotting defaults so plots will look nice:"
   ]
  },
  {
   "cell_type": "code",
   "execution_count": null,
   "id": "3727b9fc-662c-4849-9ded-4e82f14cf7c8",
   "metadata": {
    "tags": []
   },
   "outputs": [],
   "source": [
    "plt.style.use('tableau-colorblind10')\n",
    "\n",
    "%matplotlib inline\n",
    "\n",
    "plt.style.use('tableau-colorblind10')\n",
    "\n",
    "plot_filter_labels = ['u', 'g', 'r', 'i', 'z', 'y']\n",
    "plot_filter_colors = {'u': '#56b4e9', 'g': '#008060', 'r': '#ff4000',\n",
    "                      'i': '#850000', 'z': '#6600cc', 'y': '#000000'}\n",
    "plot_filter_symbols = {'u': 'o', 'g': '^', 'r': 'v', 'i': 's', 'z': '*', 'y': 'p'}"
   ]
  },
  {
   "cell_type": "markdown",
   "id": "3c77197a-75d3-4cdc-8acc-6eb81186edeb",
   "metadata": {},
   "source": [
    "Start the TAP service, which we will use for all data retrieval in this notebook, and create an instance of the Butler pointing to the DP0.2 repository."
   ]
  },
  {
   "cell_type": "code",
   "execution_count": null,
   "id": "f8b5c0d2-6f26-4579-8025-2f17ca35b25c",
   "metadata": {
    "tags": []
   },
   "outputs": [],
   "source": [
    "service = get_tap_service()\n",
    "\n",
    "butler = Butler('dp02', collections='2.2i/runs/DP0.2')"
   ]
  },
  {
   "cell_type": "markdown",
   "id": "bebfdc06-3de2-49b6-9e49-c1c27e97165a",
   "metadata": {},
   "source": [
    "Defining the image cutout function"
   ]
  },
  {
   "cell_type": "code",
   "execution_count": null,
   "id": "6daf4116-f916-4f87-afc4-860be63bffd6",
   "metadata": {
    "tags": []
   },
   "outputs": [],
   "source": [
    "def cutout_im(butler, ra, dec, datasetType, visit, detector, cutoutSideLength=51, **kwargs):\n",
    "    \n",
    "    \"\"\"\n",
    "    Produce a cutout from a calexp at the given ra, dec position.\n",
    "\n",
    "    Adapted from cutout_coadd which was adapted from a DC2 tutorial\n",
    "    notebook by Michael Wood-Vasey.\n",
    "\n",
    "    \"\"\"\n",
    "    \n",
    "    dataId = {'visit': visit, 'detector': detector}    \n",
    "    radec = geom.SpherePoint(ra, dec, geom.degrees)\n",
    "    cutoutSize = geom.ExtentI(cutoutSideLength, cutoutSideLength)\n",
    "    wcs = butler.get('%s.wcs' % datasetType,**dataId)\n",
    "    xy = geom.PointI(wcs.skyToPixel(radec))\n",
    "    bbox = geom.BoxI(xy - cutoutSize // 2, cutoutSize)\n",
    "    parameters = {'bbox': bbox}\n",
    "    cutout_image = butler.get(datasetType, parameters=parameters, **dataId)\n",
    "\n",
    "    return cutout_image"
   ]
  },
  {
   "cell_type": "markdown",
   "id": "dd1b0dcb-ef2d-45ac-b389-c1f79adfa4da",
   "metadata": {},
   "source": [
    "Defining the three different reference catalogs that will be used in this demo"
   ]
  },
  {
   "cell_type": "code",
   "execution_count": null,
   "id": "f62b6815-19b2-42a8-8434-83d39296169c",
   "metadata": {
    "tags": []
   },
   "outputs": [],
   "source": [
    "diff = 'goodSeeingDiff_differenceExp'\n",
    "difftemp = 'goodSeeingDiff_templateExp'\n",
    "calexp = 'calexp'"
   ]
  },
  {
   "cell_type": "markdown",
   "id": "79330d99-c7bd-4d37-811b-52978434fcb8",
   "metadata": {},
   "source": [
    "Defining image registration function"
   ]
  },
  {
   "cell_type": "code",
   "execution_count": null,
   "id": "fb5e8e98-8cae-49db-a314-a36ef376e21b",
   "metadata": {
    "tags": []
   },
   "outputs": [],
   "source": [
    "def warp_img(ref_img, img_to_warp, ref_wcs, wcs_to_warp):\n",
    "\n",
    "    config = RegisterConfig()\n",
    "    task = RegisterTask(name=\"register\", config=config)\n",
    "    warpedExp = task.warpExposure(img_to_warp, wcs_to_warp, ref_wcs,\n",
    "                                  ref_img.getBBox())\n",
    "\n",
    "    return warpedExp"
   ]
  },
  {
   "cell_type": "markdown",
   "id": "ae822616-26bd-46c0-9ba7-805cb7a62475",
   "metadata": {},
   "source": [
    "Defining a gif-making function for making an animation of image cutouts"
   ]
  },
  {
   "cell_type": "code",
   "execution_count": null,
   "id": "b635f9d5-3321-4bfe-826d-3d73a6229608",
   "metadata": {
    "tags": []
   },
   "outputs": [],
   "source": [
    "def make_gif(frame_folder):\n",
    "    frames = [Image.open(image) for image in sorted(glob.glob(f\"{frame_folder}/*.png\"))]\n",
    "    frame_one = frames[0]\n",
    "    frame_one.save(\"animation.gif\", format=\"GIF\", append_images=frames,\n",
    "               save_all=True, duration=500, loop = 0)"
   ]
  },
  {
   "cell_type": "markdown",
   "id": "69599956-3fbe-4851-a9b3-62b80a7d922a",
   "metadata": {
    "tags": []
   },
   "source": [
    "## 2. Lightcurve of a Type Ia Supernova"
   ]
  },
  {
   "cell_type": "markdown",
   "id": "72433a32-5667-41cb-8e50-b3975403614a",
   "metadata": {},
   "source": [
    "Set the object ID of a known Type Ia supernova variable in the `ForcedSourceOnDiatObject` and `DiaSource` tables to obtain forced-source and DIA-source photometry"
   ]
  },
  {
   "cell_type": "code",
   "execution_count": null,
   "id": "ee6e9cac-2b1d-4a48-910a-691d404295bc",
   "metadata": {
    "tags": []
   },
   "outputs": [],
   "source": [
    "DiaObjID = 1252220598734556212\n",
    "\n",
    "# Define the query\n",
    "results = service.search(\"SELECT fsodo.coord_ra, fsodo.coord_dec, \"\\\n",
    "                         \"fsodo.diaObjectId, fsodo.ccdVisitId, fsodo.band, \"\\\n",
    "                         \"fsodo.psfDiffFlux, fsodo.psfDiffFluxErr, \"\\\n",
    "                         \"fsodo.psfFlux, fsodo.psfFluxErr, \"\\\n",
    "                         \"cv.expMidptMJD \"\\\n",
    "                         \"FROM dp02_dc2_catalogs.ForcedSourceOnDiaObject as fsodo \"\\\n",
    "                         \"JOIN dp02_dc2_catalogs.CcdVisit as cv ON cv.ccdVisitId = fsodo.ccdVisitId \"\\\n",
    "                         \"WHERE fsodo.diaObjectId = \"+str(DiaObjID))\n",
    "\n",
    "forcedSrc = results.to_table()\n",
    "# Sort the source catalog by observation time:\n",
    "forcedSrc.sort('expMidptMJD')\n",
    "del results\n",
    "\n",
    "results = service.search(\"SELECT ra, decl, diaObjectId, diaSourceId, psFlux, psFluxErr, \"\n",
    "                         \"filterName, midPointTai, SNR, ccdVisitId, \"\n",
    "                         \"scisql_nanojanskyToAbMag(psFlux) AS psAbMag \"\n",
    "                         \"FROM dp02_dc2_catalogs.DiaSource \"\n",
    "                         \"WHERE diaObjectId = \"+str(DiaObjID))\n",
    "diaSrc = results.to_table()\n",
    "\n",
    "# Sort the source catalog by observation time:\n",
    "diaSrc.sort('midPointTai')\n",
    "del results"
   ]
  },
  {
   "cell_type": "markdown",
   "id": "8a97996f-da86-49c0-904a-90ff16e7f996",
   "metadata": {},
   "source": [
    "Defining start and end dates from each catalog for plotting"
   ]
  },
  {
   "cell_type": "code",
   "execution_count": null,
   "id": "b8e91205-3ae8-4b35-b735-52851919818f",
   "metadata": {
    "tags": []
   },
   "outputs": [],
   "source": [
    "mjd_full_start = np.min(forcedSrc['expMidptMJD'])\n",
    "mjd_full_end = np.max(forcedSrc['expMidptMJD'])\n",
    "\n",
    "mjd_det_start = np.min(diaSrc['midPointTai'])\n",
    "mjd_det_end = np.max(diaSrc['midPointTai'])"
   ]
  },
  {
   "cell_type": "markdown",
   "id": "316fcd8a-252b-4ced-936f-c86fa032009e",
   "metadata": {},
   "source": [
    "Plotting light curves from forced photometry and DiaSource photometry"
   ]
  },
  {
   "cell_type": "code",
   "execution_count": null,
   "id": "43b07d6a-2cc2-4b01-83b3-1cf2d8645a8e",
   "metadata": {
    "tags": []
   },
   "outputs": [],
   "source": [
    "fig, ax = plt.subplots(1, 2, figsize=(12, 4), sharey=True, sharex=False)\n",
    "\n",
    "for f, filt in enumerate(plot_filter_labels):\n",
    "    fx = np.where(forcedSrc['band'] == filt)[0]\n",
    "    ax[0].plot(forcedSrc['expMidptMJD'][fx], forcedSrc['psfDiffFlux'][fx],\n",
    "               plot_filter_symbols[filt], ms=10, mew=2, mec=plot_filter_colors[filt],\n",
    "               alpha=0.5, color='none', label=filt)\n",
    "    del fx\n",
    "\n",
    "ax[0].set_xlabel('Modified Julian Date')\n",
    "ax[0].set_ylabel('Difference-Image Flux')\n",
    "ax[0].set_title('Forced Photometry (ForcedSourceOnDiaObject)')\n",
    "ax[0].set_xlim(mjd_full_start, mjd_full_end)\n",
    "ax[0].legend(loc='upper left')\n",
    "ax[0].axvspan(mjd_det_start, mjd_det_end, alpha=0.3, color='gray')\n",
    "\n",
    "for f, filt in enumerate(plot_filter_labels):\n",
    "    fx = np.where(diaSrc['filterName'] == filt)[0]\n",
    "    ax[1].plot(diaSrc['midPointTai'][fx], diaSrc['psFlux'][fx],\n",
    "               plot_filter_symbols[filt], ms=10, mew=0, color=plot_filter_colors[filt],\n",
    "               alpha=0.5, label=filt)\n",
    "    del fx\n",
    "\n",
    "ax[1].set_xlabel('Modified Julian Date')\n",
    "ax[1].set_title('SNR>5 Detections (DiaSource)')\n",
    "ax[1].set_xlim(mjd_det_start-50, mjd_det_end+50)\n",
    "ax[1].legend(loc='upper left')\n",
    "ax[1].axvspan(mjd_det_start, mjd_det_end, alpha=0.3, color='gray')\n",
    "plt.subplots_adjust(wspace=.0)\n",
    "\n",
    "plt.show()"
   ]
  },
  {
   "cell_type": "markdown",
   "id": "33e402af-449d-4ca6-b8e2-1d5f1679471d",
   "metadata": {},
   "source": [
    "## 3. Image Cutouts of the Supernova"
   ]
  },
  {
   "cell_type": "markdown",
   "id": "14d3ebc7-db47-4c79-b088-0a618e50ecad",
   "metadata": {},
   "source": [
    "Let's make a 3-panel image cutout of the supernova above. We will display the calexp image, the difference image template, and the difference image. The red dot shows the location of the SN.\n",
    "\n",
    "You can define which index of the DiaSource table you would like to display and the size of the cutout box."
   ]
  },
  {
   "cell_type": "code",
   "execution_count": null,
   "id": "620f184d-79d3-41b2-9f70-8b5871f7d856",
   "metadata": {
    "tags": []
   },
   "outputs": [],
   "source": [
    "ind = 6 #Defining the index in DiaSource table to display\n",
    "cutoutsize = 101 #Defining the size of the cutout box in pixels\n",
    "\n",
    "#-----------\n",
    "ra = forcedSrc[0]['coord_ra']\n",
    "dec = forcedSrc[0]['coord_dec']\n",
    "ccdvisitID = diaSrc[ind]['ccdVisitId']\n",
    "\n",
    "print('Displaying calexp, difference template, and difference image for diaSource',diaSrc[ind]['diaSourceId'])\n",
    "\n",
    "visit = str(ccdvisitID)[:-3]\n",
    "detector = str(ccdvisitID)[-3:]\n",
    "visit = int(visit)\n",
    "detector = int(detector)\n",
    "\n",
    "mjd = diaSrc[ind]['midPointTai']\n",
    "filt = diaSrc[ind]['filterName']\n",
    "\n",
    "print('Visit =',visit,', Detector = ', detector)\n",
    "\n",
    "cutout_diff = cutout_im(butler, ra, dec,diff, visit, detector, cutoutSideLength=cutoutsize)\n",
    "cutout_ref = cutout_im(butler, ra, dec,difftemp, visit, detector, cutoutSideLength=cutoutsize)\n",
    "cutout_calexp = cutout_im(butler, ra, dec,calexp, visit, detector, cutoutSideLength=cutoutsize)\n",
    "\n",
    "print(xy_diff)\n",
    "\n",
    "# Show subplots | shape: (1,3) \n",
    "fig, axs = plt.subplots(nrows=1, ncols=3, figsize=(16,6))\n",
    "triplet = [cutout_calexp,cutout_ref,cutout_diff]\n",
    "titles = ['calexp', 'reference template', 'difference image']\n",
    "for i, ax in enumerate(axs.flatten()):\n",
    "    plt.sca(ax)\n",
    "    ax.set_xticklabels([])\n",
    "    ax.set_yticklabels([])\n",
    "    ax.set_xticks([])\n",
    "    ax.set_yticks([])\n",
    "    plt.title('%s' % titles[i],fontsize = 18)\n",
    "    im_arr = triplet[i].image.array\n",
    "    _,im_arr_med,im_arr_std = sigma_clipped_stats(im_arr)\n",
    "    \n",
    "    minstd = -2\n",
    "    maxstd = 8\n",
    "    circle = plt.Circle((cutoutsize/2,cutoutsize/2), 0.5, color='r')\n",
    "    ax.add_patch(circle)\n",
    "    # Create an ImageNormalize object\n",
    "    norm = ImageNormalize(im_arr-im_arr_med,vmin = minstd * im_arr_std, vmax = maxstd * im_arr_std,\n",
    "                              stretch=LinearStretch())\n",
    "    plt.imshow(im_arr, origin='lower', norm=norm, cmap='gray')\n",
    "    plt.colorbar(fraction=0.046, pad=0.04)\n",
    "\n",
    "\n",
    "plt.subplots_adjust(wspace=0.4)\n",
    "plt.suptitle('MJD %.2f, Band = %s, Cutout Size = %.2f arcsec' % (mjd, filt, 0.199918 * cutoutsize),\n",
    "             y = 0.88, fontsize = 22)\n",
    "plt.show()"
   ]
  },
  {
   "cell_type": "markdown",
   "id": "b0413526-9555-48b1-ba3b-04c24bc9e471",
   "metadata": {
    "execution": {
     "iopub.execute_input": "2023-05-02T23:48:26.218382Z",
     "iopub.status.busy": "2023-05-02T23:48:26.217311Z",
     "iopub.status.idle": "2023-05-02T23:48:27.275948Z",
     "shell.execute_reply": "2023-05-02T23:48:27.274416Z",
     "shell.execute_reply.started": "2023-05-02T23:48:26.218347Z"
    },
    "tags": []
   },
   "source": [
    "The following cell will output all of the cutout images of a specified filter from the DiaSource table of the supernova into a folder labeled \"images.\"\n",
    "\n",
    "You can define which type of image cutouts are output (difference image or calexp image) as well as the cutout size. Note warnings due to NaNs in the cutouts have been cutoutsize/2,.\n",
    "\n",
    "Cutouts may fail for certain images, which is likely due to the coordinates of the supernova falling to close to the edge of a detector."
   ]
  },
  {
   "cell_type": "code",
   "execution_count": null,
   "id": "7804a954-5c13-4079-a3e6-9ea776c087b3",
   "metadata": {
    "tags": []
   },
   "outputs": [],
   "source": [
    "datasetType = diff #This will output difference image cutouts\n",
    "#datasetType = calexp #This will output calexp image cutouts\n",
    "cutoutsize = 101\n",
    "\n",
    "filt = 'i'\n",
    "fx = np.where(diaSrc['filterName']==filt)\n",
    "\n",
    "#--------\n",
    "\n",
    "\n",
    "#Set first image as reference image\n",
    "ra = forcedSrc[0]['coord_ra']\n",
    "dec = forcedSrc[0]['coord_dec']\n",
    "ccdvisitID = diaSrc[fx][0]['ccdVisitId']\n",
    "\n",
    "visit = str(ccdvisitID)[:-3]\n",
    "detector = str(ccdvisitID)[-3:]\n",
    "visit = int(visit)\n",
    "detector = int(detector)\n",
    "\n",
    "im_ref = cutout_im(butler, ra, dec, datasetType, visit, detector, cutoutSideLength=cutoutsize)\n",
    "\n",
    "#----------\n",
    "\n",
    "if os.path.exists('images'):\n",
    "    print('images/ directory already exists')\n",
    "else:\n",
    "    os.mkdir('images')\n",
    "    print('Made an images/ directory')\n",
    "    \n",
    "#Clear files out\n",
    "print('deleting contents of images folder...')\n",
    "files = glob.glob('images/*')\n",
    "for f in files:\n",
    "    os.remove(f)\n",
    "    \n",
    "for src in diaSrc[fx]:\n",
    "    ccdvisitID = src['ccdVisitId']\n",
    "    visit = str(ccdvisitID)[:-3]\n",
    "    detector = str(ccdvisitID)[-3:]\n",
    "    visit = int(visit)\n",
    "    detector = int(detector)\n",
    "    try:\n",
    "        cutout = cutout_im(butler, ra, dec, datasetType, visit, detector, cutoutSideLength=cutoutsize)\n",
    "        cutout = warp_img(im_ref,cutout, im_ref.getWcs(), cutout.getWcs())\n",
    "        fig, ax = plt.subplots()\n",
    "\n",
    "        im_arr = cutout.image.array\n",
    "        _,im_arr_med,im_arr_std = sigma_clipped_stats(im_arr)\n",
    "            \n",
    "        #Set image stretch\n",
    "        minstd = -2\n",
    "        maxstd = 3\n",
    "        \n",
    "        # Create an ImageNormalize object\n",
    "        norm = ImageNormalize(im_arr-im_arr_med,vmin = minstd * im_arr_std, vmax = maxstd * im_arr_std,\n",
    "                              stretch=LinearStretch())\n",
    "\n",
    "        plt.imshow(im_arr, origin='lower', norm=norm, cmap='gray')\n",
    "        ax.set_xticklabels([])\n",
    "        ax.set_yticklabels([])\n",
    "        #plt.title('MJD: '+str(src['midPointTai'])+'; band: '+str(src['filterName']))\n",
    "        if datasetType==diff:\n",
    "            plt.title('Difference Image - MJD: %.2f, band: %s' %(src['midPointTai'], src['filterName']))\n",
    "        elif datasetType==calexp:\n",
    "            plt.title('Calexp - MJD: %.2f, band: %s' %(src['midPointTai'], src['filterName']))\n",
    "        else:\n",
    "            pass\n",
    "        figname = 'images/cutout_'+str(src['diaSourceId'])+'.png'\n",
    "        if os.path.isfile(figname):\n",
    "            os.remove(figname)\n",
    "        plt.savefig(figname)\n",
    "        plt.close()\n",
    "    except:\n",
    "        print('Image cutout has problems for source '+str(src['diaSourceId']))"
   ]
  },
  {
   "cell_type": "markdown",
   "id": "3e161431-f1f4-4d72-838f-ca81b30e8128",
   "metadata": {},
   "source": [
    "The following cell will create an animated gif from the contents in the \"images\" folder and output it as \"animation.gif\""
   ]
  },
  {
   "cell_type": "code",
   "execution_count": null,
   "id": "c5d88686-207d-4d72-81cd-dd2154bb6386",
   "metadata": {
    "tags": []
   },
   "outputs": [],
   "source": [
    "make_gif('images')"
   ]
  },
  {
   "cell_type": "code",
   "execution_count": null,
   "id": "3980ebba-8400-4f97-971b-2ce4a698911e",
   "metadata": {},
   "outputs": [],
   "source": []
  }
 ],
 "metadata": {
  "kernelspec": {
   "display_name": "LSST",
   "language": "python",
   "name": "lsst"
  },
  "language_info": {
   "codemirror_mode": {
    "name": "ipython",
    "version": 3
   },
   "file_extension": ".py",
   "mimetype": "text/x-python",
   "name": "python",
   "nbconvert_exporter": "python",
   "pygments_lexer": "ipython3",
   "version": "3.10.9"
  },
  "toc-autonumbering": false
 },
 "nbformat": 4,
 "nbformat_minor": 5
}
