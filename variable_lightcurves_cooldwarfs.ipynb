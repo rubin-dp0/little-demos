{
 "cells": [
  {
   "cell_type": "markdown",
   "id": "749b0ddf",
   "metadata": {},
   "source": [
    "<img align=\"left\" src = https://project.lsst.org/sites/default/files/Rubin-O-Logo_0.png width=170 style=\"padding: 10px\"> \n",
    "<b>Little Demo: Light curves of cool dwarfs</b> <br>\n",
    "Contact author(s): Jeff Carlin and Yumi Choi<br>\n",
    "Last verified to run: 2024-01-25 <br>\n",
    "LSST Science Pipelines version: Weekly 2023_47 <br>\n",
    "Container Size: medium"
   ]
  },
  {
   "cell_type": "markdown",
   "id": "ff071fc1-aa10-46b0-a5e4-cc6d3e08eec1",
   "metadata": {},
   "source": [
    "Let's plot a light curve of a color-selected (red) cool dwarf to see if it shows any variability. This is a truncated version of the DP0.2 tutorial notebook 07b, \"Variable Stars in DP0.2\".\n",
    "\n",
    "## 1. Setup and Package Imports"
   ]
  },
  {
   "cell_type": "code",
   "execution_count": null,
   "id": "c128f938-b3ca-43a4-818f-8e1c4143e402",
   "metadata": {
    "tags": []
   },
   "outputs": [],
   "source": [
    "# General\n",
    "import numpy as np\n",
    "import matplotlib.pyplot as plt\n",
    "plt.style.use('tableau-colorblind10')\n",
    "\n",
    "# LSST package for TAP queries\n",
    "from lsst.rsp import get_tap_service"
   ]
  },
  {
   "cell_type": "markdown",
   "id": "26912cc0-ae49-4b05-a4d9-89457b9a2c85",
   "metadata": {},
   "source": [
    "Set up some plotting defaults so plots will look nice:"
   ]
  },
  {
   "cell_type": "code",
   "execution_count": null,
   "id": "2dfa2640-9411-4972-9d22-b3082b2b178d",
   "metadata": {
    "tags": []
   },
   "outputs": [],
   "source": [
    "params = {'axes.labelsize': 14,\n",
    "          'font.size': 14,\n",
    "          'legend.fontsize': 12,\n",
    "          'xtick.major.width': 3,\n",
    "          'xtick.minor.width': 2,\n",
    "          'xtick.major.size': 12,\n",
    "          'xtick.minor.size': 6,\n",
    "          'xtick.direction': 'in',\n",
    "          'xtick.top': True,\n",
    "          'lines.linewidth': 3,\n",
    "          'axes.linewidth': 3,\n",
    "          'axes.labelweight': 3,\n",
    "          'axes.titleweight': 3,\n",
    "          'ytick.major.width': 3,\n",
    "          'ytick.minor.width': 2,\n",
    "          'ytick.major.size': 12,\n",
    "          'ytick.minor.size': 6,\n",
    "          'ytick.direction': 'in',\n",
    "          'ytick.right': True,\n",
    "          'figure.figsize': [10, 8],\n",
    "          'figure.facecolor': 'White'\n",
    "          }\n",
    "\n",
    "plt.rcParams.update(params)\n",
    "\n",
    "plot_filter_labels = ['u', 'g', 'r', 'i', 'z', 'y']\n",
    "plot_filter_colors = {'u': '#56b4e9', 'g': '#008060', 'r': '#ff4000',\n",
    "                      'i': '#850000', 'z': '#6600cc', 'y': '#000000'}\n",
    "plot_filter_symbols = {'u': 'o', 'g': '^', 'r': 'v', 'i': 's', 'z': '*', 'y': 'p'}"
   ]
  },
  {
   "cell_type": "markdown",
   "id": "3c77197a-75d3-4cdc-8acc-6eb81186edeb",
   "metadata": {},
   "source": [
    "Start the TAP service, which we will use for all data retrieval in this notebook:"
   ]
  },
  {
   "cell_type": "code",
   "execution_count": null,
   "id": "f8b5c0d2-6f26-4579-8025-2f17ca35b25c",
   "metadata": {
    "tags": []
   },
   "outputs": [],
   "source": [
    "service = get_tap_service(\"tap\")"
   ]
  },
  {
   "cell_type": "markdown",
   "id": "69599956-3fbe-4851-a9b3-62b80a7d922a",
   "metadata": {
    "tags": []
   },
   "source": [
    "## 2. Create a lightcurve for a \"very red\" object"
   ]
  },
  {
   "cell_type": "markdown",
   "id": "72433a32-5667-41cb-8e50-b3975403614a",
   "metadata": {},
   "source": [
    "Find objects (from the `Object` table) in a 2-degree search region with very red colors in (i-z) and (z-y). Also require them to be point-like (\"extendedness = 0\") and have signal-to-noise > 5 in _izy_ bands."
   ]
  },
  {
   "cell_type": "code",
   "execution_count": null,
   "id": "54964f03-3c33-4d0e-8895-45a06ad4de81",
   "metadata": {},
   "outputs": [],
   "source": [
    "query = \"\"\"\n",
    "SELECT \n",
    "    objectId, \n",
    "    scisql_nanojanskyToAbMag(u_psfFlux) as umag,\n",
    "    scisql_nanojanskyToAbMag(g_psfFlux) as gmag, \n",
    "    scisql_nanojanskyToAbMag(r_psfFlux) as rmag,\n",
    "    scisql_nanojanskyToAbMag(i_psfFlux) as imag,\n",
    "    scisql_nanojanskyToAbMag(z_psfFlux) as zmag,\n",
    "    scisql_nanojanskyToAbMag(y_psfFlux) as ymag\n",
    "FROM dp02_dc2_catalogs.Object\n",
    "WHERE \n",
    "    CONTAINS(POINT('ICRS', coord_ra, coord_dec),\n",
    "    CIRCLE('ICRS', 55.75, -32.27, 2.0)) = 1 \n",
    "    AND detect_isPrimary = 1 \n",
    "    AND i_extendedness = 0 AND z_extendedness = 0 AND y_extendedness = 0\n",
    "    AND i_psfFlux/i_psfFluxErr > 5 \n",
    "    AND z_psfFlux/z_psfFluxErr > 5 \n",
    "    AND y_psfFlux/y_psfFluxErr > 5 \n",
    "    AND scisql_nanojanskyToAbMag(i_psfFlux)-scisql_nanojanskyToAbMag(z_psfFlux) > 1.0 \n",
    "    AND scisql_nanojanskyToAbMag(z_psfFlux)-scisql_nanojanskyToAbMag(y_psfFlux) > 0.6\n",
    "\"\"\"\n",
    "\n",
    "objects = service.search(query).to_table()\n"
   ]
  },
  {
   "cell_type": "markdown",
   "id": "c77fcf60-bec6-46c1-8e32-400f4035434d",
   "metadata": {},
   "source": [
    "Sort them by zmag to make it easy to grab the brightest stars."
   ]
  },
  {
   "cell_type": "code",
   "execution_count": null,
   "id": "c8e1a966-b05d-407a-89f6-630f143a01a7",
   "metadata": {},
   "outputs": [],
   "source": [
    "objects.sort('zmag')\n",
    "objects"
   ]
  },
  {
   "cell_type": "markdown",
   "id": "960060e3-bab2-4d5a-9bee-3f0ef7121dc9",
   "metadata": {},
   "source": [
    "Select the object ID of the brightest object returned by our color-limited search of the `Object` table, and run a search to get the forced source photometry."
   ]
  },
  {
   "cell_type": "code",
   "execution_count": null,
   "id": "ee6e9cac-2b1d-4a48-910a-691d404295bc",
   "metadata": {
    "tags": []
   },
   "outputs": [],
   "source": [
    "sel_objid = objects[0]['objectId']\n",
    "\n",
    "# Define the query\n",
    "query = \"\"\"\n",
    "SELECT \n",
    "    src.band, src.ccdVisitId, src.coord_ra, src.coord_dec,\n",
    "    src.objectId, src.psfFlux, src.psfFluxErr, \n",
    "    scisql_nanojanskyToAbMag(psfFlux) as psfMag, \n",
    "    scisql_nanojanskyToAbMagSigma(psfFlux, psfFluxErr) as psfMagErr,\n",
    "    visinfo.ccdVisitId, visinfo.band, \n",
    "    visinfo.expMidptMJD, visinfo.zeroPoint\n",
    "FROM dp02_dc2_catalogs.ForcedSource as src \n",
    "JOIN dp02_dc2_catalogs.CcdVisit as visinfo\n",
    "ON visinfo.ccdVisitId = src.ccdVisitId\n",
    "WHERE src.objectId = {}\n",
    "AND src.psfFlux/src.psfFluxErr > 5\n",
    "\"\"\".format(sel_objid)\n",
    "\n",
    "srcs = service.search(query).to_table()\n",
    "srcs.sort('expMidptMJD')"
   ]
  },
  {
   "cell_type": "markdown",
   "id": "f230c331-11a3-43db-b10e-429c8fb94b0c",
   "metadata": {},
   "source": [
    "Uncomment and execute the following cell to see what this table looks like."
   ]
  },
  {
   "cell_type": "code",
   "execution_count": null,
   "id": "840b1bbf-d1be-4b42-bf81-187b36b20271",
   "metadata": {
    "tags": []
   },
   "outputs": [],
   "source": [
    "#srcs"
   ]
  },
  {
   "cell_type": "markdown",
   "id": "680bcd70-9cd4-4d4b-b215-0d875b460379",
   "metadata": {
    "tags": []
   },
   "source": [
    "Plot the lightcurve of the object in the three reddest LSST filters (_izy_)."
   ]
  },
  {
   "cell_type": "code",
   "execution_count": null,
   "id": "09d47b1a-a0c7-4701-bd9d-5ddf326bd0db",
   "metadata": {
    "tags": []
   },
   "outputs": [],
   "source": [
    "pick = {}\n",
    "for filter in plot_filter_labels:\n",
    "    pick[filter] = (srcs['band'] == filter)\n",
    "\n",
    "fig, ax = plt.subplots(figsize=(9, 5))\n",
    "    \n",
    "for filter in plot_filter_labels[-3:]:\n",
    "    ax.plot(srcs[pick[filter]]['expMidptMJD'], srcs[pick[filter]]['psfMag'],\n",
    "    plot_filter_symbols[filter], ms=10, mew=2, mec=plot_filter_colors[filter],\n",
    "    alpha=0.5, color='none', label=filter)\n",
    "\n",
    "ax.set_xlabel('Modified Julian Date')\n",
    "ax.set_ylabel('magnitude')\n",
    "ax.set_title('light curve of selected object')\n",
    "ax.legend(bbox_to_anchor=(1.05, 1.0), loc='upper left')\n",
    "ax.invert_yaxis()\n",
    "\n",
    "plt.show()"
   ]
  },
  {
   "cell_type": "markdown",
   "id": "05aa59f6-86c7-451d-a391-137f10b432b2",
   "metadata": {},
   "source": [
    "Plot the lightcurve of the object in individual band(s) with the mean magnitude removed, including error bars on each measurement."
   ]
  },
  {
   "cell_type": "code",
   "execution_count": null,
   "id": "3745463f-070a-4ce3-a0e1-664a33c58a41",
   "metadata": {},
   "outputs": [],
   "source": [
    "minMJD = np.min([np.min(srcs[pick['i']]['expMidptMJD']),\n",
    "                 np.min(srcs[pick['z']]['expMidptMJD']),\n",
    "                 np.min(srcs[pick['y']]['expMidptMJD'])])\n",
    "maxMJD = np.max([np.max(srcs[pick['i']]['expMidptMJD']),\n",
    "                 np.max(srcs[pick['z']]['expMidptMJD']),\n",
    "                 np.max(srcs[pick['y']]['expMidptMJD'])])"
   ]
  },
  {
   "cell_type": "code",
   "execution_count": null,
   "id": "6e461d56-db00-4b1e-b9f1-c0820c22c08a",
   "metadata": {},
   "outputs": [],
   "source": [
    "fig, axs = plt.subplots(3, 1, figsize=(9, 5), sharex=True)\n",
    "fig.subplots_adjust(wspace=0, hspace=0)\n",
    "\n",
    "filter_list = ['i', 'z', 'y']\n",
    "\n",
    "panel = 0\n",
    "\n",
    "for filt in filter_list:\n",
    "    ax = axs[panel]\n",
    "    mag_mean = np.nanmean(srcs[pick[filt]]['psfMag'])\n",
    "    ax.errorbar(srcs[pick[filt]]['expMidptMJD'],\n",
    "                srcs[pick[filt]]['psfMag']-mag_mean,\n",
    "                yerr=srcs[pick[filt]]['psfMagErr'],\n",
    "                fmt=plot_filter_symbols[filt], ecolor='black',\n",
    "                elinewidth=1, capsize=2,\n",
    "                ms=5, mew=1, mec=plot_filter_colors[filt],\n",
    "                alpha=1, color='none', label=filt)\n",
    "    ax.plot(srcs[pick[filt]]['expMidptMJD'],\n",
    "            srcs[pick[filt]]['psfMag']-mag_mean,\n",
    "            color=plot_filter_colors[filt],\n",
    "            linewidth=1)\n",
    "    ax.hlines(0, minMJD-100, maxMJD+100,\n",
    "              linestyle=':', color='Gray')\n",
    "    ax.legend(loc='lower left')\n",
    "    ax.set_ylabel(r'$\\Delta mag$')\n",
    "    panel += 1\n",
    "\n",
    "plt.xlabel('Modified Julian Date')\n",
    "\n",
    "plt.show()"
   ]
  },
  {
   "cell_type": "markdown",
   "id": "c8382912-3776-4202-99fe-eeb63fc33c43",
   "metadata": {},
   "source": [
    "## 3. Repeat in the Portal"
   ]
  },
  {
   "cell_type": "markdown",
   "id": "45656ee4-0db9-46ae-a2ea-4ffea5eacf62",
   "metadata": {},
   "source": [
    "**Option** to execute the same query in the Portal.\n",
    "\n",
    "3.1. Go to <a href=\"https://data.lsst.cloud/\">data.lsst.cloud</a> in a new browser tab, and enter the Portal aspect.\n",
    "\n",
    "3.2. In the Portal, next to “View” at the upper right, switch from the default “UI assisted” to “Edit ADQL”.\n",
    "\n",
    "3.3. Copy and paste the following into the \"ADQL Query\" box.\n",
    "```\n",
    "SELECT \n",
    "    src.band, src.ccdVisitId, src.coord_ra, src.coord_dec,\n",
    "    src.objectId, src.psfFlux, src.psfFluxErr, \n",
    "    scisql_nanojanskyToAbMag(psfFlux) as psfMag, \n",
    "    scisql_nanojanskyToAbMagSigma(psfFlux, psfFluxErr) as psfMagErr,\n",
    "    visinfo.ccdVisitId, visinfo.band, \n",
    "    visinfo.expMidptMJD, visinfo.zeroPoint\n",
    "FROM dp02_dc2_catalogs.ForcedSource as src \n",
    "JOIN dp02_dc2_catalogs.CcdVisit as visinfo\n",
    "ON visinfo.ccdVisitId = src.ccdVisitId\n",
    "WHERE src.objectId = 1910115580237626260\n",
    "```\n",
    "\n",
    "3.4. At lower left, click \"Search\".\n",
    "The Portal will transfer to the results view, which has three components (sky coverage, xy plot, and table).\n",
    "\n",
    "3.5. Alter the default (ra,dec) plot to be a lightcurve plot. Click on the double-gears icon at upper right to open the \"Plot Parameters\" pop-up window.\n",
    "\n",
    "3.6. Change \"X:\" to \"expMidptMJD\" and \"Y:\" to \"psfMag\", check the \"Error\" box for the Y axis, and enter \"psfMagErr\" for plotting symmetric errorbars. In the Trace Options, use \"zeroPoint\" for the \"Color Map\", which allows us to differenciate filters. In the Chart Options, check the \"reverse\" box for the Y axis and set \"Y MIN\" and \"Y MAX\" to be 18 and 32, respectively. Finally, click on \"Apply\", then click on \"Close\"."
   ]
  },
  {
   "cell_type": "markdown",
   "id": "4fb14a0d-eeda-4b6e-ad14-e10282e55662",
   "metadata": {
    "execution": {
     "iopub.execute_input": "2024-01-24T20:40:28.860779Z",
     "iopub.status.busy": "2024-01-24T20:40:28.860491Z",
     "iopub.status.idle": "2024-01-24T20:40:28.865244Z",
     "shell.execute_reply": "2024-01-24T20:40:28.864538Z",
     "shell.execute_reply.started": "2024-01-24T20:40:28.860759Z"
    }
   },
   "source": [
    "<img src=\"figures/ucd-lc-portal-screenshot.png\" alt=\"Portal screenshot with final CMD.\" class=\"bg-primary\" width=\"800px\">"
   ]
  }
 ],
 "metadata": {
  "kernelspec": {
   "display_name": "LSST",
   "language": "python",
   "name": "lsst"
  },
  "language_info": {
   "codemirror_mode": {
    "name": "ipython",
    "version": 3
   },
   "file_extension": ".py",
   "mimetype": "text/x-python",
   "name": "python",
   "nbconvert_exporter": "python",
   "pygments_lexer": "ipython3",
   "version": "3.11.4"
  },
  "toc-autonumbering": false
 },
 "nbformat": 4,
 "nbformat_minor": 5
}
