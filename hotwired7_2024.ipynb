{
 "cells": [
  {
   "cell_type": "markdown",
   "id": "44556b44-1c35-447e-978b-e02712f7ec39",
   "metadata": {},
   "source": [
    "# Demo for Hotwired 7, May 2024\n",
    "\n",
    "Rubin Science Platform deployment: data.lsst.cloud <br>\n",
    "LSST Science Pipelines version: Weekly 2024_16 <br>\n",
    "Last verified to run: Tue May 7 2024 <br>\n",
    "Contact author: Melissa Graham <br>\n",
    "\n",
    "<br>\n",
    "\n",
    ">**Warning:** The following demonstration is extremely light on narrative descriptions\n",
    ">and is intended for supervised execution only.\n",
    "\n",
    "Learn more about the Data Preview 0 data set (e.g., image types, catalog tables)\n",
    "and the LSST Science Pipelines and Rubin Science Platform functionality using the\n",
    "documentation and resources available at <a href=\"https://dp0.lsst.io/\">dp0.lsst.io</a>.\n",
    "\n",
    "<br>\n",
    "\n",
    "\n",
    "## Introduction\n",
    "\n",
    "**Scenario**: a time-domain target of interest was identified by an alert broker,\n",
    "and now additional information beyond what is in the alert packet is desired.\n",
    "\n",
    "Alert packets only contain small (6\"x6\") image stamps, have histories\n",
    "of only 12 months, and list only the identifiers for nearby objects.\n",
    "\n",
    "This demo shows how to:\n",
    "1. Explore the r-band deeply coadded image at the target's location.\n",
    "2. Display the full historical multi-band forced photometry light curve.\n",
    "3. Get additional information about potential host galaxies.\n",
    "\n",
    "Import packages."
   ]
  },
  {
   "cell_type": "code",
   "execution_count": null,
   "id": "642fef20-f7bc-4768-a38c-94add7388367",
   "metadata": {},
   "outputs": [],
   "source": [
    "from lsst.rsp import get_tap_service\n",
    "import lsst.afw.display as afwDisplay\n",
    "from lsst.daf.butler import Butler\n",
    "import lsst.geom\n",
    "\n",
    "import numpy as np\n",
    "import matplotlib.pyplot as plt\n",
    "from astropy.coordinates import SkyCoord"
   ]
  },
  {
   "cell_type": "markdown",
   "id": "a58c158e-4a40-4ccd-bd99-58b853bf5eeb",
   "metadata": {
    "execution": {
     "iopub.execute_input": "2024-05-07T21:44:09.016892Z",
     "iopub.status.busy": "2024-05-07T21:44:09.016333Z",
     "iopub.status.idle": "2024-05-07T21:44:09.019962Z",
     "shell.execute_reply": "2024-05-07T21:44:09.019331Z",
     "shell.execute_reply.started": "2024-05-07T21:44:09.016863Z"
    }
   },
   "source": [
    "## Demo 1: Explore the r-band deeply coadded image at the target's location.\n",
    "\n",
    "Instantiate the data butler."
   ]
  },
  {
   "cell_type": "code",
   "execution_count": null,
   "id": "08821ddd-ce27-4480-a74f-80a2dadcfa05",
   "metadata": {},
   "outputs": [],
   "source": [
    "butler = Butler('dp02', collections='2.2i/runs/DP0.2')"
   ]
  },
  {
   "cell_type": "markdown",
   "id": "50c98ffa-9f76-45bd-9689-9af0ae79e3a6",
   "metadata": {},
   "source": [
    "Define the target coordinates in decimal degrees."
   ]
  },
  {
   "cell_type": "code",
   "execution_count": null,
   "id": "60106243-e95a-41de-8fc7-f991504b9deb",
   "metadata": {},
   "outputs": [],
   "source": [
    "ra = 67.4579\n",
    "dec = -44.0802"
   ]
  },
  {
   "cell_type": "markdown",
   "id": "28a29762-7cf8-40a1-b734-e362170c801f",
   "metadata": {},
   "source": [
    "The LSST deeply coadded images are divided up into tracts, and tracts into patches.\n",
    "\n",
    "Use the defined `skyMap` to obtain the tract and patch of the target coordinates."
   ]
  },
  {
   "cell_type": "code",
   "execution_count": null,
   "id": "2c276259-0062-4c52-9aa3-61f17594de96",
   "metadata": {},
   "outputs": [],
   "source": [
    "skymap = butler.get('skyMap')\n",
    "point = lsst.geom.SpherePoint(ra*lsst.geom.degrees,\n",
    "                              dec*lsst.geom.degrees)\n",
    "findTract = skymap.findTract(point)\n",
    "tract = findTract.tract_id\n",
    "patch = findTract.findPatch(point).getSequentialIndex()\n",
    "del skymap, findTract"
   ]
  },
  {
   "cell_type": "markdown",
   "id": "4e86ec67-8428-4cb1-be74-46aa48eadc92",
   "metadata": {},
   "source": [
    "Use the tract, patch, and filter of interest (r) to define the `dataId` to pass to the butler.\n",
    "\n",
    "Retrieve the deeply coadded image patch containing the target's coordinates."
   ]
  },
  {
   "cell_type": "code",
   "execution_count": null,
   "id": "56d26e93-de38-49fb-856e-6cd6db49b7b0",
   "metadata": {},
   "outputs": [],
   "source": [
    "dataId = {'band': 'r', 'tract': tract, 'patch': patch}\n",
    "image = butler.get('deepCoadd', dataId=dataId)"
   ]
  },
  {
   "cell_type": "markdown",
   "id": "609009d6-6f77-42f5-9e7c-08390b8e0e1a",
   "metadata": {},
   "source": [
    "Set the display backend to Firefly."
   ]
  },
  {
   "cell_type": "code",
   "execution_count": null,
   "id": "7df846a6-c3a1-49e8-868e-679cdd2c1b30",
   "metadata": {},
   "outputs": [],
   "source": [
    "afwDisplay.setDefaultBackend('firefly')\n",
    "afw_display = afwDisplay.Display(frame=1)"
   ]
  },
  {
   "cell_type": "markdown",
   "id": "3c87c36c-9b0a-4244-a5e4-a5a1826d146b",
   "metadata": {},
   "source": [
    "Click and drag the Firefly tab down and to the right, for split-screen view.\n",
    "\n",
    "Display the image."
   ]
  },
  {
   "cell_type": "code",
   "execution_count": null,
   "id": "b43a3064-96c8-476f-b9bf-9973d4607b21",
   "metadata": {},
   "outputs": [],
   "source": [
    "afw_display.mtv(image)"
   ]
  },
  {
   "cell_type": "markdown",
   "id": "e322bd35-2dd9-4cfd-ab79-811ce6a2d5ab",
   "metadata": {},
   "source": [
    "Set all mask planes to transparent to see only pixel data."
   ]
  },
  {
   "cell_type": "code",
   "execution_count": null,
   "id": "885cb76d-90c4-4511-a73d-8896ae7b838a",
   "metadata": {},
   "outputs": [],
   "source": [
    "afw_display.setMaskTransparency(100)"
   ]
  },
  {
   "cell_type": "markdown",
   "id": "5389f797-85fd-4d22-8d78-56adbf6c3b43",
   "metadata": {},
   "source": [
    "Notice the displayed crosshairs are in the image center, not at the target coordinates.\n",
    "\n",
    "Mark the target location.\n",
    "\n",
    "Get the image WCS, transform the sky coordinates to pixel coordinate, and use a blue circle."
   ]
  },
  {
   "cell_type": "code",
   "execution_count": null,
   "id": "d8ee2759-fe18-40e3-9162-f249f5e6de54",
   "metadata": {},
   "outputs": [],
   "source": [
    "image_wcs = image.wcs\n",
    "point_pix = image_wcs.skyToPixel(point)\n",
    "afw_display.dot('o', point_pix.getX(), point_pix.getY(),\n",
    "                size=20, ctype='blue')"
   ]
  },
  {
   "cell_type": "markdown",
   "id": "9568bf45-b180-49f7-8ccc-65b09d6a6fed",
   "metadata": {},
   "source": [
    "In the image, zoom in on the target. \n",
    "\n",
    "Play with the Firefly interface to change scaling, colormap, draw compass, make line cut plots, etc.\n",
    "\n",
    "Close the Firefly window.\n",
    "\n",
    "Clean up."
   ]
  },
  {
   "cell_type": "code",
   "execution_count": null,
   "id": "cbc3ce55-d2ec-4c56-9958-d3481c310d92",
   "metadata": {},
   "outputs": [],
   "source": [
    "del butler, ra, dec, point, tract, patch\n",
    "del dataId, image, afw_display\n",
    "del image_wcs, point_pix"
   ]
  },
  {
   "cell_type": "markdown",
   "id": "6d871033-05db-4551-a93d-eaa4e0cf1465",
   "metadata": {},
   "source": [
    "## Demo #2: Display the full historical multi-band forced photometry light curve.\n",
    "\n",
    "Instantiate the TAP service."
   ]
  },
  {
   "cell_type": "code",
   "execution_count": null,
   "id": "d78c7112-a3cc-4195-90bf-cc318c0f6be3",
   "metadata": {},
   "outputs": [],
   "source": [
    "tap_service = get_tap_service(\"tap\")"
   ]
  },
  {
   "cell_type": "markdown",
   "id": "c305beac-485b-43cc-9625-1f8f8c70afb2",
   "metadata": {},
   "source": [
    "Define colors and symbols to represent the LSST filters."
   ]
  },
  {
   "cell_type": "code",
   "execution_count": null,
   "id": "b5303da9-5219-439e-9705-040d493a2200",
   "metadata": {},
   "outputs": [],
   "source": [
    "filt_nms = ['u', 'g', 'r', 'i', 'z', 'y']\n",
    "filt_clr = {'u': '#56b4e9', 'g': '#008060', 'r': '#ff4000',\n",
    "            'i': '#850000', 'z': '#6600cc', 'y': '#000000'}\n",
    "filt_sym = {'u': 'o', 'g': '^', 'r': 'v', 'i': 's', 'z': '*', 'y': 'p'}"
   ]
  },
  {
   "cell_type": "markdown",
   "id": "008758e4-6a3a-4139-a587-7340ac62ce70",
   "metadata": {},
   "source": [
    "Create the query to retrieve all of the difference-image forced photometry available\n",
    "within 2 arcseconds of the target's location.\n",
    "\n",
    "Join with the `CcdVisit` table to obtain the time of the observation, `expMidptMJD`."
   ]
  },
  {
   "cell_type": "code",
   "execution_count": null,
   "id": "efe27df3-82de-4295-aa9f-e52c06043576",
   "metadata": {},
   "outputs": [],
   "source": [
    "str_ra = '67.4579'\n",
    "str_dec = '-44.0802'\n",
    "\n",
    "query = \"SELECT fsodo.band, fsodo.psfDiffFlux, fsodo.psfDiffFluxErr, \"\\\n",
    "        \"       fsodo.ccdVisitId, fsodo.diaObjectId, cv.expMidptMJD \"\\\n",
    "        \"FROM dp02_dc2_catalogs.ForcedSourceOnDiaObject AS fsodo \"\\\n",
    "        \"JOIN dp02_dc2_catalogs.CcdVisit AS cv ON cv.ccdVisitId = fsodo.ccdVisitId \"\\\n",
    "        \"WHERE CONTAINS(POINT('ICRS', coord_ra, coord_dec),\"\\\n",
    "        \"CIRCLE('ICRS',\" + str_ra + \", \" + str_dec + \", 0.00056))=1\""
   ]
  },
  {
   "cell_type": "markdown",
   "id": "a775433d-7847-412d-b7c8-da26a0a34c60",
   "metadata": {},
   "source": [
    "Submit the query to the TAP service.\n",
    "\n",
    "Run it asynchronously, wait for completion."
   ]
  },
  {
   "cell_type": "code",
   "execution_count": null,
   "id": "8e7d04b5-0411-45c5-98ed-cbdc7e1f7f56",
   "metadata": {},
   "outputs": [],
   "source": [
    "job = tap_service.submit_job(query)\n",
    "job.run()\n",
    "job.wait(phases=['COMPLETED', 'ERROR'])\n",
    "print('Job phase is', job.phase)"
   ]
  },
  {
   "cell_type": "markdown",
   "id": "bec61c8d-ee4e-4173-92bb-5d795c23a6a6",
   "metadata": {},
   "source": [
    "Retrieve the results."
   ]
  },
  {
   "cell_type": "code",
   "execution_count": null,
   "id": "535fc1cf-d033-4152-bcde-609ddf985539",
   "metadata": {},
   "outputs": [],
   "source": [
    "tap_results = job.fetch_result().to_table()"
   ]
  },
  {
   "cell_type": "markdown",
   "id": "9c4f5272-0f8f-43c5-9633-ff830bb5d8b8",
   "metadata": {},
   "source": [
    "How many unique `diaObjectId` were returned within 2 arcsec?"
   ]
  },
  {
   "cell_type": "code",
   "execution_count": null,
   "id": "c8d74c1c-fa15-440a-bc06-a6638d44f15b",
   "metadata": {},
   "outputs": [],
   "source": [
    "values = np.unique(tap_results['diaObjectId'])\n",
    "print(len(values))\n",
    "del values"
   ]
  },
  {
   "cell_type": "markdown",
   "id": "1dc52d5d-479a-4e8d-9ac6-aea40f17ccd8",
   "metadata": {},
   "source": [
    "Display the full historical multi-band forced photometry light curve for this one `diaObject`."
   ]
  },
  {
   "cell_type": "code",
   "execution_count": null,
   "id": "0a88ea9d-a60a-4496-bee6-2f6884dc0aae",
   "metadata": {},
   "outputs": [],
   "source": [
    "fig = plt.figure(figsize=(6, 4))\n",
    "for f, filt in enumerate(filt_nms):\n",
    "    fx = np.where(tap_results['band'] == filt)[0]\n",
    "    plt.plot(tap_results['expMidptMJD'][fx], tap_results['psfDiffFlux'][fx], \n",
    "             filt_sym[filt], ms=4, mew=0, color=filt_clr[filt], label=filt)\n",
    "    del fx\n",
    "plt.xlabel('MJD')\n",
    "plt.ylabel('Difference Flux [nJy]')\n",
    "plt.legend(loc='upper left', ncol=2)\n",
    "plt.show()"
   ]
  },
  {
   "cell_type": "markdown",
   "id": "f103ab2e-0044-4dab-b9ba-fd23419e8c60",
   "metadata": {},
   "source": [
    "Plot the forced source light curve only for observations with\n",
    "positive difference-image fluxes that have a signal-to-noise ratio > 5.\n",
    "\n",
    "Convert from nJy to magnitudes."
   ]
  },
  {
   "cell_type": "code",
   "execution_count": null,
   "id": "ce82a34a-b5f3-4b63-af6f-42f51beae264",
   "metadata": {},
   "outputs": [],
   "source": [
    "fig = plt.figure(figsize=(6, 4))\n",
    "for f, filt in enumerate(filt_nms):\n",
    "    fx = np.where((tap_results['band'] == filt) & \n",
    "                  (tap_results['psfDiffFlux'] > 5.0 * tap_results['psfDiffFluxErr']))[0]\n",
    "    days = tap_results['expMidptMJD'][fx]\n",
    "    mags = -2.5 * np.log10(tap_results['psfDiffFlux'][fx]) + 31.4\n",
    "    plt.plot(days, mags, filt_sym[filt], ms=6, mew=0, alpha=0.7,\n",
    "             color=filt_clr[filt], label=filt)\n",
    "    del fx, days, mags\n",
    "plt.xlabel('MJD')\n",
    "plt.ylabel('Difference Magnitude [mag]')\n",
    "plt.legend(loc='upper right', ncol=2)\n",
    "plt.gca().invert_yaxis()\n",
    "plt.show()"
   ]
  },
  {
   "cell_type": "markdown",
   "id": "6a905805-89e2-4285-8f08-253fb09352f0",
   "metadata": {},
   "source": [
    "In the figure above, notice that the DP0.2 simulation had instances of multiple exposures\n",
    "being obtained in the same filter in a given night.\n",
    "\n",
    "This might not be the case with the final survey strategy.\n",
    "\n",
    "Clean up."
   ]
  },
  {
   "cell_type": "code",
   "execution_count": null,
   "id": "1cdd4e71-b545-4f39-a0ca-b1ceac92fc3c",
   "metadata": {},
   "outputs": [],
   "source": [
    "del tap_service\n",
    "del filt_nms, filt_clr, filt_sym\n",
    "del str_ra, str_dec\n",
    "del query, job, tap_results"
   ]
  },
  {
   "cell_type": "markdown",
   "id": "c13bcd62-cfc3-4f47-9563-e83fd4a0d39e",
   "metadata": {},
   "source": [
    "## Demo #3: Get additional information about potential host galaxies.\n",
    "\n",
    "Instantiate the TAP service."
   ]
  },
  {
   "cell_type": "code",
   "execution_count": null,
   "id": "381a73b4-6cd4-45fc-96ce-641783290e8e",
   "metadata": {},
   "outputs": [],
   "source": [
    "tap_service = get_tap_service(\"tap\")"
   ]
  },
  {
   "cell_type": "markdown",
   "id": "f5890dcb-7033-4e77-bd70-496cd401392c",
   "metadata": {},
   "source": [
    "The scenario is that a broker has identified a `diaObject` of interest.\n",
    "\n",
    "The data defined in the following cell would have come from the alert packet:\n",
    "the `diaObjectId`, the coordinates, and the \n",
    "`ObjectId` for the three nearest galaxies (by 2D sky separation)."
   ]
  },
  {
   "cell_type": "code",
   "execution_count": null,
   "id": "40e1a3cf-84c3-4b1a-be19-f9f37e8a3e95",
   "metadata": {},
   "outputs": [],
   "source": [
    "diao_id = 1568026726510894110\n",
    "diao_coord = [63.6025914, -38.634654]\n",
    "diao_objIds = [1568026726510919266, 1568026726510919261, 1568026726510919497]"
   ]
  },
  {
   "cell_type": "markdown",
   "id": "08b950d2-d7f3-4bbe-aaab-9b830ed24025",
   "metadata": {
    "execution": {
     "iopub.execute_input": "2024-05-07T22:51:00.052113Z",
     "iopub.status.busy": "2024-05-07T22:51:00.051783Z",
     "iopub.status.idle": "2024-05-07T22:51:00.056446Z",
     "shell.execute_reply": "2024-05-07T22:51:00.055563Z",
     "shell.execute_reply.started": "2024-05-07T22:51:00.052088Z"
    }
   },
   "source": [
    "Create the query for additional information from the `Object` catalog.\n",
    "\n",
    "For this demo, object shape and magnitude in g, r, and i are returned.\n",
    "In the future, additional information such as photometric redshift could be returned."
   ]
  },
  {
   "cell_type": "code",
   "execution_count": null,
   "id": "da0bc4a7-ae2a-4a7f-8ef4-371d17674ff4",
   "metadata": {},
   "outputs": [],
   "source": [
    "list_objIds = \"(\" + ','.join(['%20i' % num for num in diao_objIds]) + \")\"\n",
    "\n",
    "query = \"SELECT objectId, coord_ra, coord_dec, refExtendedness, \"\\\n",
    "        \"shape_xx, shape_xy, shape_yy, \"\\\n",
    "        \"scisql_nanojanskyToAbMag(g_cModelFlux) AS g_cModelMag, \"\\\n",
    "        \"scisql_nanojanskyToAbMag(r_cModelFlux) AS r_cModelMag, \"\\\n",
    "        \"scisql_nanojanskyToAbMag(i_cModelFlux) AS i_cModelMag \"\\\n",
    "        \"FROM dp02_dc2_catalogs.Object \"\\\n",
    "        \"WHERE objectId IN \" + list_objIds\n",
    "del list_objIds"
   ]
  },
  {
   "cell_type": "markdown",
   "id": "6fc1d870-7d74-43bc-bbfd-26c7fdfc3ac6",
   "metadata": {
    "execution": {
     "iopub.execute_input": "2024-05-07T23:05:35.483002Z",
     "iopub.status.busy": "2024-05-07T23:05:35.482300Z",
     "iopub.status.idle": "2024-05-07T23:05:35.487458Z",
     "shell.execute_reply": "2024-05-07T23:05:35.486652Z",
     "shell.execute_reply.started": "2024-05-07T23:05:35.482971Z"
    }
   },
   "source": [
    "Submit the query to the TAP service."
   ]
  },
  {
   "cell_type": "code",
   "execution_count": null,
   "id": "fc449142-fbe7-4f4c-92ce-9c88269ba5c3",
   "metadata": {},
   "outputs": [],
   "source": [
    "job = tap_service.submit_job(query)\n",
    "job.run()\n",
    "job.wait(phases=['COMPLETED', 'ERROR'])\n",
    "print('Job phase is', job.phase)"
   ]
  },
  {
   "cell_type": "markdown",
   "id": "0633c59c-e0a1-4627-817c-990143d39c7e",
   "metadata": {},
   "source": [
    "Retrieve the results."
   ]
  },
  {
   "cell_type": "code",
   "execution_count": null,
   "id": "40baa789-5f8e-4488-8b4e-504de32b66eb",
   "metadata": {},
   "outputs": [],
   "source": [
    "tap_results = job.fetch_result().to_table()"
   ]
  },
  {
   "cell_type": "markdown",
   "id": "90a57ae4-0bb8-4a18-bbdc-b51802902f6b",
   "metadata": {},
   "source": [
    "Option to display the table."
   ]
  },
  {
   "cell_type": "code",
   "execution_count": null,
   "id": "807ff4e0-fb1c-4dae-84fd-b34190fa9c69",
   "metadata": {},
   "outputs": [],
   "source": [
    "# tap_results"
   ]
  },
  {
   "cell_type": "markdown",
   "id": "a2f7979b-7d18-4198-b162-af6f9e1e1c39",
   "metadata": {},
   "source": [
    "Calculate the 2D sky separation (`2dsep`) and the offset in elliptical radii (`ellrad`) between the\n",
    "`diaObject` of interest from the alert, and each of the three nearest extended objects.\n",
    "\n",
    "See <a href=\"https://sextractor.readthedocs.io/en/latest/Position.html#ellipse-parameters-cxx-cyy-cxy\">this description and graphic of the ellipse parameters CXX, CYY, CXY in the Source Extractor documentation by E. Bertin</a>."
   ]
  },
  {
   "cell_type": "code",
   "execution_count": null,
   "id": "7104e4cf-ea95-4ce5-ae7c-f9fb150c711a",
   "metadata": {},
   "outputs": [],
   "source": [
    "target_coord = SkyCoord(diao_coord[0], diao_coord[1], unit='deg')\n",
    "\n",
    "tap_results['2dsep'] = np.zeros(3, dtype='float')\n",
    "tap_results['ellrad'] = np.zeros(3, dtype='float')\n",
    "\n",
    "for i in range(3):\n",
    "    objra = tap_results['coord_ra'][i]\n",
    "    objdec = tap_results['coord_dec'][i]\n",
    "    objcoord = SkyCoord(objra, objdec, unit='deg')\n",
    "    del objra, objdec\n",
    "    \n",
    "    temp = objcoord.separation(target_coord)\n",
    "    tap_results['2dsep'][i] = temp.arcsec\n",
    "    del temp\n",
    "    \n",
    "    temp = objcoord.spherical_offsets_to(target_coord)\n",
    "    xr = 3600.0 * temp[0].deg\n",
    "    yr = 3600.0 * temp[1].deg\n",
    "    del temp, objcoord\n",
    "    \n",
    "    Ixx = tap_results['shape_xx'][i]\n",
    "    Iyy = tap_results['shape_yy'][i]\n",
    "    Ixy = tap_results['shape_xy'][i]\n",
    "    Cxx = Iyy / ((Ixx * Iyy) - Ixy)\n",
    "    Cyy = Ixx / ((Ixx * Iyy) - Ixy)\n",
    "    Cxy = -2.0 * (Ixy) / ((Ixx * Iyy) - Ixy)\n",
    "    tap_results['ellrad'][i] = np.sqrt((Cxx * xr**2) + (Cyy * yr**2) + (Cxy * xr * yr))\n",
    "\n",
    "    del Ixx, Iyy, Ixy, Cxx, Cyy, Cxy\n",
    "\n",
    "del target_coord"
   ]
  },
  {
   "cell_type": "code",
   "execution_count": null,
   "id": "dced44df-7331-4eac-8f73-73bc91e95f27",
   "metadata": {},
   "outputs": [],
   "source": [
    "tap_results"
   ]
  },
  {
   "cell_type": "markdown",
   "id": "ab01e02b-d570-4c87-96c4-80518a2d5b39",
   "metadata": {},
   "source": [
    "Which is the most nearby galaxy by 2D sky separation?\n",
    "\n",
    "Which is the most nearby galaxy by elliptical radii?"
   ]
  },
  {
   "cell_type": "code",
   "execution_count": null,
   "id": "d1f70e8b-128c-4163-a957-5c9185734c23",
   "metadata": {},
   "outputs": [],
   "source": [
    "m1x = np.argmin(tap_results['2dsep'])\n",
    "m2x = np.argmin(tap_results['ellrad'])\n",
    "print('Nearest galaxy and its r-band magnitude and shape_xx parameter.')\n",
    "print('2D separation:    %1i %5.2f %5.2f' % (m1x, tap_results['r_cModelMag'][m1x], tap_results['shape_xx'][m1x]))\n",
    "print('elliptical radii: %1i %5.2f %5.2f' % (m2x, tap_results['r_cModelMag'][m2x], tap_results['shape_xx'][m2x]))\n",
    "del m1x, m2x"
   ]
  },
  {
   "cell_type": "markdown",
   "id": "738c29aa-fd65-4763-b654-8028b1311996",
   "metadata": {},
   "source": [
    "Oh very interesting!\n",
    "\n",
    "So there is a fainter, smaller galaxy closer to the target in 2D sky distance -- background interloper?\n",
    "\n",
    "And there is a brighter, larger galaxy that is further from the target in 2D sky distance but closer in elliptical radii -- the potential host galaxy?"
   ]
  },
  {
   "cell_type": "markdown",
   "id": "4068e7c4-975c-4e36-8c32-7fd02b62bd10",
   "metadata": {},
   "source": [
    "Here are some other `diaObjects` to explore."
   ]
  },
  {
   "cell_type": "code",
   "execution_count": null,
   "id": "b88601c9-829a-4872-9e72-a4f060ff8bbc",
   "metadata": {},
   "outputs": [],
   "source": [
    "# diao_id = 1569909090417642499\n",
    "# diao_coord = [69.9257038, -38.1424959]\n",
    "# diao_objIds = [1569425305301455007, 1569425305301455003, 1569425305301455014]"
   ]
  },
  {
   "cell_type": "code",
   "execution_count": null,
   "id": "117563b0-a0cf-481b-82bf-b796b869dfdf",
   "metadata": {},
   "outputs": [],
   "source": [
    "# diao_id = 1653700672547196623\n",
    "# diao_coord = [70.8210894, -35.9915118]\n",
    "# diao_objIds = [1653700672547231391, 1653700672547231402, 1653700672547231397]"
   ]
  },
  {
   "cell_type": "code",
   "execution_count": null,
   "id": "0a96a061-4bec-4f1c-9014-15673c36d6fa",
   "metadata": {},
   "outputs": [],
   "source": [
    "# diao_id = 1734140943235288573\n",
    "# diao_coord = [52.5432991, -34.9028848]\n",
    "# diao_objIds = [1734140943235326493, 1734140943235293084, 1734140943235326492]"
   ]
  },
  {
   "cell_type": "code",
   "execution_count": null,
   "id": "f4ec4756-db2a-4f2c-a1bb-ecfb553f5065",
   "metadata": {},
   "outputs": [],
   "source": [
    "# diao_id = 1825796232526695593\n",
    "# diao_coord = [71.7356252, -34.2191764]\n",
    "# diao_objIds = [1739084347513803559, 1739084347513803574, 1739084347513803571]"
   ]
  },
  {
   "cell_type": "markdown",
   "id": "a6e78006-4f28-489c-accb-9ebc51091067",
   "metadata": {},
   "source": [
    "Clean up."
   ]
  },
  {
   "cell_type": "code",
   "execution_count": null,
   "id": "480a1632-d886-4396-8a95-c7cc646d54d3",
   "metadata": {},
   "outputs": [],
   "source": [
    "del tap_service\n",
    "del diao_id, diao_coord, diao_objIds\n",
    "del query, job, tap_results"
   ]
  },
  {
   "cell_type": "code",
   "execution_count": null,
   "id": "3e27d973-5e2b-49f8-9094-cb1247ff868c",
   "metadata": {},
   "outputs": [],
   "source": []
  }
 ],
 "metadata": {
  "kernelspec": {
   "display_name": "LSST",
   "language": "python",
   "name": "lsst"
  },
  "language_info": {
   "codemirror_mode": {
    "name": "ipython",
    "version": 3
   },
   "file_extension": ".py",
   "mimetype": "text/x-python",
   "name": "python",
   "nbconvert_exporter": "python",
   "pygments_lexer": "ipython3",
   "version": "3.11.7"
  }
 },
 "nbformat": 4,
 "nbformat_minor": 5
}
