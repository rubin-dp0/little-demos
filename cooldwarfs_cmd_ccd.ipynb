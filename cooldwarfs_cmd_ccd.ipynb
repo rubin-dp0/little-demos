{
 "cells": [
  {
   "cell_type": "markdown",
   "id": "749b0ddf",
   "metadata": {},
   "source": [
    "<img align=\"left\" src = https://project.lsst.org/sites/default/files/Rubin-O-Logo_0.png width=170 style=\"padding: 10px\"> \n",
    "<br><b>Little Demo: Stellar CMD (Color-Magnitude Diagram)</b> <br>\n",
    "Contact author(s): Jeff Carlin and Yumi Choi <br>\n",
    "Last verified to run: 2024-01-19 <br>\n",
    "LSST Science Pipelines version: Weekly 2023_47 <br>\n",
    "Container Size: medium"
   ]
  },
  {
   "cell_type": "markdown",
   "id": "6613a190-029b-409b-97d7-1860f20d108b",
   "metadata": {},
   "source": [
    "Create a stellar color-magnitude diagram (CMD) and color-color diagram(s).\n",
    "\n",
    "**Option** to create the same figures in the Portal in Section 5. <br>\n",
    "\n",
    "## 1. Set up\n",
    "\n",
    "Import packages."
   ]
  },
  {
   "cell_type": "code",
   "execution_count": null,
   "id": "7acc79a4-8530-42d9-96e5-b7acb4397864",
   "metadata": {
    "tags": []
   },
   "outputs": [],
   "source": [
    "import matplotlib.pyplot as plt\n",
    "from lsst.rsp import get_tap_service, retrieve_query"
   ]
  },
  {
   "cell_type": "markdown",
   "id": "0a22f185-9f8c-466d-bf62-1fb5f425a9a1",
   "metadata": {},
   "source": [
    "Instantiate the TAP service."
   ]
  },
  {
   "cell_type": "code",
   "execution_count": null,
   "id": "1d5e324b-b6b5-4a74-8e1c-7c1af25afe63",
   "metadata": {
    "tags": []
   },
   "outputs": [],
   "source": [
    "service = get_tap_service(\"tap\")"
   ]
  },
  {
   "cell_type": "markdown",
   "id": "110b8791-d4f1-4b99-9f41-d0942e32dafd",
   "metadata": {},
   "source": [
    "## 2. TAP query\n",
    "\n",
    "Define the TAP query to retrieve ~70,000 point-like Objects in a 2-degree radius region. The Object catalog contains objects detected in deep coadds."
   ]
  },
  {
   "cell_type": "code",
   "execution_count": null,
   "id": "6f7b8b2d-55b4-40bd-91ec-474b2dca0a58",
   "metadata": {
    "tags": []
   },
   "outputs": [],
   "source": [
    "query = \"SELECT scisql_nanojanskyToAbMag(g_psfFlux) as gmag, \" + \\\n",
    "        \"scisql_nanojanskyToAbMag(r_psfFlux) as rmag, \" + \\\n",
    "        \"scisql_nanojanskyToAbMag(i_psfFlux) as imag, \" + \\\n",
    "        \"scisql_nanojanskyToAbMag(z_psfFlux) as zmag, \" + \\\n",
    "        \"scisql_nanojanskyToAbMag(y_psfFlux) as ymag \" + \\\n",
    "        \"FROM dp02_dc2_catalogs.Object \" + \\\n",
    "        \"WHERE CONTAINS(POINT('ICRS', coord_ra, coord_dec), \" + \\\n",
    "        \"CIRCLE('ICRS', 55.75, -32.27, 2.0)) = 1 \" + \\\n",
    "        \"AND detect_isPrimary = 1 \" + \\\n",
    "        \"AND i_extendedness = 0 AND z_extendedness = 0 \" + \\\n",
    "        \"AND i_psfFlux/i_psfFluxErr > 5 \" + \\\n",
    "        \"AND z_psfFlux/z_psfFluxErr > 5 \" + \\\n",
    "        \"AND y_psfFlux/y_psfFluxErr > 5 \""
   ]
  },
  {
   "cell_type": "markdown",
   "id": "39c97a11-0a65-4774-ba78-df38adfcfac8",
   "metadata": {},
   "source": [
    "Execute the query, and store the results in an `astropy` table."
   ]
  },
  {
   "cell_type": "code",
   "execution_count": null,
   "id": "861c5b2d-24a7-43ff-95cf-659c9f3a82ba",
   "metadata": {
    "tags": []
   },
   "outputs": [],
   "source": [
    "results = service.search(query).to_table()"
   ]
  },
  {
   "cell_type": "markdown",
   "id": "eb51b573-5e53-4005-bacb-ad3dd5f0e795",
   "metadata": {
    "execution": {
     "iopub.execute_input": "2023-05-12T00:17:36.511459Z",
     "iopub.status.busy": "2023-05-12T00:17:36.510050Z",
     "iopub.status.idle": "2023-05-12T00:17:36.516845Z",
     "shell.execute_reply": "2023-05-12T00:17:36.515682Z",
     "shell.execute_reply.started": "2023-05-12T00:17:36.511416Z"
    }
   },
   "source": [
    "Uncomment the following cell to view the table."
   ]
  },
  {
   "cell_type": "code",
   "execution_count": null,
   "id": "ebde6504-6fb0-4e8e-aca3-552da4212b9b",
   "metadata": {
    "tags": []
   },
   "outputs": [],
   "source": [
    "# results"
   ]
  },
  {
   "cell_type": "markdown",
   "id": "f8b69d2f-16c2-4557-acca-ec599c39dc0b",
   "metadata": {},
   "source": [
    "## 3. Create the CMD\n",
    "\n",
    "Plot i-band magnitude vs. g-r color, then i-z color, as scatter plots."
   ]
  },
  {
   "cell_type": "code",
   "execution_count": null,
   "id": "d539da03-fc20-4db3-8c41-45d9a9a26370",
   "metadata": {
    "tags": []
   },
   "outputs": [],
   "source": [
    "fig, ax = plt.subplots(1, 2, figsize=(11, 4))\n",
    "plt.sca(ax[0])\n",
    "plt.plot(results['gmag'] - results['rmag'], results['imag'],\n",
    "         'o', ms=2, color='grey', alpha=0.2, mew=0)\n",
    "plt.xlabel('g-r color', fontsize=16)\n",
    "plt.ylabel('i magnitude', fontsize=16)\n",
    "plt.xlim(-0.7, 2)\n",
    "plt.ylim(26, 16)\n",
    "plt.sca(ax[1])\n",
    "plt.plot(results['imag'] - results['zmag'], results['imag'],\n",
    "         'o', ms=2, color='grey', alpha=0.2, mew=0)\n",
    "plt.xlabel('i-z color', fontsize=16)\n",
    "plt.xlim(-0.7, 2)\n",
    "plt.ylim(26, 16)\n",
    "plt.show()"
   ]
  },
  {
   "cell_type": "markdown",
   "id": "ccf3bbb5-eb3a-49d5-8d79-ca66da948320",
   "metadata": {
    "execution": {
     "iopub.execute_input": "2023-05-12T00:53:56.521704Z",
     "iopub.status.busy": "2023-05-12T00:53:56.520815Z",
     "iopub.status.idle": "2023-05-12T00:53:56.527196Z",
     "shell.execute_reply": "2023-05-12T00:53:56.526131Z",
     "shell.execute_reply.started": "2023-05-12T00:53:56.521669Z"
    }
   },
   "source": [
    "Matplotlib offers a variety of <a href=\"https://matplotlib.org/stable/tutorials/colors/colormaps.html\">colormaps</a> to choose from.\n",
    "\n",
    "Pick a different colormap.\n",
    "Substitute its name in for \"Greys\" in the above code cell.\n",
    "Re-execute the cell above to create a prettier plot."
   ]
  },
  {
   "cell_type": "markdown",
   "id": "219d5e04-5923-469e-bdaa-05441c1c6da7",
   "metadata": {},
   "source": [
    "Plot (r-i) vs. (g-r) colors:"
   ]
  },
  {
   "cell_type": "code",
   "execution_count": null,
   "id": "ee934340-f2e8-4d19-9a8b-dd64cc41b232",
   "metadata": {},
   "outputs": [],
   "source": [
    "plt.figure(figsize=(4, 4))\n",
    "plt.plot(results['gmag'] - results['rmag'], results['rmag'] - results['imag'],\n",
    "         'o', ms=2, color='grey', alpha=0.1, mew=0)\n",
    "plt.xlabel('g-r color', fontsize=16)\n",
    "plt.ylabel('r-i color', fontsize=16)\n",
    "plt.ylim(-0.7, 3)\n",
    "plt.xlim(-0.7, 2.5)\n",
    "plt.show()"
   ]
  },
  {
   "cell_type": "markdown",
   "id": "cfa459c9-caba-4a97-8ba4-ba05584e79f0",
   "metadata": {},
   "source": [
    "## 4. Examine red objects (likely cool dwarfs)\n",
    "\n",
    "Plot a (z-y) vs. (i-z) color-color diagram:"
   ]
  },
  {
   "cell_type": "code",
   "execution_count": null,
   "id": "45b05c31-faf7-46cd-816c-2805cc111be2",
   "metadata": {},
   "outputs": [],
   "source": [
    "plt.figure(figsize=(4, 4))\n",
    "plt.plot(results['imag'] - results['zmag'], results['zmag'] - results['ymag'],\n",
    "         'o', ms=2, color='grey', alpha=0.1, mew=0)\n",
    "plt.xlabel('i-z color', fontsize=16)\n",
    "plt.ylabel('z-y color', fontsize=16)\n",
    "plt.ylim(-0.7, 2.0)\n",
    "plt.xlim(-0.7, 2.5)\n",
    "plt.show()"
   ]
  },
  {
   "cell_type": "markdown",
   "id": "4846ddb2-17cb-4b6b-ba2e-361abb53af8a",
   "metadata": {},
   "source": [
    "### Select candidate L dwarfs\n",
    "\n",
    "Try a color-color selection to isolate the coolest (L-type?) dwarfs."
   ]
  },
  {
   "cell_type": "code",
   "execution_count": null,
   "id": "8513ec68-74e0-4a15-9ccb-b0855be5ec14",
   "metadata": {},
   "outputs": [],
   "source": [
    "cooldwarfs = (results['imag']-results['zmag'] > 1.0) & (results['zmag']-results['ymag'] > 1.0)"
   ]
  },
  {
   "cell_type": "markdown",
   "id": "a07e2097-0866-4e27-87ec-2d0623b699f7",
   "metadata": {},
   "source": [
    "Highlight the selected points in a CMD and color-color diagram:"
   ]
  },
  {
   "cell_type": "code",
   "execution_count": null,
   "id": "5aaa80b5-854c-4f8f-bdfc-7f3c3b446ba7",
   "metadata": {},
   "outputs": [],
   "source": [
    "fig, ax = plt.subplots(1, 2, figsize=(11, 4))\n",
    "plt.sca(ax[0])\n",
    "plt.plot(results['imag'] - results['zmag'], results['imag'],\n",
    "         'o', ms=2, color='grey', alpha=0.2, mew=0)\n",
    "plt.plot(results[cooldwarfs]['imag'] - results[cooldwarfs]['zmag'], results[cooldwarfs]['zmag'],\n",
    "         'o', ms=2, color='red', alpha=0.5, mew=0)\n",
    "plt.xlabel('i-z color', fontsize=16)\n",
    "plt.ylabel('i magnitude', fontsize=16)\n",
    "plt.xlim(-0.7, 2)\n",
    "plt.ylim(26, 16)\n",
    "plt.sca(ax[1])\n",
    "plt.plot(results['imag'] - results['zmag'], results['zmag'] - results['ymag'],\n",
    "         'o', ms=2, color='grey', alpha=0.1, mew=0)\n",
    "plt.plot(results[cooldwarfs]['imag'] - results[cooldwarfs]['zmag'],\n",
    "         results[cooldwarfs]['zmag'] - results[cooldwarfs]['ymag'],\n",
    "         'o', ms=2, color='red', alpha=0.5, mew=0)\n",
    "plt.xlabel('i-z color', fontsize=16)\n",
    "plt.ylim(-0.7, 2)\n",
    "plt.xlim(-0.7, 2.5)\n",
    "plt.show()"
   ]
  },
  {
   "cell_type": "code",
   "execution_count": null,
   "id": "83f0481c-80da-411b-9053-194787634322",
   "metadata": {},
   "outputs": [],
   "source": []
  },
  {
   "cell_type": "code",
   "execution_count": null,
   "id": "705a1ba3-9bc2-4d01-8047-73544500ca01",
   "metadata": {},
   "outputs": [],
   "source": []
  },
  {
   "cell_type": "code",
   "execution_count": null,
   "id": "2c4b25f3-efa0-4c15-a456-4dae39d94fb7",
   "metadata": {},
   "outputs": [],
   "source": []
  },
  {
   "cell_type": "code",
   "execution_count": null,
   "id": "c12f8a1d-4e00-4117-bfac-f334a8a408cd",
   "metadata": {},
   "outputs": [],
   "source": []
  },
  {
   "cell_type": "markdown",
   "id": "9e894e04-6a73-4a4a-a505-8182d8cfb858",
   "metadata": {
    "execution": {
     "iopub.execute_input": "2023-05-08T23:17:02.858077Z",
     "iopub.status.busy": "2023-05-08T23:17:02.856977Z",
     "iopub.status.idle": "2023-05-08T23:17:02.863977Z",
     "shell.execute_reply": "2023-05-08T23:17:02.863078Z",
     "shell.execute_reply.started": "2023-05-08T23:17:02.858037Z"
    }
   },
   "source": [
    "## 5. Repeat in the Portal\n",
    "\n",
    "**Option** to execute the same query in the Portal.\n",
    "\n",
    "5.1. Go to <a href=\"https://data.lsst.cloud/\">data.lsst.cloud</a> in a new browser tab, and enter the Portal aspect.\n",
    "\n",
    "5.2. In the Portal, next to “View” at the upper right, switch from the default “UI assisted” to “Edit ADQL”.\n",
    "\n",
    "5.3. Copy and paste the following into the \"ADQL Query\" box.\n",
    "```\n",
    "SELECT scisql_nanojanskyToAbMag(g_psfFlux) as gmag,\n",
    "scisql_nanojanskyToAbMag(r_psfFlux) as rmag,\n",
    "scisql_nanojanskyToAbMag(i_psfFlux) as imag,\n",
    "scisql_nanojanskyToAbMag(z_psfFlux) as zmag,\n",
    "scisql_nanojanskyToAbMag(y_psfFlux) as ymag\n",
    "FROM dp02_dc2_catalogs.Object\n",
    "WHERE CONTAINS(POINT('ICRS', coord_ra, coord_dec),\n",
    "               CIRCLE('ICRS', 55.75, -32.27, 2.0)) = 1\n",
    "AND detect_isPrimary = 1\n",
    "AND i_extendedness = 0 AND z_extendedness = 0\n",
    "AND i_psfFlux/i_psfFluxErr > 5\n",
    "AND z_psfFlux/z_psfFluxErr > 5\n",
    "AND y_psfFlux/y_psfFluxErr > 5\n",
    "```\n",
    "\n",
    "5.4. At lower left, click \"Search\".\n",
    "The Portal will transfer to the results view, which usually has three components (sky map, xy plot, and table).\n",
    "\n",
    "5.6. Results view: since RA and Dec were not returned, the sky map either will not be shown or can be hidden by clicking the \"xy-tbl\" button at upper right.\n",
    "\n",
    "5.7. View the default xy plot, a heatmap (2-d histogram) of g-band magnitude vs. r-band magnitude (i.e., the two columns of data returned).\n",
    "\n",
    "5.8. Alter the default xy plot to be a CMD. Click on the double-gears icon at upper right to open the \"Plot Parameters\" pop-up window.\n",
    "\n",
    "5.9. Change \"X:\" to \"imag-zmag\" and \"Y:\" to \"imag\", click \"Apply\", then click \"Close\". The Portal does not currently offer the capability to log scale the heatmap bin values."
   ]
  },
  {
   "cell_type": "markdown",
   "id": "01a88466-3c63-4838-a15a-e08874379eaf",
   "metadata": {},
   "source": [
    "<img src=\"figures/cmd-1-portal-screenshot.png\" alt=\"Portal screenshot with final CMD.\" class=\"bg-primary\" width=\"500px\">\n"
   ]
  },
  {
   "cell_type": "code",
   "execution_count": null,
   "id": "a1d63223-d335-4d6f-a65c-340db9ac4164",
   "metadata": {},
   "outputs": [],
   "source": []
  },
  {
   "cell_type": "code",
   "execution_count": null,
   "id": "b1492e00-2822-4086-a5b4-7534cc9b82f0",
   "metadata": {},
   "outputs": [],
   "source": []
  }
 ],
 "metadata": {
  "kernelspec": {
   "display_name": "LSST",
   "language": "python",
   "name": "lsst"
  },
  "language_info": {
   "codemirror_mode": {
    "name": "ipython",
    "version": 3
   },
   "file_extension": ".py",
   "mimetype": "text/x-python",
   "name": "python",
   "nbconvert_exporter": "python",
   "pygments_lexer": "ipython3",
   "version": "3.11.4"
  },
  "toc-autonumbering": false
 },
 "nbformat": 4,
 "nbformat_minor": 5
}
